{
 "cells": [
  {
   "cell_type": "code",
   "execution_count": 2,
   "metadata": {},
   "outputs": [],
   "source": [
    "#Import the libraries\n",
    "%matplotlib inline\n",
    "import numpy as np\n",
    "import matplotlib.pylab as plt\n",
    "import pandas as pd\n",
    "import seaborn as sns\n",
    "from scipy import stats\n",
    "import numpy as np\n",
    "import matplotlib\n",
    "sns.set_style(\"darkgrid\")"
   ]
  },
  {
   "cell_type": "markdown",
   "metadata": {},
   "source": [
    "# Cores "
   ]
  },
  {
   "cell_type": "markdown",
   "metadata": {},
   "source": [
    "To compute the core the get_homologues software is required https://github.com/eead-csic-compbio/get_homologues"
   ]
  },
  {
   "cell_type": "code",
   "execution_count": 3,
   "metadata": {},
   "outputs": [
    {
     "name": "stdout",
     "output_type": "stream",
     "text": [
      "\n",
      "[options]: \n",
      "-h \t this message\n",
      "-m \t input pangenome matrix .tab                               (required, made by compare_clusters.pl)\n",
      "-s \t report cloud,shell,soft core and core clusters            (optional, creates plot if R is installed)\n",
      "-l \t list taxa names present in clusters reported in -m matrix (optional, recommended before using -p option)\n",
      "-x \t produce matrix of intersection pangenome clusters         (optional, requires -s)\n",
      "-I \t use only taxon names included in file                     (optional, ignores -A,-g,-e)\n",
      "-A \t file with taxon names (.faa,.gbk,.nucl files) of group A  (optional, example -A clade_list_pathogenic.txt)\n",
      "-B \t file with taxon names (.faa,.gbk,.nucl files) of group B  (optional, example -B clade_list_symbiotic.txt)\n",
      "-a \t find genes/clusters which are absent in B                 (optional, requires -B)\n",
      "-g \t find genes/clusters present in A which are absent in B    (optional, requires -A & -B)\n",
      "-e \t find gene family expansions in A with respect to B        (optional, requires -A & -B)\n",
      "-S \t skip clusters with occupancy <S                           (optional, requires -x/-a/-g, example -S 2)\n",
      "-P \t percentage of genomes that must comply presence/absence   (optional, default=100, requires -g)\n"
     ]
    }
   ],
   "source": [
    "%%bash\n",
    "perl /home/val/src/get_homologues/parse_pangenome_matrix.pl -h"
   ]
  },
  {
   "cell_type": "markdown",
   "metadata": {},
   "source": [
    "# Run pangenome "
   ]
  },
  {
   "cell_type": "markdown",
   "metadata": {},
   "source": [
    "Matrix with genus taxonomic assignment from 12 metagenomic samples "
   ]
  },
  {
   "cell_type": "markdown",
   "metadata": {},
   "source": [
    "#### Example of input matrix "
   ]
  },
  {
   "cell_type": "code",
   "execution_count": 3,
   "metadata": {},
   "outputs": [
    {
     "data": {
      "text/html": [
       "<div>\n",
       "<style scoped>\n",
       "    .dataframe tbody tr th:only-of-type {\n",
       "        vertical-align: middle;\n",
       "    }\n",
       "\n",
       "    .dataframe tbody tr th {\n",
       "        vertical-align: top;\n",
       "    }\n",
       "\n",
       "    .dataframe thead th {\n",
       "        text-align: right;\n",
       "    }\n",
       "</style>\n",
       "<table border=\"1\" class=\"dataframe\">\n",
       "  <thead>\n",
       "    <tr style=\"text-align: right;\">\n",
       "      <th></th>\n",
       "      <th>non-redundant</th>\n",
       "      <th>Actinobacteria unclassified_class_1760</th>\n",
       "      <th>Actinobacteria unclassified_phylum_201174</th>\n",
       "      <th>Gemmatimonadetes unclassified_class_219685</th>\n",
       "      <th>Thermotogae unclassified_class_188708</th>\n",
       "      <th>Thermotogae unclassified_phylum_200918</th>\n",
       "      <th>Acaryochloris</th>\n",
       "      <th>Acetobacter</th>\n",
       "      <th>Acetobacteraceae unclassified</th>\n",
       "      <th>Acetobacterium</th>\n",
       "      <th>...</th>\n",
       "      <th>Xanthomonadales unclassified</th>\n",
       "      <th>Xanthomonas</th>\n",
       "      <th>Xenococcus</th>\n",
       "      <th>Xenophilus</th>\n",
       "      <th>Xenorhabdus</th>\n",
       "      <th>Xylophilus</th>\n",
       "      <th>Yersinia</th>\n",
       "      <th>Yonghaparkia</th>\n",
       "      <th>Zavarzinella</th>\n",
       "      <th>Zetaproteobacteria unclassified</th>\n",
       "    </tr>\n",
       "  </thead>\n",
       "  <tbody>\n",
       "    <tr>\n",
       "      <th>0</th>\n",
       "      <td>S1</td>\n",
       "      <td>648</td>\n",
       "      <td>53</td>\n",
       "      <td>0</td>\n",
       "      <td>0</td>\n",
       "      <td>0</td>\n",
       "      <td>1</td>\n",
       "      <td>5</td>\n",
       "      <td>35</td>\n",
       "      <td>0</td>\n",
       "      <td>...</td>\n",
       "      <td>23</td>\n",
       "      <td>30</td>\n",
       "      <td>0</td>\n",
       "      <td>0</td>\n",
       "      <td>0</td>\n",
       "      <td>0</td>\n",
       "      <td>1</td>\n",
       "      <td>3</td>\n",
       "      <td>16</td>\n",
       "      <td>0</td>\n",
       "    </tr>\n",
       "    <tr>\n",
       "      <th>1</th>\n",
       "      <td>S2</td>\n",
       "      <td>148</td>\n",
       "      <td>11</td>\n",
       "      <td>0</td>\n",
       "      <td>2</td>\n",
       "      <td>0</td>\n",
       "      <td>0</td>\n",
       "      <td>0</td>\n",
       "      <td>6</td>\n",
       "      <td>0</td>\n",
       "      <td>...</td>\n",
       "      <td>7</td>\n",
       "      <td>8</td>\n",
       "      <td>0</td>\n",
       "      <td>0</td>\n",
       "      <td>0</td>\n",
       "      <td>0</td>\n",
       "      <td>0</td>\n",
       "      <td>1</td>\n",
       "      <td>0</td>\n",
       "      <td>0</td>\n",
       "    </tr>\n",
       "    <tr>\n",
       "      <th>2</th>\n",
       "      <td>S3</td>\n",
       "      <td>612</td>\n",
       "      <td>37</td>\n",
       "      <td>0</td>\n",
       "      <td>3</td>\n",
       "      <td>0</td>\n",
       "      <td>2</td>\n",
       "      <td>5</td>\n",
       "      <td>34</td>\n",
       "      <td>0</td>\n",
       "      <td>...</td>\n",
       "      <td>32</td>\n",
       "      <td>32</td>\n",
       "      <td>7</td>\n",
       "      <td>0</td>\n",
       "      <td>0</td>\n",
       "      <td>0</td>\n",
       "      <td>1</td>\n",
       "      <td>1</td>\n",
       "      <td>0</td>\n",
       "      <td>0</td>\n",
       "    </tr>\n",
       "    <tr>\n",
       "      <th>3</th>\n",
       "      <td>S4</td>\n",
       "      <td>927</td>\n",
       "      <td>88</td>\n",
       "      <td>0</td>\n",
       "      <td>0</td>\n",
       "      <td>0</td>\n",
       "      <td>5</td>\n",
       "      <td>13</td>\n",
       "      <td>43</td>\n",
       "      <td>0</td>\n",
       "      <td>...</td>\n",
       "      <td>60</td>\n",
       "      <td>41</td>\n",
       "      <td>0</td>\n",
       "      <td>10</td>\n",
       "      <td>2</td>\n",
       "      <td>6</td>\n",
       "      <td>2</td>\n",
       "      <td>3</td>\n",
       "      <td>14</td>\n",
       "      <td>0</td>\n",
       "    </tr>\n",
       "    <tr>\n",
       "      <th>4</th>\n",
       "      <td>S5</td>\n",
       "      <td>669</td>\n",
       "      <td>62</td>\n",
       "      <td>0</td>\n",
       "      <td>0</td>\n",
       "      <td>0</td>\n",
       "      <td>4</td>\n",
       "      <td>7</td>\n",
       "      <td>34</td>\n",
       "      <td>0</td>\n",
       "      <td>...</td>\n",
       "      <td>33</td>\n",
       "      <td>38</td>\n",
       "      <td>0</td>\n",
       "      <td>3</td>\n",
       "      <td>0</td>\n",
       "      <td>0</td>\n",
       "      <td>0</td>\n",
       "      <td>3</td>\n",
       "      <td>11</td>\n",
       "      <td>1</td>\n",
       "    </tr>\n",
       "  </tbody>\n",
       "</table>\n",
       "<p>5 rows × 1432 columns</p>\n",
       "</div>"
      ],
      "text/plain": [
       "  non-redundant  Actinobacteria unclassified_class_1760  \\\n",
       "0            S1                                     648   \n",
       "1            S2                                     148   \n",
       "2            S3                                     612   \n",
       "3            S4                                     927   \n",
       "4            S5                                     669   \n",
       "\n",
       "   Actinobacteria unclassified_phylum_201174  \\\n",
       "0                                         53   \n",
       "1                                         11   \n",
       "2                                         37   \n",
       "3                                         88   \n",
       "4                                         62   \n",
       "\n",
       "   Gemmatimonadetes unclassified_class_219685  \\\n",
       "0                                           0   \n",
       "1                                           0   \n",
       "2                                           0   \n",
       "3                                           0   \n",
       "4                                           0   \n",
       "\n",
       "   Thermotogae unclassified_class_188708  \\\n",
       "0                                      0   \n",
       "1                                      2   \n",
       "2                                      3   \n",
       "3                                      0   \n",
       "4                                      0   \n",
       "\n",
       "   Thermotogae unclassified_phylum_200918  Acaryochloris  Acetobacter  \\\n",
       "0                                       0              1            5   \n",
       "1                                       0              0            0   \n",
       "2                                       0              2            5   \n",
       "3                                       0              5           13   \n",
       "4                                       0              4            7   \n",
       "\n",
       "   Acetobacteraceae unclassified  Acetobacterium  \\\n",
       "0                             35               0   \n",
       "1                              6               0   \n",
       "2                             34               0   \n",
       "3                             43               0   \n",
       "4                             34               0   \n",
       "\n",
       "                ...                 Xanthomonadales unclassified  Xanthomonas  \\\n",
       "0               ...                                           23           30   \n",
       "1               ...                                            7            8   \n",
       "2               ...                                           32           32   \n",
       "3               ...                                           60           41   \n",
       "4               ...                                           33           38   \n",
       "\n",
       "   Xenococcus  Xenophilus  Xenorhabdus  Xylophilus  Yersinia  Yonghaparkia  \\\n",
       "0           0           0            0           0         1             3   \n",
       "1           0           0            0           0         0             1   \n",
       "2           7           0            0           0         1             1   \n",
       "3           0          10            2           6         2             3   \n",
       "4           0           3            0           0         0             3   \n",
       "\n",
       "   Zavarzinella  Zetaproteobacteria unclassified  \n",
       "0            16                                0  \n",
       "1             0                                0  \n",
       "2             0                                0  \n",
       "3            14                                0  \n",
       "4            11                                1  \n",
       "\n",
       "[5 rows x 1432 columns]"
      ]
     },
     "execution_count": 3,
     "metadata": {},
     "output_type": "execute_result"
    }
   ],
   "source": [
    "genus=pd.read_table(\"../data/genusN0.tr.tsv\")\n",
    "genus.head()"
   ]
  },
  {
   "cell_type": "code",
   "execution_count": 5,
   "metadata": {
    "scrolled": true
   },
   "outputs": [
    {
     "name": "stdout",
     "output_type": "stream",
     "text": [
      "\n",
      "# /home/val/src/get_homologues/parse_pangenome_matrix.pl -m ../data/genusN0.tr.tsv -I  -A  -B  -a 0 -g 0 -e 0 -p  -s 1 -l 0 -x 0 -P 100 -S 0\n",
      "\n",
      "# matrix contains 1431 clusters and 12 taxa\n",
      "\n",
      "# cloud size: 342 list: ../data/genusN0.tr.tsv__cloud_list.txt\n",
      "# shell size: 584 list: ../data/genusN0.tr.tsv__shell_list.txt\n",
      "# soft core size: 505 list: ../data/genusN0.tr.tsv__softcore_list.txt\n",
      "# core size: 373 (included in soft core) list: ../data/genusN0.tr.tsv__core_list.txt\n",
      "\n",
      "# using default colors, defined in %COLORS\n",
      "\n",
      "# globals controlling R plots: $YLIMRATIO=1.2\n",
      "\n",
      "# shell bar plots: ../data/genusN0.tr.tsv__shell.png , ../data/genusN0.tr.tsv__shell.pdf\n",
      "# shell circle plots: ../data/genusN0.tr.tsv__shell_circle.png , ../data/genusN0.tr.tsv__shell_circle.pdf\n",
      "\n",
      "# pan-genome size estimates (Snipen mixture model PMID:19691844): ../data/genusN0.tr.tsv__shell_estimates.tab\n",
      "Core.size Pan.size BIC LogLikelihood\n",
      "2 components 373 1432 9402.56093133229 -4690.38127249681\n",
      "3 components 359 1481 6830.59046521229 -3397.12991065725\n",
      "4 components 297 1549 6604.75912112611 -3276.94810983461\n",
      "5 components 150 1580 6603.53053185617 -3269.06768642008\n",
      "6 components 157 1606 6617.45744118223 -3268.76501230356\n",
      "7 components 143 1639 6631.63391123812 -3268.58711855194\n",
      "8 components 130 1644 6646.17493992878 -3268.59150411772\n",
      "9 components 122 1585 6661.6479797305 -3269.06189523902\n",
      "10 components 114 1603 6675.90747388918 -3268.9255135388\n",
      "Sample 373 1431 NA NA\n",
      "\n",
      "\n",
      "# occupancy stats:\n",
      "\tcloud\tshell\tsoft_core\tcore\n",
      "S1\t23\t265\t502\t373\n",
      "S10\t35\t300\t498\t373\n",
      "S11\t37\t246\t490\t373\n",
      "S12\t59\t330\t503\t373\n",
      "S2\t21\t152\t421\t373\n",
      "S3\t46\t361\t501\t373\n",
      "S4\t58\t344\t501\t373\n",
      "S5\t39\t342\t504\t373\n",
      "S6\t26\t262\t499\t373\n",
      "S7\t57\t396\t503\t373\n",
      "S8\t34\t365\t503\t373\n",
      "S9\t40\t362\t503\t373\n"
     ]
    }
   ],
   "source": [
    "%%bash\n",
    "perl /home/val/src/get_homologues/parse_pangenome_matrix.pl -m ../data/genusN0.tr.tsv -s "
   ]
  },
  {
   "cell_type": "markdown",
   "metadata": {},
   "source": [
    "### Core genera"
   ]
  },
  {
   "cell_type": "markdown",
   "metadata": {},
   "source": [
    "#### Check the directory ../data/core_mats to see the output from get_homologues"
   ]
  },
  {
   "cell_type": "code",
   "execution_count": 8,
   "metadata": {},
   "outputs": [
    {
     "name": "stdout",
     "output_type": "stream",
     "text": [
      "Acetobacteraceae unclassified\n",
      "Achromobacter\n",
      "Acidiphilium\n",
      "Acidithiobacillales unclassified\n",
      "Acidobacteria unclassified\n",
      "Acidocella\n",
      "Acidovorax\n",
      "Acinetobacter\n",
      "Actinobacteria unclassified_class_1760\n",
      "Actinobacteria unclassified_phylum_201174\n"
     ]
    }
   ],
   "source": [
    "%%bash\n",
    "less -S ../data/core_mats/genusN0.tr.tsv__core_list.txt | sort | head"
   ]
  },
  {
   "cell_type": "markdown",
   "metadata": {},
   "source": [
    "# Create occupancy file to plot"
   ]
  },
  {
   "cell_type": "code",
   "execution_count": 9,
   "metadata": {},
   "outputs": [
    {
     "data": {
      "text/html": [
       "<div>\n",
       "<style scoped>\n",
       "    .dataframe tbody tr th:only-of-type {\n",
       "        vertical-align: middle;\n",
       "    }\n",
       "\n",
       "    .dataframe tbody tr th {\n",
       "        vertical-align: top;\n",
       "    }\n",
       "\n",
       "    .dataframe thead th {\n",
       "        text-align: right;\n",
       "    }\n",
       "</style>\n",
       "<table border=\"1\" class=\"dataframe\">\n",
       "  <thead>\n",
       "    <tr style=\"text-align: right;\">\n",
       "      <th></th>\n",
       "      <th>Site</th>\n",
       "      <th>Time</th>\n",
       "      <th>cloud</th>\n",
       "      <th>shell</th>\n",
       "      <th>soft_core</th>\n",
       "    </tr>\n",
       "    <tr>\n",
       "      <th>Sample_Id</th>\n",
       "      <th></th>\n",
       "      <th></th>\n",
       "      <th></th>\n",
       "      <th></th>\n",
       "      <th></th>\n",
       "    </tr>\n",
       "  </thead>\n",
       "  <tbody>\n",
       "    <tr>\n",
       "      <th>S1</th>\n",
       "      <td>a</td>\n",
       "      <td>Autumn 12</td>\n",
       "      <td>23</td>\n",
       "      <td>265</td>\n",
       "      <td>502</td>\n",
       "    </tr>\n",
       "    <tr>\n",
       "      <th>S2</th>\n",
       "      <td>b</td>\n",
       "      <td>Autumn 12</td>\n",
       "      <td>35</td>\n",
       "      <td>300</td>\n",
       "      <td>498</td>\n",
       "    </tr>\n",
       "    <tr>\n",
       "      <th>S3</th>\n",
       "      <td>c</td>\n",
       "      <td>Autumn 12</td>\n",
       "      <td>37</td>\n",
       "      <td>246</td>\n",
       "      <td>490</td>\n",
       "    </tr>\n",
       "    <tr>\n",
       "      <th>S4</th>\n",
       "      <td>a</td>\n",
       "      <td>Spring 13</td>\n",
       "      <td>59</td>\n",
       "      <td>330</td>\n",
       "      <td>503</td>\n",
       "    </tr>\n",
       "    <tr>\n",
       "      <th>S5</th>\n",
       "      <td>b</td>\n",
       "      <td>Spring 13</td>\n",
       "      <td>21</td>\n",
       "      <td>152</td>\n",
       "      <td>421</td>\n",
       "    </tr>\n",
       "    <tr>\n",
       "      <th>S6</th>\n",
       "      <td>c</td>\n",
       "      <td>Spring 13</td>\n",
       "      <td>46</td>\n",
       "      <td>361</td>\n",
       "      <td>501</td>\n",
       "    </tr>\n",
       "    <tr>\n",
       "      <th>S7</th>\n",
       "      <td>a</td>\n",
       "      <td>Autumn 13</td>\n",
       "      <td>58</td>\n",
       "      <td>344</td>\n",
       "      <td>501</td>\n",
       "    </tr>\n",
       "    <tr>\n",
       "      <th>S8</th>\n",
       "      <td>b</td>\n",
       "      <td>Autumn 13</td>\n",
       "      <td>39</td>\n",
       "      <td>342</td>\n",
       "      <td>504</td>\n",
       "    </tr>\n",
       "    <tr>\n",
       "      <th>S9</th>\n",
       "      <td>c</td>\n",
       "      <td>Autumn 13</td>\n",
       "      <td>26</td>\n",
       "      <td>262</td>\n",
       "      <td>499</td>\n",
       "    </tr>\n",
       "    <tr>\n",
       "      <th>S10</th>\n",
       "      <td>a</td>\n",
       "      <td>Spring 14</td>\n",
       "      <td>57</td>\n",
       "      <td>396</td>\n",
       "      <td>503</td>\n",
       "    </tr>\n",
       "    <tr>\n",
       "      <th>S11</th>\n",
       "      <td>b</td>\n",
       "      <td>Spring 14</td>\n",
       "      <td>34</td>\n",
       "      <td>365</td>\n",
       "      <td>503</td>\n",
       "    </tr>\n",
       "    <tr>\n",
       "      <th>S12</th>\n",
       "      <td>c</td>\n",
       "      <td>Spring 14</td>\n",
       "      <td>40</td>\n",
       "      <td>362</td>\n",
       "      <td>503</td>\n",
       "    </tr>\n",
       "  </tbody>\n",
       "</table>\n",
       "</div>"
      ],
      "text/plain": [
       "          Site         Time cloud shell soft_core\n",
       "Sample_Id                                        \n",
       "S1           a  Autumn 12      23   265       502\n",
       "S2           b  Autumn 12      35   300       498\n",
       "S3           c  Autumn 12      37   246       490\n",
       "S4           a    Spring 13    59   330       503\n",
       "S5           b    Spring 13    21   152       421\n",
       "S6           c    Spring 13    46   361       501\n",
       "S7           a    Autumn 13    58   344       501\n",
       "S8           b    Autumn 13    39   342       504\n",
       "S9           c    Autumn 13    26   262       499\n",
       "S10          a    Spring 14    57   396       503\n",
       "S11          b    Spring 14    34   365       503\n",
       "S12          c    Spring 14    40   362       503"
      ]
     },
     "execution_count": 9,
     "metadata": {},
     "output_type": "execute_result"
    }
   ],
   "source": [
    "occupancy=pd.read_table(\"../core_mats/genusN0.tr.tsv__occupancy_stats.txt\", index_col=0)\n",
    "occupancy=occupancy.T\n",
    "occupancy.T"
   ]
  },
  {
   "cell_type": "code",
   "execution_count": 10,
   "metadata": {},
   "outputs": [],
   "source": [
    "sitea=occupancy[['S1', 'S4', 'S7', 'S10']]\n",
    "siteb=occupancy[['S2', 'S5', 'S8', 'S11']]\n",
    "sitec=occupancy[['S3', 'S6', 'S9', 'S12']]\n",
    "sitea.columns=['Autumn 12','Spring 13','Autumn 13','Spring 14']\n",
    "siteb.columns=['Autumn 12','Spring 13','Autumn 13','Spring 14']\n",
    "sitec.columns=['Autumn 12','Spring 13','Autumn 13','Spring 14']"
   ]
  },
  {
   "cell_type": "code",
   "execution_count": 11,
   "metadata": {},
   "outputs": [
    {
     "data": {
      "image/png": "[encoded data removed]",
      "text/plain": [
       "<Figure size 504x288 with 1 Axes>"
      ]
     },
     "metadata": {},
     "output_type": "display_data"
    },
    {
     "data": {
      "image/png": "[encoded data removed]",
      "text/plain": [
       "<Figure size 504x288 with 1 Axes>"
      ]
     },
     "metadata": {},
     "output_type": "display_data"
    },
    {
     "data": {
      "image/png": "[encoded data removed]",
      "text/plain": [
       "<Figure size 504x288 with 1 Axes>"
      ]
     },
     "metadata": {},
     "output_type": "display_data"
    }
   ],
   "source": [
    "from numpy import median\n",
    "ax=sitea.T.plot(kind='bar',figsize=(7,4))\n",
    "plt.ylab=(\"Number of species\")\n",
    "plt.title(\"Core site A\", weight=\"bold\", size=\"large\")\n",
    "plt.xticks(rotation = 360)\n",
    "plt.ylim(0,600)\n",
    "plt.legend(bbox_to_anchor=(1, 1), loc=2, borderaxespad=0.05 ,labelspacing=0.25)\n",
    "\n",
    "ax=siteb.T.plot(kind='bar',figsize=(7,4))\n",
    "plt.xlab=(\"Number of species\")\n",
    "plt.title(\"Core site B\", weight=\"bold\", size=\"large\")\n",
    "plt.legend(bbox_to_anchor=(1, 1), loc=2, borderaxespad=0.05 ,labelspacing=0.25)\n",
    "plt.xticks(rotation = 360)\n",
    "plt.ylim(0,600)\n",
    "\n",
    "ax=sitec.T.plot(kind='bar',figsize=(7,4))\n",
    "plt.xlab=(\"Number of species\")\n",
    "plt.title(\"Core site C\", weight=\"bold\", size=\"large\")\n",
    "plt.legend(bbox_to_anchor=(1, 1), loc=2, borderaxespad=0.05 ,labelspacing=0.25)\n",
    "plt.xticks(rotation = 360)\n",
    "plt.ylim(0,600)\n",
    "plt.savefig(\"../figures/Mats_core.png\")"
   ]
  },
  {
   "cell_type": "code",
   "execution_count": 12,
   "metadata": {},
   "outputs": [
    {
     "data": {
      "image/png": "[encoded data removed]",
      "text/plain": [
       "<Figure size 504x360 with 3 Axes>"
      ]
     },
     "metadata": {},
     "output_type": "display_data"
    }
   ],
   "source": [
    "from numpy import median\n",
    "\n",
    "X = 7\n",
    "Y = 5\n",
    "fig = plt.figure(figsize=(X, Y))\n",
    "plt.subplot(311)\n",
    "\n",
    "ax = sns.barplot(x=\"Site\", y=\"cloud\", hue=\"Time\", data=occupancy.T)\n",
    "plt.legend(bbox_to_anchor=(1, 1), loc=2, borderaxespad=0.05 ,labelspacing=0.25)\n",
    "ax.xaxis.set_major_formatter(plt.NullFormatter())\n",
    "plt.tight_layout()\n",
    "\n",
    "plt.subplot(312)\n",
    "ax = sns.barplot(x=\"Site\", y=\"shell\", hue=\"Time\", data=occupancy.T)\n",
    "plt.legend(bbox_to_anchor=(1, 1), loc=2, borderaxespad=0.05 ,labelspacing=0.25)\n",
    "ax.xaxis.set_major_formatter(plt.NullFormatter())\n",
    "plt.tight_layout()\n",
    "\n",
    "plt.subplot(313)\n",
    "ax = sns.barplot(x=\"Site\", y=\"soft_core\", hue=\"Time\", data=occupancy.T)\n",
    "plt.legend(bbox_to_anchor=(1, 1), loc=2, borderaxespad=0.05 ,labelspacing=0.25)\n",
    "plt.tight_layout()\n",
    "#plt.savefig(\"../6_Figures/Core_bysite.png\", dpi=500,bbox_inches='tight')\n"
   ]
  },
  {
   "cell_type": "code",
   "execution_count": 12,
   "metadata": {},
   "outputs": [
    {
     "data": {
      "image/png": "[encoded data removed]",
      "text/plain": [
       "<matplotlib.figure.Figure at 0x7f8466df0cf8>"
      ]
     },
     "metadata": {},
     "output_type": "display_data"
    }
   ],
   "source": [
    "from numpy import median\n",
    "\n",
    "X = 7\n",
    "Y = 5\n",
    "fig = plt.figure(figsize=(X, Y))\n",
    "plt.subplot(311)\n",
    "\n",
    "ax = sns.barplot(x=\"Time\", y=\"cloud\", hue=\"Site\", data=occupancy.T)\n",
    "plt.legend(bbox_to_anchor=(1, 1), loc=2, borderaxespad=0.05 ,labelspacing=0.25)\n",
    "ax.xaxis.set_major_formatter(plt.NullFormatter())\n",
    "plt.tight_layout()\n",
    "\n",
    "plt.subplot(312)\n",
    "ax = sns.barplot(x=\"Time\", y=\"shell\", hue=\"Site\", data=occupancy.T)\n",
    "plt.legend(bbox_to_anchor=(1, 1), loc=2, borderaxespad=0.05 ,labelspacing=0.25)\n",
    "ax.xaxis.set_major_formatter(plt.NullFormatter())\n",
    "plt.tight_layout()\n",
    "\n",
    "plt.subplot(313)\n",
    "ax = sns.barplot(x=\"Time\", y=\"soft_core\", hue=\"Site\", data=occupancy.T)\n",
    "plt.legend(bbox_to_anchor=(1, 1), loc=2, borderaxespad=0.05 ,labelspacing=0.25)\n",
    "plt.tight_layout()\n",
    "#plt.savefig(\"Core_bysite.png\", dpi=500,bbox_inches='tight')\n"
   ]
  },
  {
   "cell_type": "markdown",
   "metadata": {},
   "source": [
    "# Variance"
   ]
  },
  {
   "cell_type": "code",
   "execution_count": 13,
   "metadata": {},
   "outputs": [
    {
     "name": "stdout",
     "output_type": "stream",
     "text": [
      "Var Cloud A:\t 306.9166666666667\n",
      "Var Shell A:\t 2906.9166666666665\n",
      "Var soft_core:\t 0.9166666666666666\n",
      "=====================\n",
      "Var Cloud B:\t 60.916666666666664\n",
      "Var Shell B:\t 9157.583333333334\n",
      "Var soft_core B:\t 1633.6666666666667\n",
      "=====================\n",
      "Var Cloud C:\t 70.25\n",
      "Var Shell C:\t 3894.9166666666665\n",
      "Var soft_core C:\t 32.916666666666664\n"
     ]
    }
   ],
   "source": [
    "print(\"Var Cloud A:\\t\", sitea.T.cloud.var()) \n",
    "print(\"Var Shell A:\\t\",sitea.T.shell.var())\n",
    "print(\"Var soft_core:\\t\",sitea.T.soft_core.var())\n",
    "print (\"=====================\")\n",
    "print(\"Var Cloud B:\\t\", siteb.T.cloud.var()) \n",
    "print(\"Var Shell B:\\t\",siteb.T.shell.var())\n",
    "print(\"Var soft_core B:\\t\",siteb.T.soft_core.var())\n",
    "print (\"=====================\")\n",
    "print(\"Var Cloud C:\\t\", sitec.T.cloud.var()) \n",
    "print(\"Var Shell C:\\t\",sitec.T.shell.var())\n",
    "print(\"Var soft_core C:\\t\",sitec.T.soft_core.var())"
   ]
  },
  {
   "cell_type": "markdown",
   "metadata": {},
   "source": [
    "# Site Comparision "
   ]
  },
  {
   "cell_type": "markdown",
   "metadata": {},
   "source": [
    "#### 1. *Generate files containing the identifiers of each sample*"
   ]
  },
  {
   "cell_type": "code",
   "execution_count": 14,
   "metadata": {},
   "outputs": [
    {
     "name": "stdout",
     "output_type": "stream",
     "text": [
      "==> ../data/SiteA.txt <==\n",
      "S1\n",
      "S4\n",
      "S7\n",
      "S10\n",
      "\n",
      "==> ../data/SiteB.txt <==\n",
      "S2\n",
      "S5\n",
      "S8\n",
      "S11\n",
      "\n",
      "==> ../data/SiteC.txt <==\n",
      "S3\n",
      "S6\n",
      "S9\n",
      "S12\n"
     ]
    }
   ],
   "source": [
    "%%bash \n",
    "head ../data/Site*.txt"
   ]
  },
  {
   "cell_type": "markdown",
   "metadata": {},
   "source": [
    "#### 2. *Using parse_pangenome_matrix.pl script using the same file tsrv*:"
   ]
  },
  {
   "cell_type": "markdown",
   "metadata": {},
   "source": [
    "### A vs B (present in A absent in B)"
   ]
  },
  {
   "cell_type": "code",
   "execution_count": 17,
   "metadata": {},
   "outputs": [
    {
     "name": "stdout",
     "output_type": "stream",
     "text": [
      "\n",
      "# /home/val/src/get_homologues/parse_pangenome_matrix.pl -m ../data/genusN0.tr.tsv -I  -A ../data/SiteA.txt -B ../data/SiteB.txt -a 0 -g 1 -e 0 -p  -s 0 -l 0 -x 0 -P 100 -S 0\n",
      "\n",
      "# matrix contains 1431 clusters and 12 taxa\n",
      "\n",
      "# taxa included in group A = 4\n",
      "\n",
      "# taxa included in group B = 4\n",
      "\n",
      "\n",
      "# finding genes present in A which are absent in B ...\n",
      "# file with genes present in set A and absent in B (3): ../data/genusN0.tr.tsv__pangenes_list.txt\n",
      "# /home/val/src/get_homologues/parse_pangenome_matrix.pl -m ../data/genusN0.tr.tsv -A ../data/SiteA.txt -B ../data/SiteB.txt -g 1 -e 0 -p  -P 100 -S 0\n",
      "# genes present in set A and absent in B (3):\n",
      "Anabaena\n",
      "Aromatoleum\n",
      "Phormidium\n"
     ]
    }
   ],
   "source": [
    "%%bash\n",
    "perl /home/val/src/get_homologues/parse_pangenome_matrix.pl \\\n",
    "-m ../data/genusN0.tr.tsv -g -A ../data/SiteA.txt -B ../data/SiteB.txt  \\\n",
    "&&  less  ../data/genusN0.tr.tsv__pangenes_list.txt"
   ]
  },
  {
   "cell_type": "markdown",
   "metadata": {},
   "source": [
    "### B vs A (present in B absent in A)"
   ]
  },
  {
   "cell_type": "code",
   "execution_count": 19,
   "metadata": {},
   "outputs": [
    {
     "name": "stdout",
     "output_type": "stream",
     "text": [
      "\n",
      "# /home/val/src/get_homologues/parse_pangenome_matrix.pl -m ../data/genusN0.tr.tsv -I  -A ../data/SiteB.txt -B ../data/SiteA.txt -a 0 -g 1 -e 0 -p  -s 0 -l 0 -x 0 -P 100 -S 0\n",
      "\n",
      "# matrix contains 1431 clusters and 12 taxa\n",
      "\n",
      "# taxa included in group A = 4\n",
      "\n",
      "# taxa included in group B = 4\n",
      "\n",
      "\n",
      "# finding genes present in A which are absent in B ...\n",
      "# file with genes present in set A and absent in B (2): ../data/genusN0.tr.tsv__pangenes_list.txt\n",
      "# /home/val/src/get_homologues/parse_pangenome_matrix.pl -m ../data/genusN0.tr.tsv -A ../data/SiteB.txt -B ../data/SiteA.txt -g 1 -e 0 -p  -P 100 -S 0\n",
      "# genes present in set A and absent in B (2):\n",
      "Marinilabilia\n",
      "Thermincola\n"
     ]
    }
   ],
   "source": [
    "%%bash\n",
    "perl /home/val/src/get_homologues/parse_pangenome_matrix.pl \\\n",
    "-m ../data/genusN0.tr.tsv -g -A ../data/SiteB.txt -B ../data/SiteA.txt  \\\n",
    "&&  less  ../data/genusN0.tr.tsv__pangenes_list.txt"
   ]
  },
  {
   "cell_type": "markdown",
   "metadata": {},
   "source": [
    "### A vs C (present in A absent in C)"
   ]
  },
  {
   "cell_type": "code",
   "execution_count": 20,
   "metadata": {},
   "outputs": [
    {
     "name": "stdout",
     "output_type": "stream",
     "text": [
      "\n",
      "# /home/val/src/get_homologues/parse_pangenome_matrix.pl -m ../data/genusN0.tr.tsv -I  -A ../data/SiteA.txt -B ../data/SiteC.txt -a 0 -g 1 -e 0 -p  -s 0 -l 0 -x 0 -P 100 -S 0\n",
      "\n",
      "# matrix contains 1431 clusters and 12 taxa\n",
      "\n",
      "# taxa included in group A = 4\n",
      "\n",
      "# taxa included in group B = 4\n",
      "\n",
      "\n",
      "# finding genes present in A which are absent in B ...\n",
      "# file with genes present in set A and absent in B (1): ../data/genusN0.tr.tsv__pangenes_list.txt\n",
      "# /home/val/src/get_homologues/parse_pangenome_matrix.pl -m ../data/genusN0.tr.tsv -A ../data/SiteA.txt -B ../data/SiteC.txt -g 1 -e 0 -p  -P 100 -S 0\n",
      "# genes present in set A and absent in B (1):\n",
      "Rhodothermus\n"
     ]
    }
   ],
   "source": [
    "%%bash\n",
    "perl /home/val/src/get_homologues/parse_pangenome_matrix.pl \\\n",
    "-m ../data/genusN0.tr.tsv -g -A ../data/SiteA.txt  \\\n",
    "-B ../data/SiteC.txt \\\n",
    "&&  less  ../data/genusN0.tr.tsv__pangenes_list.txt"
   ]
  },
  {
   "cell_type": "markdown",
   "metadata": {},
   "source": [
    "### C vs A (present in C absent in A)"
   ]
  },
  {
   "cell_type": "code",
   "execution_count": 32,
   "metadata": {},
   "outputs": [
    {
     "name": "stdout",
     "output_type": "stream",
     "text": [
      "\n",
      "# /home/val/src/get_homologues/parse_pangenome_matrix.pl -m ../data/genusN0.tr.tsv -I  -A ../data/SiteC.txt -B ../data/SiteA.txt -a 0 -g 1 -e 0 -p  -s 0 -l 0 -x 0 -P 100 -S 0\n",
      "\n",
      "# matrix contains 1431 clusters and 12 taxa\n",
      "\n",
      "# taxa included in group A = 4\n",
      "\n",
      "# taxa included in group B = 4\n",
      "\n",
      "\n",
      "# finding genes present in A which are absent in B ...\n",
      "# file with genes present in set A and absent in B (2): ../data/genusN0.tr.tsv__pangenes_list.txt\n",
      "# /home/val/src/get_homologues/parse_pangenome_matrix.pl -m ../data/genusN0.tr.tsv -A ../data/SiteC.txt -B ../data/SiteA.txt -g 1 -e 0 -p  -P 100 -S 0\n",
      "# genes present in set A and absent in B (2):\n",
      "Delta/epsilon subdivisions unclassified\n",
      "Methanomicrobia unclassified\n"
     ]
    }
   ],
   "source": [
    "%%bash \n",
    "perl /home/val/src/get_homologues/parse_pangenome_matrix.pl \\\n",
    "-m ../data/genusN0.tr.tsv -g -A ../data/SiteC.txt -B ../data/SiteA.txt  && \\\n",
    "head ../data/genusN0.tr.tsv__pangenes_list.txt"
   ]
  },
  {
   "cell_type": "markdown",
   "metadata": {},
   "source": [
    "### B vs C (present in B absent in C)"
   ]
  },
  {
   "cell_type": "code",
   "execution_count": 26,
   "metadata": {},
   "outputs": [
    {
     "name": "stdout",
     "output_type": "stream",
     "text": [
      "\n",
      "# /home/val/src/get_homologues/parse_pangenome_matrix.pl -m ../data/genusN0.tr.tsv -I  -A ../data/SiteB.txt -B ../data/SiteC.txt -a 0 -g 1 -e 0 -p  -s 0 -l 0 -x 0 -P 100 -S 0\n",
      "\n",
      "# matrix contains 1431 clusters and 12 taxa\n",
      "\n",
      "# taxa included in group A = 4\n",
      "\n",
      "# taxa included in group B = 4\n",
      "\n",
      "\n",
      "# finding genes present in A which are absent in B ...\n",
      "# file with genes present in set A and absent in B (0): ../data/genusN0.tr.tsv__pangenes_list.txt\n",
      "# /home/val/src/get_homologues/parse_pangenome_matrix.pl -m ../data/genusN0.tr.tsv -A ../data/SiteB.txt -B ../data/SiteC.txt -g 1 -e 0 -p  -P 100 -S 0\n",
      "# genes present in set A and absent in B (0):\n"
     ]
    }
   ],
   "source": [
    "%%bash\n",
    "perl /home/val/src/get_homologues/parse_pangenome_matrix.pl -m ../data/genusN0.tr.tsv -g \\\n",
    "-A ../data/SiteB.txt -B ../data/SiteC.txt \\\n",
    "&&  head  ../data/genusN0.tr.tsv__pangenes_list.txt"
   ]
  },
  {
   "cell_type": "markdown",
   "metadata": {},
   "source": [
    "### C vs B (present in C absent in B)"
   ]
  },
  {
   "cell_type": "code",
   "execution_count": 29,
   "metadata": {},
   "outputs": [
    {
     "name": "stdout",
     "output_type": "stream",
     "text": [
      "\n",
      "# /home/val/src/get_homologues/parse_pangenome_matrix.pl -m ../data/genusN0.tr.tsv -I  -A ../data/SiteC.txt -B ../data/SiteB.txt -a 0 -g 1 -e 0 -p  -s 0 -l 0 -x 0 -P 100 -S 0\n",
      "\n",
      "# matrix contains 1431 clusters and 12 taxa\n",
      "\n",
      "# taxa included in group A = 4\n",
      "\n",
      "# taxa included in group B = 4\n",
      "\n",
      "\n",
      "# finding genes present in A which are absent in B ...\n",
      "# file with genes present in set A and absent in B (1): ../data/genusN0.tr.tsv__pangenes_list.txt\n",
      "# /home/val/src/get_homologues/parse_pangenome_matrix.pl -m ../data/genusN0.tr.tsv -A ../data/SiteC.txt -B ../data/SiteB.txt -g 1 -e 0 -p  -P 100 -S 0\n",
      "# genes present in set A and absent in B (1):\n",
      "Glycomyces\n"
     ]
    }
   ],
   "source": [
    "%%bash\n",
    "perl /home/val/src/get_homologues/parse_pangenome_matrix.pl -m ../data/genusN0.tr.tsv -g \\\n",
    "-A ../data/SiteC.txt -B ../data/SiteB.txt && head ../data/genusN0.tr.tsv__pangenes_list.txt"
   ]
  },
  {
   "cell_type": "markdown",
   "metadata": {},
   "source": [
    "### Dry and humid conditios by site "
   ]
  },
  {
   "cell_type": "markdown",
   "metadata": {},
   "source": [
    "# Site A"
   ]
  },
  {
   "cell_type": "code",
   "execution_count": 34,
   "metadata": {},
   "outputs": [
    {
     "name": "stdout",
     "output_type": "stream",
     "text": [
      "\n",
      "# /home/val/src/get_homologues/parse_pangenome_matrix.pl -m ../data/genusN0.tr.tsv -I  -A ../data/S1.txt -B ../data/S4_7_10.txt -a 0 -g 1 -e 0 -p  -s 0 -l 0 -x 0 -P 100 -S 0\n",
      "\n",
      "# matrix contains 1431 clusters and 12 taxa\n",
      "\n",
      "# taxa included in group A = 1\n",
      "\n",
      "# taxa included in group B = 3\n",
      "\n",
      "\n",
      "# finding genes present in A which are absent in B ...\n",
      "# file with genes present in set A and absent in B (44): ../data/genusN0.tr.tsv__pangenes_list.txt\n",
      "# /home/val/src/get_homologues/parse_pangenome_matrix.pl -m ../data/genusN0.tr.tsv -A ../data/S1.txt -B ../data/S4_7_10.txt -g 1 -e 0 -p  -P 100 -S 0\n",
      "# genes present in set A and absent in B (44):\n",
      "Acidaminococcus\n",
      "Acidimicrobiia unclassified\n",
      "Aggregatibacter\n",
      "Alishewanella\n",
      "Blastococcus\n",
      "Borreliella\n",
      "Candidatus Blochmannia\n",
      "Candidatus Protochlamydia\n"
     ]
    }
   ],
   "source": [
    "%%bash\n",
    "perl /home/val/src/get_homologues/parse_pangenome_matrix.pl -m ../data/genusN0.tr.tsv -g \\\n",
    "-A ../data/S1.txt -B ../data/S4_7_10.txt  &&  head  ../data/genusN0.tr.tsv__pangenes_list.txt"
   ]
  },
  {
   "cell_type": "code",
   "execution_count": 36,
   "metadata": {},
   "outputs": [
    {
     "name": "stdout",
     "output_type": "stream",
     "text": [
      "\n",
      "# /home/val/src/get_homologues/parse_pangenome_matrix.pl -m ../data/genusN0.tr.tsv -I  -A ../data/S4_7_10.txt -B ../data/S1.txt -a 0 -g 1 -e 0 -p  -s 0 -l 0 -x 0 -P 100 -S 0\n",
      "\n",
      "# matrix contains 1431 clusters and 12 taxa\n",
      "\n",
      "# taxa included in group A = 3\n",
      "\n",
      "# taxa included in group B = 1\n",
      "\n",
      "\n",
      "# finding genes present in A which are absent in B ...\n",
      "# file with genes present in set A and absent in B (82): ../data/genusN0.tr.tsv__pangenes_list.txt\n",
      "# /home/val/src/get_homologues/parse_pangenome_matrix.pl -m ../data/genusN0.tr.tsv -A ../data/S4_7_10.txt -B ../data/S1.txt -g 1 -e 0 -p  -P 100 -S 0\n",
      "# genes present in set A and absent in B (82):\n",
      "Acidomonas\n",
      "Aeromonadaceae unclassified\n",
      "Agrococcus\n",
      "Anaerolinea\n",
      "Aquincola\n",
      "Azonexus\n",
      "Blastomonas\n",
      "Candidatus Azambacteria unclassified\n"
     ]
    }
   ],
   "source": [
    "%%bash\n",
    "perl /home/val/src/get_homologues/parse_pangenome_matrix.pl -m ../data/genusN0.tr.tsv -g \\\n",
    "-A ../data/S4_7_10.txt -B ../data/S1.txt    &&  head  ../data/genusN0.tr.tsv__pangenes_list.txt"
   ]
  },
  {
   "cell_type": "markdown",
   "metadata": {},
   "source": [
    "# Site B "
   ]
  },
  {
   "cell_type": "code",
   "execution_count": 37,
   "metadata": {},
   "outputs": [
    {
     "name": "stdout",
     "output_type": "stream",
     "text": [
      "\n",
      "# /home/val/src/get_homologues/parse_pangenome_matrix.pl -m ../data/genusN0.tr.tsv -I  -A ../data/S2.txt -B ../data/S5_8_11.txt -a 0 -g 1 -e 0 -p  -s 0 -l 0 -x 0 -P 100 -S 0\n",
      "\n",
      "# matrix contains 1431 clusters and 12 taxa\n",
      "\n",
      "# taxa included in group A = 1\n",
      "\n",
      "# taxa included in group B = 3\n",
      "\n",
      "\n",
      "# finding genes present in A which are absent in B ...\n",
      "# file with genes present in set A and absent in B (30): ../data/genusN0.tr.tsv__pangenes_list.txt\n",
      "# /home/val/src/get_homologues/parse_pangenome_matrix.pl -m ../data/genusN0.tr.tsv -A ../data/S2.txt -B ../data/S5_8_11.txt -g 1 -e 0 -p  -P 100 -S 0\n",
      "# genes present in set A and absent in B (30):\n",
      "Ascomycota unclassified\n",
      "Borreliella\n",
      "Candidatus Protochlamydia\n",
      "Carnobacteriaceae unclassified\n",
      "Dysgonomonas\n",
      "Ehrlichia\n",
      "Eubacterium\n",
      "Fervidobacterium\n"
     ]
    }
   ],
   "source": [
    "%%bash \n",
    "perl /home/val/src/get_homologues/parse_pangenome_matrix.pl -m ../data/genusN0.tr.tsv -g \\\n",
    "-A ../data/S2.txt -B ../data/S5_8_11.txt   &&  head  ../data/genusN0.tr.tsv__pangenes_list.txt"
   ]
  },
  {
   "cell_type": "code",
   "execution_count": 38,
   "metadata": {},
   "outputs": [
    {
     "name": "stdout",
     "output_type": "stream",
     "text": [
      "\n",
      "# /home/val/src/get_homologues/parse_pangenome_matrix.pl -m ../data/genusN0.tr.tsv -I  -A ../data/S5_8_11.txt -B ../data/S2.txt -a 0 -g 1 -e 0 -p  -s 0 -l 0 -x 0 -P 100 -S 0\n",
      "\n",
      "# matrix contains 1431 clusters and 12 taxa\n",
      "\n",
      "# taxa included in group A = 3\n",
      "\n",
      "# taxa included in group B = 1\n",
      "\n",
      "\n",
      "# finding genes present in A which are absent in B ...\n",
      "# file with genes present in set A and absent in B (158): ../data/genusN0.tr.tsv__pangenes_list.txt\n",
      "# /home/val/src/get_homologues/parse_pangenome_matrix.pl -m ../data/genusN0.tr.tsv -A ../data/S5_8_11.txt -B ../data/S2.txt -g 1 -e 0 -p  -P 100 -S 0\n",
      "# genes present in set A and absent in B (158):\n",
      "Acetobacter\n",
      "Acidimicrobiia unclassified\n",
      "Acidobacteriaceae unclassified\n",
      "Actinomadura\n",
      "Actinomycetaceae unclassified\n",
      "Alcaligenes\n",
      "Alicycliphilus\n",
      "Alicyclobacillus\n"
     ]
    }
   ],
   "source": [
    "%%bash \n",
    "perl /home/val/src/get_homologues/parse_pangenome_matrix.pl -m ../data/genusN0.tr.tsv -g \\\n",
    "-A ../data/S5_8_11.txt -B ../data/S2.txt   &&  head  ../data/genusN0.tr.tsv__pangenes_list.txt"
   ]
  },
  {
   "cell_type": "markdown",
   "metadata": {},
   "source": [
    "# Site C "
   ]
  },
  {
   "cell_type": "code",
   "execution_count": 40,
   "metadata": {},
   "outputs": [
    {
     "name": "stdout",
     "output_type": "stream",
     "text": [
      "\n",
      "# /home/val/src/get_homologues/parse_pangenome_matrix.pl -m ../data/genusN0.tr.tsv -I  -A ../data/S3.txt -B ../data/S6_9_12.txt -a 0 -g 1 -e 0 -p  -s 0 -l 0 -x 0 -P 100 -S 0\n",
      "\n",
      "# matrix contains 1431 clusters and 12 taxa\n",
      "\n",
      "# taxa included in group A = 1\n",
      "\n",
      "# taxa included in group B = 3\n",
      "\n",
      "\n",
      "# finding genes present in A which are absent in B ...\n",
      "# file with genes present in set A and absent in B (94): ../data/genusN0.tr.tsv__pangenes_list.txt\n",
      "# /home/val/src/get_homologues/parse_pangenome_matrix.pl -m ../data/genusN0.tr.tsv -A ../data/S3.txt -B ../data/S6_9_12.txt -g 1 -e 0 -p  -P 100 -S 0\n",
      "# genes present in set A and absent in B (94):\n",
      "Aliiroseovarius\n",
      "Altererythrobacter\n",
      "Aminobacterium\n",
      "Aquificaceae unclassified\n",
      "Azonexus\n",
      "Bacteriovorax\n",
      "Balneola\n",
      "Belliella\n"
     ]
    }
   ],
   "source": [
    "%%bash \n",
    "perl /home/val/src/get_homologues/parse_pangenome_matrix.pl -m ../data/genusN0.tr.tsv -g \\\n",
    "-A ../data/S3.txt -B ../data/S6_9_12.txt   &&  head  ../data/genusN0.tr.tsv__pangenes_list.txt"
   ]
  },
  {
   "cell_type": "code",
   "execution_count": 41,
   "metadata": {},
   "outputs": [
    {
     "name": "stdout",
     "output_type": "stream",
     "text": [
      "\n",
      "# /home/val/src/get_homologues/parse_pangenome_matrix.pl -m ../data/genusN0.tr.tsv -I  -A ../data/S6_9_12.txt -B ../data/S3.txt -a 0 -g 1 -e 0 -p  -s 0 -l 0 -x 0 -P 100 -S 0\n",
      "\n",
      "# matrix contains 1431 clusters and 12 taxa\n",
      "\n",
      "# taxa included in group A = 3\n",
      "\n",
      "# taxa included in group B = 1\n",
      "\n",
      "\n",
      "# finding genes present in A which are absent in B ...\n",
      "# file with genes present in set A and absent in B (51): ../data/genusN0.tr.tsv__pangenes_list.txt\n",
      "# /home/val/src/get_homologues/parse_pangenome_matrix.pl -m ../data/genusN0.tr.tsv -A ../data/S6_9_12.txt -B ../data/S3.txt -g 1 -e 0 -p  -P 100 -S 0\n",
      "# genes present in set A and absent in B (51):\n",
      "Anaerolinea\n",
      "Anoxybacillus\n",
      "Archangium\n",
      "Ardenticatena\n",
      "Bellilinea\n",
      "Blastopirellula\n",
      "Brachyspira\n",
      "Caldilinea\n"
     ]
    }
   ],
   "source": [
    "%%bash \n",
    "perl /home/val/src/get_homologues/parse_pangenome_matrix.pl -m ../data/genusN0.tr.tsv -g \\\n",
    "-A ../data/S6_9_12.txt -B ../data/S3.txt  &&  head  ../data/genusN0.tr.tsv__pangenes_list.txt"
   ]
  },
  {
   "cell_type": "markdown",
   "metadata": {},
   "source": [
    "# Dry vs humid (a b and c )"
   ]
  },
  {
   "cell_type": "code",
   "execution_count": 44,
   "metadata": {},
   "outputs": [
    {
     "name": "stdout",
     "output_type": "stream",
     "text": [
      "\n",
      "# /home/val/src/get_homologues/parse_pangenome_matrix.pl -m ../data/genusN0.tr.tsv -I  -A ../data/dry.txt -B ../data/humid.txt -a 0 -g 1 -e 0 -p  -s 0 -l 0 -x 0 -P 100 -S 0\n",
      "\n",
      "# matrix contains 1431 clusters and 12 taxa\n",
      "\n",
      "# taxa included in group A = 3\n",
      "\n",
      "# taxa included in group B = 9\n",
      "\n",
      "\n",
      "# finding genes present in A which are absent in B ...\n",
      "# file with genes present in set A and absent in B (0): ../data/genusN0.tr.tsv__pangenes_list.txt\n"
     ]
    }
   ],
   "source": [
    "%%bash \n",
    "perl /home/val/src/get_homologues/parse_pangenome_matrix.pl -m ../data/genusN0.tr.tsv -g \\\n",
    "-A ../data/dry.txt -B ../data/humid.txt "
   ]
  },
  {
   "cell_type": "code",
   "execution_count": 46,
   "metadata": {},
   "outputs": [
    {
     "name": "stdout",
     "output_type": "stream",
     "text": [
      "\n",
      "# /home/val/src/get_homologues/parse_pangenome_matrix.pl -m ../data/genusN0.tr.tsv -I  -A ../data/humid.txt -B ../data/dry.txt -a 0 -g 1 -e 0 -p  -s 0 -l 0 -x 0 -P 100 -S 0\n",
      "\n",
      "# matrix contains 1431 clusters and 12 taxa\n",
      "\n",
      "# taxa included in group A = 9\n",
      "\n",
      "# taxa included in group B = 3\n",
      "\n",
      "\n",
      "# finding genes present in A which are absent in B ...\n",
      "# file with genes present in set A and absent in B (2): ../data/genusN0.tr.tsv__pangenes_list.txt\n",
      "# /home/val/src/get_homologues/parse_pangenome_matrix.pl -m ../data/genusN0.tr.tsv -A ../data/humid.txt -B ../data/dry.txt -g 1 -e 0 -p  -P 100 -S 0\n",
      "# genes present in set A and absent in B (2):\n",
      "Ornatilinea\n",
      "Rikenellaceae unclassified\n"
     ]
    }
   ],
   "source": [
    "%%bash \n",
    "perl /home/val/src/get_homologues/parse_pangenome_matrix.pl -m ../data/genusN0.tr.tsv -g \\\n",
    "-A ../data/humid.txt -B ../data/dry.txt  && head ../data/core_mats/genusN0.tr.tsv__pangenes_list.txt  "
   ]
  }
 ],
 "metadata": {
  "kernelspec": {
   "display_name": "Python 3",
   "language": "python",
   "name": "python3"
  },
  "language_info": {
   "codemirror_mode": {
    "name": "ipython",
    "version": 3
   },
   "file_extension": ".py",
   "mimetype": "text/x-python",
   "name": "python",
   "nbconvert_exporter": "python",
   "pygments_lexer": "ipython3",
   "version": "3.6.5"
  }
 },
 "nbformat": 4,
 "nbformat_minor": 2
}
