{
 "cells": [
  {
   "cell_type": "markdown",
   "metadata": {},
   "source": [
    "## Ecological index analysis with R "
   ]
  },
  {
   "cell_type": "markdown",
   "metadata": {},
   "source": [
    "## Install and load libraries"
   ]
  },
  {
   "cell_type": "code",
   "execution_count": 8,
   "metadata": {
    "collapsed": true
   },
   "outputs": [],
   "source": [
    "#sessionInfo()"
   ]
  },
  {
   "cell_type": "code",
   "execution_count": 1,
   "metadata": {},
   "outputs": [
    {
     "name": "stderr",
     "output_type": "stream",
     "text": [
      "Installing package into ‘/home/val/R/x86_64-pc-linux-gnu-library/3.4’\n",
      "(as ‘lib’ is unspecified)\n"
     ]
    },
    {
     "data": {
      "text/html": [
       "<table>\n",
       "<thead><tr><th scope=col>Package</th><th scope=col>LibPath</th><th scope=col>Version</th><th scope=col>Priority</th><th scope=col>Depends</th><th scope=col>Imports</th><th scope=col>LinkingTo</th><th scope=col>Suggests</th><th scope=col>Enhances</th><th scope=col>License</th><th scope=col>License_is_FOSS</th><th scope=col>License_restricts_use</th><th scope=col>OS_type</th><th scope=col>Archs</th><th scope=col>MD5sum</th><th scope=col>NeedsCompilation</th><th scope=col>Built</th></tr></thead>\n",
       "<tbody>\n",
       "</tbody>\n",
       "</table>\n"
      ],
      "text/latex": [
       "\\begin{tabular}{lllllllllllllllll}\n",
       " Package & LibPath & Version & Priority & Depends & Imports & LinkingTo & Suggests & Enhances & License & License\\_is\\_FOSS & License\\_restricts\\_use & OS\\_type & Archs & MD5sum & NeedsCompilation & Built\\\\\n",
       "\\hline\n",
       "\\end{tabular}\n"
      ],
      "text/markdown": [
       "\n",
       "Package | LibPath | Version | Priority | Depends | Imports | LinkingTo | Suggests | Enhances | License | License_is_FOSS | License_restricts_use | OS_type | Archs | MD5sum | NeedsCompilation | Built | \n",
       "||\n",
       "\n",
       "\n"
      ],
      "text/plain": [
       "     Package LibPath Version Priority Depends Imports LinkingTo Suggests\n",
       "     Enhances License License_is_FOSS License_restricts_use OS_type Archs\n",
       "     MD5sum NeedsCompilation Built"
      ]
     },
     "metadata": {},
     "output_type": "display_data"
    },
    {
     "name": "stderr",
     "output_type": "stream",
     "text": [
      "Installing package into ‘/home/val/R/x86_64-pc-linux-gnu-library/3.4’\n",
      "(as ‘lib’ is unspecified)\n"
     ]
    }
   ],
   "source": [
    "install.packages(\"pvclust\")\n",
    "installed.packages(\"vegan\")\n",
    "install.packages(\"ggplot2\")          \n",
    "install.packages(\"devtools\")\n"
   ]
  },
  {
   "cell_type": "code",
   "execution_count": 4,
   "metadata": {},
   "outputs": [
    {
     "name": "stderr",
     "output_type": "stream",
     "text": [
      "Bioconductor version 3.2 (BiocInstaller 1.20.3), ?biocLite for help\n",
      "BioC_mirror: https://bioconductor.org\n",
      "Using Bioconductor 3.2 (BiocInstaller 1.20.3), R 3.4.4 (2018-03-15).\n",
      "Installing package(s) ‘devtools’\n",
      "Old packages: 'bit', 'stringr', 'abind', 'doMC', 'foreach', 'iterators',\n",
      "  'pkgKitten', 'plyr', 'Rcpp'\n",
      "BioC_mirror: https://bioconductor.org\n",
      "Using Bioconductor 3.2 (BiocInstaller 1.20.3), R 3.4.4 (2018-03-15).\n",
      "Installing package(s) ‘phyloseq’\n",
      "Warning message:\n",
      "“dependency ‘biom’ is not available”Warning message in install.packages(pkgs = doing, lib = lib, ...):\n",
      "“installation of package ‘phyloseq’ had non-zero exit status”Old packages: 'bit', 'stringr', 'abind', 'doMC', 'foreach', 'iterators',\n",
      "  'pkgKitten', 'plyr', 'Rcpp'\n"
     ]
    }
   ],
   "source": [
    "source(\"http://bioconductor.org/biocLite.R\")\n",
    "biocLite('devtools')\n",
    "biocLite(\"phyloseq\", type = \"source\")\n",
    "#sudo apt-get install libcurl4-openssl-dev1"
   ]
  },
  {
   "cell_type": "code",
   "execution_count": 3,
   "metadata": {},
   "outputs": [
    {
     "ename": "ERROR",
     "evalue": "Error in biocLite(\"phyloseq\"): no se pudo encontrar la función \"biocLite\"\n",
     "output_type": "error",
     "traceback": [
      "Error in biocLite(\"phyloseq\"): no se pudo encontrar la función \"biocLite\"\nTraceback:\n"
     ]
    }
   ],
   "source": [
    "biocLite(\"phyloseq\")"
   ]
  },
  {
   "cell_type": "code",
   "execution_count": 11,
   "metadata": {
    "collapsed": true
   },
   "outputs": [],
   "source": [
    "library(\"devtools\")"
   ]
  },
  {
   "cell_type": "code",
   "execution_count": 12,
   "metadata": {
    "scrolled": true
   },
   "outputs": [
    {
     "name": "stderr",
     "output_type": "stream",
     "text": [
      "Loading required package: permute\n",
      "\n",
      "Attaching package: ‘permute’\n",
      "\n",
      "The following object is masked from ‘package:devtools’:\n",
      "\n",
      "    check\n",
      "\n",
      "Loading required package: lattice\n",
      "This is vegan 2.5-1\n"
     ]
    }
   ],
   "source": [
    "library (vegan)\n",
    "library(ggplot2)\n",
    "library(pvclust)\n",
    "\n"
   ]
  },
  {
   "cell_type": "markdown",
   "metadata": {},
   "source": [
    "## Loading objects into Phyloseq"
   ]
  },
  {
   "cell_type": "code",
   "execution_count": 3,
   "metadata": {
    "scrolled": false
   },
   "outputs": [
    {
     "ename": "ERROR",
     "evalue": "Error in eval(expr, envir, enclos): no se pudo encontrar la función \"otu_table\"\n",
     "output_type": "error",
     "traceback": [
      "Error in eval(expr, envir, enclos): no se pudo encontrar la función \"otu_table\"\nTraceback:\n"
     ]
    }
   ],
   "source": [
    "sp_otu<- as.matrix(read.table(\"../data/species.tab\", header=T, row.names=1))\n",
    "spOTU=otu_table(sp_otu, taxa_are_rows=T)\n",
    "mats1=phyloseq(spOTU)"
   ]
  },
  {
   "cell_type": "markdown",
   "metadata": {},
   "source": [
    "## Loading metadata "
   ]
  },
  {
   "cell_type": "code",
   "execution_count": 2,
   "metadata": {
    "scrolled": true
   },
   "outputs": [
    {
     "name": "stderr",
     "output_type": "stream",
     "text": [
      "Warning message in file(file, \"rt\"):\n",
      "“no fue posible abrir el archivo '../data/sample_data.txt': No existe el archivo o el directorio”"
     ]
    },
    {
     "ename": "ERROR",
     "evalue": "Error in file(file, \"rt\"): no se puede abrir la conexión\n",
     "output_type": "error",
     "traceback": [
      "Error in file(file, \"rt\"): no se puede abrir la conexión\nTraceback:\n",
      "1. read.table(\"../data/sample_data.txt\", header = T)",
      "2. file(file, \"rt\")"
     ]
    }
   ],
   "source": [
    "metadata=read.table(\"../data/sample_data.txt\", header=T)\n",
    "c(\"1\",\"1\",\"1\",\"2\",\"2\",\"2\",\"3\",\"3\",\"3\",\"4\",\"4\",\"4\")->wl_order\n",
    "cbind(wl_order,metadata)->metadata\n",
    "data.frame(Sample_ID=metadata$sample_ID, Site=metadata$site, Year=metadata$year, Period=metadata$samp_period, Water_level=metadata$water_level, Season=metadata$season_year, wl_order=metadata$wl_order, Temperature=metadata$temp,Conductivity=metadata$sp_comd, Sal=metadata$salt, pH=metadata$pH, row.names=sample_names((mats1)))-> o1\n",
    "sampledata= sample_data(o1)\n",
    "sampledata"
   ]
  },
  {
   "cell_type": "code",
   "execution_count": 4,
   "metadata": {
    "scrolled": true
   },
   "outputs": [
    {
     "data": {
      "text/plain": [
       "phyloseq-class experiment-level object\n",
       "otu_table()   OTU Table:         [ 3348 taxa and 12 samples ]\n",
       "sample_data() Sample Data:       [ 12 samples by 11 sample variables ]"
      ]
     },
     "metadata": {},
     "output_type": "display_data"
    }
   ],
   "source": [
    "mats1=phyloseq(spOTU, sampledata)\n",
    "mats1"
   ]
  },
  {
   "cell_type": "markdown",
   "metadata": {},
   "source": [
    "### Alpha diversity"
   ]
  },
  {
   "cell_type": "code",
   "execution_count": 8,
   "metadata": {
    "scrolled": true
   },
   "outputs": [
    {
     "data": {
      "text/html": [
       "<table>\n",
       "<thead><tr><th></th><th scope=col>Observed</th><th scope=col>Chao1</th><th scope=col>se.chao1</th><th scope=col>ACE</th><th scope=col>se.ACE</th><th scope=col>Shannon</th><th scope=col>Simpson</th><th scope=col>InvSimpson</th><th scope=col>Fisher</th><th scope=col>Pielou</th><th scope=col>⋯</th><th scope=col>year</th><th scope=col>samp_period</th><th scope=col>water_level</th><th scope=col>temp</th><th scope=col>sp_comd</th><th scope=col>salt</th><th scope=col>pH</th><th scope=col>season_year</th><th scope=col>wl_order</th><th scope=col>season</th></tr></thead>\n",
       "<tbody>\n",
       "\t<tr><th scope=row>S1</th><td>1224     </td><td>1336.227 </td><td>22.53791 </td><td>1332.3193</td><td>18.15853 </td><td>5.832583 </td><td>0.9890016</td><td> 90.92247</td><td>269.6479 </td><td>0.8203490</td><td>⋯        </td><td>y2012    </td><td>nov      </td><td>none     </td><td>   NA    </td><td>    NA   </td><td>  NA     </td><td>  NA     </td><td>Autumn_12</td><td>1        </td><td>Autumn   </td></tr>\n",
       "\t<tr><th scope=row>S2</th><td> 848     </td><td>1090.169 </td><td>45.96885 </td><td> 999.2216</td><td>15.24557 </td><td>5.369718 </td><td>0.9879127</td><td> 82.73145</td><td>199.0802 </td><td>0.7963538</td><td>⋯        </td><td>y2012    </td><td>nov      </td><td>none     </td><td>   NA    </td><td>    NA   </td><td>  NA     </td><td>  NA     </td><td>Autumn_12</td><td>1        </td><td>Autumn   </td></tr>\n",
       "\t<tr><th scope=row>S3</th><td>1590     </td><td>1783.383 </td><td>34.01591 </td><td>1721.9230</td><td>20.61965 </td><td>5.744567 </td><td>0.9821076</td><td> 55.88973</td><td>323.3813 </td><td>0.7792954</td><td>⋯        </td><td>y2012    </td><td>nov      </td><td>none     </td><td>   NA    </td><td>    NA   </td><td>  NA     </td><td>  NA     </td><td>Autumn_12</td><td>1        </td><td>Autumn   </td></tr>\n",
       "\t<tr><th scope=row>S4</th><td>1620     </td><td>1829.012 </td><td>40.57591 </td><td>1719.3541</td><td>20.52189 </td><td>6.098884 </td><td>0.9911810</td><td>113.39091</td><td>334.9970 </td><td>0.8252685</td><td>⋯        </td><td>y2013    </td><td>may      </td><td>low      </td><td>20.00    </td><td> 8.360   </td><td>4.70     </td><td>8.60     </td><td>Spring_13</td><td>2        </td><td>Spring   </td></tr>\n",
       "\t<tr><th scope=row>S5</th><td>1415     </td><td>1586.079 </td><td>31.93491 </td><td>1527.7940</td><td>19.35561 </td><td>5.665133 </td><td>0.9846372</td><td> 65.09222</td><td>293.5952 </td><td>0.7808715</td><td>⋯        </td><td>y2013    </td><td>may      </td><td>low      </td><td>20.50    </td><td> 8.300   </td><td>4.69     </td><td>8.61     </td><td>Spring_13</td><td>2        </td><td>Spring   </td></tr>\n",
       "\t<tr><th scope=row>S6</th><td>1110     </td><td>1317.101 </td><td>38.53942 </td><td>1252.9808</td><td>17.56643 </td><td>5.626281 </td><td>0.9848534</td><td> 66.02130</td><td>248.5704 </td><td>0.8023657</td><td>⋯        </td><td>y2013    </td><td>may      </td><td>low      </td><td>20.30    </td><td> 8.300   </td><td>4.71     </td><td>8.59     </td><td>Spring_13</td><td>2        </td><td>Spring   </td></tr>\n",
       "\t<tr><th scope=row>S7</th><td>1523     </td><td>1702.168 </td><td>32.71061 </td><td>1645.6796</td><td>20.18635 </td><td>5.900766 </td><td>0.9888596</td><td> 89.76349</td><td>322.4086 </td><td>0.8051875</td><td>⋯        </td><td>y2013    </td><td>oct      </td><td>high     </td><td>26.50    </td><td> 6.530   </td><td>3.66     </td><td>7.90     </td><td>Autumn_13</td><td>3        </td><td>Autumn   </td></tr>\n",
       "\t<tr><th scope=row>S8</th><td>1436     </td><td>1548.674 </td><td>22.56204 </td><td>1530.8533</td><td>19.42504 </td><td>5.546792 </td><td>0.9749436</td><td> 39.91000</td><td>293.1319 </td><td>0.7630103</td><td>⋯        </td><td>y2013    </td><td>oct      </td><td>high     </td><td>26.16    </td><td> 6.400   </td><td>3.56     </td><td>8.06     </td><td>Autumn_13</td><td>3        </td><td>Autumn   </td></tr>\n",
       "\t<tr><th scope=row>S9</th><td>1374     </td><td>1565.100 </td><td>36.07980 </td><td>1492.9430</td><td>19.13103 </td><td>5.774995 </td><td>0.9842971</td><td> 63.68237</td><td>291.8298 </td><td>0.7992540</td><td>⋯        </td><td>y2013    </td><td>oct      </td><td>high     </td><td>25.42    </td><td> 6.478   </td><td>3.59     </td><td>8.07     </td><td>Autumn_13</td><td>3        </td><td>Autumn   </td></tr>\n",
       "\t<tr><th scope=row>S10</th><td>1266     </td><td>1435.112 </td><td>33.88343 </td><td>1361.8773</td><td>18.20948 </td><td>5.690773 </td><td>0.9837418</td><td> 61.50752</td><td>273.9717 </td><td>0.7966234</td><td>⋯        </td><td>y2014    </td><td>may      </td><td>medium   </td><td>24.99    </td><td>11.590   </td><td>6.62     </td><td>8.09     </td><td>Spring_14</td><td>4        </td><td>Spring   </td></tr>\n",
       "\t<tr><th scope=row>S11</th><td>1052     </td><td>1225.469 </td><td>33.83791 </td><td>1178.5441</td><td>17.03900 </td><td>5.201765 </td><td>0.9706822</td><td> 34.10899</td><td>223.8043 </td><td>0.7475467</td><td>⋯        </td><td>y2014    </td><td>may      </td><td>medium   </td><td>25.45    </td><td>11.580   </td><td>6.61     </td><td>8.31     </td><td>Spring_14</td><td>4        </td><td>Spring   </td></tr>\n",
       "\t<tr><th scope=row>S12</th><td>1377     </td><td>1562.635 </td><td>34.88647 </td><td>1500.0748</td><td>19.17686 </td><td>5.777031 </td><td>0.9848500</td><td> 66.00669</td><td>288.4914 </td><td>0.7992945</td><td>⋯        </td><td>y2014    </td><td>may      </td><td>medium   </td><td>25.22    </td><td>11.600   </td><td>6.61     </td><td>8.31     </td><td>Spring_14</td><td>4        </td><td>Spring   </td></tr>\n",
       "</tbody>\n",
       "</table>\n"
      ],
      "text/latex": [
       "\\begin{tabular}{r|llllllllllllllllllllllll}\n",
       "  & Observed & Chao1 & se.chao1 & ACE & se.ACE & Shannon & Simpson & InvSimpson & Fisher & Pielou & ⋯ & year & samp\\_period & water\\_level & temp & sp\\_comd & salt & pH & season\\_year & wl\\_order & season\\\\\n",
       "\\hline\n",
       "\tS1 & 1224        & 1336.227    & 22.53791    & 1332.3193   & 18.15853    & 5.832583    & 0.9890016   &  90.92247   & 269.6479    & 0.8203490   & ⋯           & y2012       & nov         & none        &    NA       &     NA      &   NA        &   NA        & Autumn\\_12 & 1           & Autumn     \\\\\n",
       "\tS2 &  848        & 1090.169    & 45.96885    &  999.2216   & 15.24557    & 5.369718    & 0.9879127   &  82.73145   & 199.0802    & 0.7963538   & ⋯           & y2012       & nov         & none        &    NA       &     NA      &   NA        &   NA        & Autumn\\_12 & 1           & Autumn     \\\\\n",
       "\tS3 & 1590        & 1783.383    & 34.01591    & 1721.9230   & 20.61965    & 5.744567    & 0.9821076   &  55.88973   & 323.3813    & 0.7792954   & ⋯           & y2012       & nov         & none        &    NA       &     NA      &   NA        &   NA        & Autumn\\_12 & 1           & Autumn     \\\\\n",
       "\tS4 & 1620        & 1829.012    & 40.57591    & 1719.3541   & 20.52189    & 6.098884    & 0.9911810   & 113.39091   & 334.9970    & 0.8252685   & ⋯           & y2013       & may         & low         & 20.00       &  8.360      & 4.70        & 8.60        & Spring\\_13 & 2           & Spring     \\\\\n",
       "\tS5 & 1415        & 1586.079    & 31.93491    & 1527.7940   & 19.35561    & 5.665133    & 0.9846372   &  65.09222   & 293.5952    & 0.7808715   & ⋯           & y2013       & may         & low         & 20.50       &  8.300      & 4.69        & 8.61        & Spring\\_13 & 2           & Spring     \\\\\n",
       "\tS6 & 1110        & 1317.101    & 38.53942    & 1252.9808   & 17.56643    & 5.626281    & 0.9848534   &  66.02130   & 248.5704    & 0.8023657   & ⋯           & y2013       & may         & low         & 20.30       &  8.300      & 4.71        & 8.59        & Spring\\_13 & 2           & Spring     \\\\\n",
       "\tS7 & 1523        & 1702.168    & 32.71061    & 1645.6796   & 20.18635    & 5.900766    & 0.9888596   &  89.76349   & 322.4086    & 0.8051875   & ⋯           & y2013       & oct         & high        & 26.50       &  6.530      & 3.66        & 7.90        & Autumn\\_13 & 3           & Autumn     \\\\\n",
       "\tS8 & 1436        & 1548.674    & 22.56204    & 1530.8533   & 19.42504    & 5.546792    & 0.9749436   &  39.91000   & 293.1319    & 0.7630103   & ⋯           & y2013       & oct         & high        & 26.16       &  6.400      & 3.56        & 8.06        & Autumn\\_13 & 3           & Autumn     \\\\\n",
       "\tS9 & 1374        & 1565.100    & 36.07980    & 1492.9430   & 19.13103    & 5.774995    & 0.9842971   &  63.68237   & 291.8298    & 0.7992540   & ⋯           & y2013       & oct         & high        & 25.42       &  6.478      & 3.59        & 8.07        & Autumn\\_13 & 3           & Autumn     \\\\\n",
       "\tS10 & 1266        & 1435.112    & 33.88343    & 1361.8773   & 18.20948    & 5.690773    & 0.9837418   &  61.50752   & 273.9717    & 0.7966234   & ⋯           & y2014       & may         & medium      & 24.99       & 11.590      & 6.62        & 8.09        & Spring\\_14 & 4           & Spring     \\\\\n",
       "\tS11 & 1052        & 1225.469    & 33.83791    & 1178.5441   & 17.03900    & 5.201765    & 0.9706822   &  34.10899   & 223.8043    & 0.7475467   & ⋯           & y2014       & may         & medium      & 25.45       & 11.580      & 6.61        & 8.31        & Spring\\_14 & 4           & Spring     \\\\\n",
       "\tS12 & 1377        & 1562.635    & 34.88647    & 1500.0748   & 19.17686    & 5.777031    & 0.9848500   &  66.00669   & 288.4914    & 0.7992945   & ⋯           & y2014       & may         & medium      & 25.22       & 11.600      & 6.61        & 8.31        & Spring\\_14 & 4           & Spring     \\\\\n",
       "\\end{tabular}\n"
      ],
      "text/markdown": [
       "\n",
       "| <!--/--> | Observed | Chao1 | se.chao1 | ACE | se.ACE | Shannon | Simpson | InvSimpson | Fisher | Pielou | ⋯ | year | samp_period | water_level | temp | sp_comd | salt | pH | season_year | wl_order | season | \n",
       "|---|---|---|---|---|---|---|---|---|---|---|---|\n",
       "| S1 | 1224      | 1336.227  | 22.53791  | 1332.3193 | 18.15853  | 5.832583  | 0.9890016 |  90.92247 | 269.6479  | 0.8203490 | ⋯         | y2012     | nov       | none      |    NA     |     NA    |   NA      |   NA      | Autumn_12 | 1         | Autumn    | \n",
       "| S2 |  848      | 1090.169  | 45.96885  |  999.2216 | 15.24557  | 5.369718  | 0.9879127 |  82.73145 | 199.0802  | 0.7963538 | ⋯         | y2012     | nov       | none      |    NA     |     NA    |   NA      |   NA      | Autumn_12 | 1         | Autumn    | \n",
       "| S3 | 1590      | 1783.383  | 34.01591  | 1721.9230 | 20.61965  | 5.744567  | 0.9821076 |  55.88973 | 323.3813  | 0.7792954 | ⋯         | y2012     | nov       | none      |    NA     |     NA    |   NA      |   NA      | Autumn_12 | 1         | Autumn    | \n",
       "| S4 | 1620      | 1829.012  | 40.57591  | 1719.3541 | 20.52189  | 6.098884  | 0.9911810 | 113.39091 | 334.9970  | 0.8252685 | ⋯         | y2013     | may       | low       | 20.00     |  8.360    | 4.70      | 8.60      | Spring_13 | 2         | Spring    | \n",
       "| S5 | 1415      | 1586.079  | 31.93491  | 1527.7940 | 19.35561  | 5.665133  | 0.9846372 |  65.09222 | 293.5952  | 0.7808715 | ⋯         | y2013     | may       | low       | 20.50     |  8.300    | 4.69      | 8.61      | Spring_13 | 2         | Spring    | \n",
       "| S6 | 1110      | 1317.101  | 38.53942  | 1252.9808 | 17.56643  | 5.626281  | 0.9848534 |  66.02130 | 248.5704  | 0.8023657 | ⋯         | y2013     | may       | low       | 20.30     |  8.300    | 4.71      | 8.59      | Spring_13 | 2         | Spring    | \n",
       "| S7 | 1523      | 1702.168  | 32.71061  | 1645.6796 | 20.18635  | 5.900766  | 0.9888596 |  89.76349 | 322.4086  | 0.8051875 | ⋯         | y2013     | oct       | high      | 26.50     |  6.530    | 3.66      | 7.90      | Autumn_13 | 3         | Autumn    | \n",
       "| S8 | 1436      | 1548.674  | 22.56204  | 1530.8533 | 19.42504  | 5.546792  | 0.9749436 |  39.91000 | 293.1319  | 0.7630103 | ⋯         | y2013     | oct       | high      | 26.16     |  6.400    | 3.56      | 8.06      | Autumn_13 | 3         | Autumn    | \n",
       "| S9 | 1374      | 1565.100  | 36.07980  | 1492.9430 | 19.13103  | 5.774995  | 0.9842971 |  63.68237 | 291.8298  | 0.7992540 | ⋯         | y2013     | oct       | high      | 25.42     |  6.478    | 3.59      | 8.07      | Autumn_13 | 3         | Autumn    | \n",
       "| S10 | 1266      | 1435.112  | 33.88343  | 1361.8773 | 18.20948  | 5.690773  | 0.9837418 |  61.50752 | 273.9717  | 0.7966234 | ⋯         | y2014     | may       | medium    | 24.99     | 11.590    | 6.62      | 8.09      | Spring_14 | 4         | Spring    | \n",
       "| S11 | 1052      | 1225.469  | 33.83791  | 1178.5441 | 17.03900  | 5.201765  | 0.9706822 |  34.10899 | 223.8043  | 0.7475467 | ⋯         | y2014     | may       | medium    | 25.45     | 11.580    | 6.61      | 8.31      | Spring_14 | 4         | Spring    | \n",
       "| S12 | 1377      | 1562.635  | 34.88647  | 1500.0748 | 19.17686  | 5.777031  | 0.9848500 |  66.00669 | 288.4914  | 0.7992945 | ⋯         | y2014     | may       | medium    | 25.22     | 11.600    | 6.61      | 8.31      | Spring_14 | 4         | Spring    | \n",
       "\n",
       "\n"
      ],
      "text/plain": [
       "    Observed Chao1    se.chao1 ACE       se.ACE   Shannon  Simpson   InvSimpson\n",
       "S1  1224     1336.227 22.53791 1332.3193 18.15853 5.832583 0.9890016  90.92247 \n",
       "S2   848     1090.169 45.96885  999.2216 15.24557 5.369718 0.9879127  82.73145 \n",
       "S3  1590     1783.383 34.01591 1721.9230 20.61965 5.744567 0.9821076  55.88973 \n",
       "S4  1620     1829.012 40.57591 1719.3541 20.52189 6.098884 0.9911810 113.39091 \n",
       "S5  1415     1586.079 31.93491 1527.7940 19.35561 5.665133 0.9846372  65.09222 \n",
       "S6  1110     1317.101 38.53942 1252.9808 17.56643 5.626281 0.9848534  66.02130 \n",
       "S7  1523     1702.168 32.71061 1645.6796 20.18635 5.900766 0.9888596  89.76349 \n",
       "S8  1436     1548.674 22.56204 1530.8533 19.42504 5.546792 0.9749436  39.91000 \n",
       "S9  1374     1565.100 36.07980 1492.9430 19.13103 5.774995 0.9842971  63.68237 \n",
       "S10 1266     1435.112 33.88343 1361.8773 18.20948 5.690773 0.9837418  61.50752 \n",
       "S11 1052     1225.469 33.83791 1178.5441 17.03900 5.201765 0.9706822  34.10899 \n",
       "S12 1377     1562.635 34.88647 1500.0748 19.17686 5.777031 0.9848500  66.00669 \n",
       "    Fisher   Pielou    ⋯ year  samp_period water_level temp  sp_comd salt pH  \n",
       "S1  269.6479 0.8203490 ⋯ y2012 nov         none           NA     NA    NA   NA\n",
       "S2  199.0802 0.7963538 ⋯ y2012 nov         none           NA     NA    NA   NA\n",
       "S3  323.3813 0.7792954 ⋯ y2012 nov         none           NA     NA    NA   NA\n",
       "S4  334.9970 0.8252685 ⋯ y2013 may         low         20.00  8.360  4.70 8.60\n",
       "S5  293.5952 0.7808715 ⋯ y2013 may         low         20.50  8.300  4.69 8.61\n",
       "S6  248.5704 0.8023657 ⋯ y2013 may         low         20.30  8.300  4.71 8.59\n",
       "S7  322.4086 0.8051875 ⋯ y2013 oct         high        26.50  6.530  3.66 7.90\n",
       "S8  293.1319 0.7630103 ⋯ y2013 oct         high        26.16  6.400  3.56 8.06\n",
       "S9  291.8298 0.7992540 ⋯ y2013 oct         high        25.42  6.478  3.59 8.07\n",
       "S10 273.9717 0.7966234 ⋯ y2014 may         medium      24.99 11.590  6.62 8.09\n",
       "S11 223.8043 0.7475467 ⋯ y2014 may         medium      25.45 11.580  6.61 8.31\n",
       "S12 288.4914 0.7992945 ⋯ y2014 may         medium      25.22 11.600  6.61 8.31\n",
       "    season_year wl_order season\n",
       "S1  Autumn_12   1        Autumn\n",
       "S2  Autumn_12   1        Autumn\n",
       "S3  Autumn_12   1        Autumn\n",
       "S4  Spring_13   2        Spring\n",
       "S5  Spring_13   2        Spring\n",
       "S6  Spring_13   2        Spring\n",
       "S7  Autumn_13   3        Autumn\n",
       "S8  Autumn_13   3        Autumn\n",
       "S9  Autumn_13   3        Autumn\n",
       "S10 Spring_14   4        Spring\n",
       "S11 Spring_14   4        Spring\n",
       "S12 Spring_14   4        Spring"
      ]
     },
     "metadata": {},
     "output_type": "display_data"
    }
   ],
   "source": [
    "estimate_richness(mats1)->div_alpha\n",
    "as.data.frame(t(sp_otu))->sp1\n",
    "Pielou<-vegan::diversity(sp1)/log(specnumber(sp1))\n",
    "cbind (div_alpha,Pielou)->div_alpha\n",
    "write.table(div_alpha, \"../data/diversidad_species.txt\", sep=\"\\t\")\n",
    "cbind (div_alpha,Pielou,metadata)->div_alpha\n",
    "div_alpha\n"
   ]
  },
  {
   "cell_type": "code",
   "execution_count": 9,
   "metadata": {
    "scrolled": false
   },
   "outputs": [
    {
     "name": "stderr",
     "output_type": "stream",
     "text": [
      "Warning message in `levels<-`(`*tmp*`, value = if (nl == nL) as.character(labels) else paste0(labels, :\n",
      "“duplicated levels in factors are deprecated”"
     ]
    },
    {
     "data": {
      "text/html": [
       "<ol class=list-inline>\n",
       "\t<li>Autumn_12</li>\n",
       "\t<li>Autumn_12</li>\n",
       "\t<li>Autumn_12</li>\n",
       "\t<li>Spring_13</li>\n",
       "\t<li>Spring_13</li>\n",
       "\t<li>Spring_13</li>\n",
       "\t<li>Autumn_13</li>\n",
       "\t<li>Autumn_13</li>\n",
       "\t<li>Autumn_13</li>\n",
       "\t<li>Spring_14</li>\n",
       "\t<li>Spring_14</li>\n",
       "\t<li>Spring_14</li>\n",
       "</ol>\n"
      ],
      "text/latex": [
       "\\begin{enumerate*}\n",
       "\\item Autumn\\_12\n",
       "\\item Autumn\\_12\n",
       "\\item Autumn\\_12\n",
       "\\item Spring\\_13\n",
       "\\item Spring\\_13\n",
       "\\item Spring\\_13\n",
       "\\item Autumn\\_13\n",
       "\\item Autumn\\_13\n",
       "\\item Autumn\\_13\n",
       "\\item Spring\\_14\n",
       "\\item Spring\\_14\n",
       "\\item Spring\\_14\n",
       "\\end{enumerate*}\n"
      ],
      "text/markdown": [
       "1. Autumn_12\n",
       "2. Autumn_12\n",
       "3. Autumn_12\n",
       "4. Spring_13\n",
       "5. Spring_13\n",
       "6. Spring_13\n",
       "7. Autumn_13\n",
       "8. Autumn_13\n",
       "9. Autumn_13\n",
       "10. Spring_14\n",
       "11. Spring_14\n",
       "12. Spring_14\n",
       "\n",
       "\n"
      ],
      "text/plain": [
       " [1] Autumn_12 Autumn_12 Autumn_12 Spring_13 Spring_13 Spring_13 Autumn_13\n",
       " [8] Autumn_13 Autumn_13 Spring_14 Spring_14 Spring_14\n",
       "12 Levels: Autumn_12 Autumn_12 Autumn_12 Spring_13 Spring_13 ... Spring_14"
      ]
     },
     "metadata": {},
     "output_type": "display_data"
    }
   ],
   "source": [
    "library(ggplot2)\n",
    "div_alpha$season_year <- factor(div_alpha$season_year, levels = div_alpha$season_year[order(div_alpha$wl_order)])\n",
    "div_alpha$season_year\n"
   ]
  },
  {
   "cell_type": "markdown",
   "metadata": {},
   "source": [
    "## Plot"
   ]
  },
  {
   "cell_type": "code",
   "execution_count": 10,
   "metadata": {
    "collapsed": true
   },
   "outputs": [],
   "source": [
    "ggplot(div_alpha, aes(x=season_year, y=Shannon, group=site))+geom_point(aes(x=season_year, y=Shannon, color=site), size=4, alpha=0.7) +\n",
    "  geom_line(aes( color=site))+xlab(\"\") + ggtitle(\"Species level\")+ theme (legend.position = \"none\",plot.title = element_text(hjust = 0.5), axis.text.x = element_text(angle=45, hjust = 1))+ ylim (3.5,6.5)->p1\n",
    "ggplot(div_alpha, aes(x=season_year, y=Pielou, group=site))+geom_point(aes(x=season_year, y=Pielou, color=site), size=4, alpha=0.7) +\n",
    "  geom_line(aes( color=site))+xlab(\"\")+ theme (legend.position = \"none\",plot.title = element_text(hjust = 0.5), axis.text.x = element_text(angle=45, hjust = 1))+ ylim (0.6,0.85)->p2"
   ]
  },
  {
   "cell_type": "code",
   "execution_count": 11,
   "metadata": {},
   "outputs": [
    {
     "name": "stderr",
     "output_type": "stream",
     "text": [
      "Warning message in `levels<-`(`*tmp*`, value = if (nl == nL) as.character(labels) else paste0(labels, :\n",
      "“duplicated levels in factors are deprecated”Warning message in `levels<-`(`*tmp*`, value = if (nl == nL) as.character(labels) else paste0(labels, :\n",
      "“duplicated levels in factors are deprecated”"
     ]
    },
    {
     "data": {},
     "metadata": {},
     "output_type": "display_data"
    },
    {
     "name": "stderr",
     "output_type": "stream",
     "text": [
      "Warning message in `levels<-`(`*tmp*`, value = if (nl == nL) as.character(labels) else paste0(labels, :\n",
      "“duplicated levels in factors are deprecated”Warning message in `levels<-`(`*tmp*`, value = if (nl == nL) as.character(labels) else paste0(labels, :\n",
      "“duplicated levels in factors are deprecated”"
     ]
    },
    {
     "data": {},
     "metadata": {},
     "output_type": "display_data"
    },
    {
     "data": {
      "image/png": "[encoded data removed]",
      "text/plain": [
       "plot without title"
      ]
     },
     "metadata": {},
     "output_type": "display_data"
    },
    {
     "data": {
      "image/png": "[encoded data removed]",
      "text/plain": [
       "plot without title"
      ]
     },
     "metadata": {},
     "output_type": "display_data"
    }
   ],
   "source": [
    "theme_set(theme_light())\n",
    "p1\n",
    "p2\n"
   ]
  },
  {
   "cell_type": "markdown",
   "metadata": {},
   "source": [
    "## Genera level"
   ]
  },
  {
   "cell_type": "code",
   "execution_count": 24,
   "metadata": {
    "scrolled": true
   },
   "outputs": [
    {
     "data": {
      "text/html": [
       "<table>\n",
       "<thead><tr><th></th><th scope=col>Observed</th><th scope=col>Chao1</th><th scope=col>se.chao1</th><th scope=col>ACE</th><th scope=col>se.ACE</th><th scope=col>Shannon</th><th scope=col>Simpson</th><th scope=col>InvSimpson</th><th scope=col>Fisher</th><th scope=col>Pielou2</th><th scope=col>⋯</th><th scope=col>year</th><th scope=col>samp_period</th><th scope=col>water_level</th><th scope=col>temp</th><th scope=col>sp_comd</th><th scope=col>salt</th><th scope=col>pH</th><th scope=col>season_year</th><th scope=col>wl_order</th><th scope=col>season</th></tr></thead>\n",
       "<tbody>\n",
       "\t<tr><th scope=row>S1</th><td>791      </td><td> 893.3529</td><td>22.24987 </td><td> 907.2252</td><td>15.07986 </td><td>5.182797 </td><td>0.9848085</td><td>65.82615 </td><td>155.5618 </td><td>0.7766470</td><td>⋯        </td><td>y2012    </td><td>nov      </td><td>none     </td><td>   NA    </td><td>    NA   </td><td>  NA     </td><td>  NA     </td><td>Autumn_12</td><td>1        </td><td>Autumn   </td></tr>\n",
       "\t<tr><th scope=row>S2</th><td>595      </td><td> 797.3239</td><td>41.70870 </td><td> 749.0884</td><td>13.54643 </td><td>4.560236 </td><td>0.9732375</td><td>37.36565 </td><td>126.3525 </td><td>0.7138126</td><td>⋯        </td><td>y2012    </td><td>nov      </td><td>none     </td><td>   NA    </td><td>    NA   </td><td>  NA     </td><td>  NA     </td><td>Autumn_12</td><td>1        </td><td>Autumn   </td></tr>\n",
       "\t<tr><th scope=row>S3</th><td>909      </td><td>1082.7879</td><td>33.59760 </td><td>1071.0955</td><td>16.51527 </td><td>4.933919 </td><td>0.9762544</td><td>42.11305 </td><td>162.2370 </td><td>0.7242615</td><td>⋯        </td><td>y2012    </td><td>nov      </td><td>none     </td><td>   NA    </td><td>    NA   </td><td>  NA     </td><td>  NA     </td><td>Autumn_12</td><td>1        </td><td>Autumn   </td></tr>\n",
       "\t<tr><th scope=row>S4</th><td>904      </td><td>1078.6901</td><td>37.09365 </td><td>1027.8185</td><td>16.05490 </td><td>5.234497 </td><td>0.9861490</td><td>72.19675 </td><td>162.7804 </td><td>0.7690066</td><td>⋯        </td><td>y2013    </td><td>may      </td><td>low      </td><td>20.00    </td><td> 8.360   </td><td>4.70     </td><td>8.60     </td><td>Spring_13</td><td>2        </td><td>Spring   </td></tr>\n",
       "\t<tr><th scope=row>S5</th><td>886      </td><td>1053.0000</td><td>34.21966 </td><td>1014.5400</td><td>15.83336 </td><td>5.043441 </td><td>0.9805729</td><td>51.47443 </td><td>164.1531 </td><td>0.7431341</td><td>⋯        </td><td>y2013    </td><td>may      </td><td>low      </td><td>20.50    </td><td> 8.300   </td><td>4.69     </td><td>8.61     </td><td>Spring_13</td><td>2        </td><td>Spring   </td></tr>\n",
       "\t<tr><th scope=row>S6</th><td>788      </td><td> 988.6800</td><td>40.76315 </td><td> 940.0626</td><td>15.41020 </td><td>5.145337 </td><td>0.9823072</td><td>56.52022 </td><td>160.9427 </td><td>0.7714729</td><td>⋯        </td><td>y2013    </td><td>may      </td><td>low      </td><td>20.30    </td><td> 8.300   </td><td>4.71     </td><td>8.59     </td><td>Spring_13</td><td>2        </td><td>Spring   </td></tr>\n",
       "\t<tr><th scope=row>S7</th><td>957      </td><td>1103.3505</td><td>29.57780 </td><td>1088.5515</td><td>16.52654 </td><td>5.232292 </td><td>0.9844902</td><td>64.47528 </td><td>180.5817 </td><td>0.7623021</td><td>⋯        </td><td>y2013    </td><td>oct      </td><td>high     </td><td>26.50    </td><td> 6.530   </td><td>3.66     </td><td>7.90     </td><td>Autumn_13</td><td>3        </td><td>Autumn   </td></tr>\n",
       "\t<tr><th scope=row>S8</th><td>903      </td><td> 998.4130</td><td>21.66008 </td><td> 993.0575</td><td>15.65848 </td><td>4.951102 </td><td>0.9713006</td><td>34.84397 </td><td>165.0920 </td><td>0.7274910</td><td>⋯        </td><td>y2013    </td><td>oct      </td><td>high     </td><td>26.16    </td><td> 6.400   </td><td>3.56     </td><td>8.06     </td><td>Autumn_13</td><td>3        </td><td>Autumn   </td></tr>\n",
       "\t<tr><th scope=row>S9</th><td>906      </td><td>1087.8354</td><td>37.11671 </td><td>1038.1193</td><td>15.94765 </td><td>5.197987 </td><td>0.9810412</td><td>52.74587 </td><td>173.3913 </td><td>0.7633951</td><td>⋯        </td><td>y2013    </td><td>oct      </td><td>high     </td><td>25.42    </td><td> 6.478   </td><td>3.59     </td><td>8.07     </td><td>Autumn_13</td><td>3        </td><td>Autumn   </td></tr>\n",
       "\t<tr><th scope=row>S10</th><td>834      </td><td>1002.7647</td><td>36.55029 </td><td> 942.0853</td><td>15.16222 </td><td>5.159896 </td><td>0.9815375</td><td>54.16386 </td><td>162.2279 </td><td>0.7671301</td><td>⋯        </td><td>y2014    </td><td>may      </td><td>medium   </td><td>24.99    </td><td>11.590   </td><td>6.62     </td><td>8.09     </td><td>Spring_14</td><td>4        </td><td>Spring   </td></tr>\n",
       "\t<tr><th scope=row>S11</th><td>774      </td><td> 933.0789</td><td>33.77470 </td><td> 896.7198</td><td>14.89700 </td><td>4.786693 </td><td>0.9678326</td><td>31.08737 </td><td>152.2825 </td><td>0.7196333</td><td>⋯        </td><td>y2014    </td><td>may      </td><td>medium   </td><td>25.45    </td><td>11.580   </td><td>6.61     </td><td>8.31     </td><td>Spring_14</td><td>4        </td><td>Spring   </td></tr>\n",
       "\t<tr><th scope=row>S12</th><td>893      </td><td>1070.7051</td><td>36.58297 </td><td>1025.1678</td><td>15.95616 </td><td>5.195627 </td><td>0.9822210</td><td>56.24616 </td><td>168.2027 </td><td>0.7646715</td><td>⋯        </td><td>y2014    </td><td>may      </td><td>medium   </td><td>25.22    </td><td>11.600   </td><td>6.61     </td><td>8.31     </td><td>Spring_14</td><td>4        </td><td>Spring   </td></tr>\n",
       "</tbody>\n",
       "</table>\n"
      ],
      "text/latex": [
       "\\begin{tabular}{r|llllllllllllllllllllllll}\n",
       "  & Observed & Chao1 & se.chao1 & ACE & se.ACE & Shannon & Simpson & InvSimpson & Fisher & Pielou2 & ⋯ & year & samp\\_period & water\\_level & temp & sp\\_comd & salt & pH & season\\_year & wl\\_order & season\\\\\n",
       "\\hline\n",
       "\tS1 & 791         &  893.3529   & 22.24987    &  907.2252   & 15.07986    & 5.182797    & 0.9848085   & 65.82615    & 155.5618    & 0.7766470   & ⋯           & y2012       & nov         & none        &    NA       &     NA      &   NA        &   NA        & Autumn\\_12 & 1           & Autumn     \\\\\n",
       "\tS2 & 595         &  797.3239   & 41.70870    &  749.0884   & 13.54643    & 4.560236    & 0.9732375   & 37.36565    & 126.3525    & 0.7138126   & ⋯           & y2012       & nov         & none        &    NA       &     NA      &   NA        &   NA        & Autumn\\_12 & 1           & Autumn     \\\\\n",
       "\tS3 & 909         & 1082.7879   & 33.59760    & 1071.0955   & 16.51527    & 4.933919    & 0.9762544   & 42.11305    & 162.2370    & 0.7242615   & ⋯           & y2012       & nov         & none        &    NA       &     NA      &   NA        &   NA        & Autumn\\_12 & 1           & Autumn     \\\\\n",
       "\tS4 & 904         & 1078.6901   & 37.09365    & 1027.8185   & 16.05490    & 5.234497    & 0.9861490   & 72.19675    & 162.7804    & 0.7690066   & ⋯           & y2013       & may         & low         & 20.00       &  8.360      & 4.70        & 8.60        & Spring\\_13 & 2           & Spring     \\\\\n",
       "\tS5 & 886         & 1053.0000   & 34.21966    & 1014.5400   & 15.83336    & 5.043441    & 0.9805729   & 51.47443    & 164.1531    & 0.7431341   & ⋯           & y2013       & may         & low         & 20.50       &  8.300      & 4.69        & 8.61        & Spring\\_13 & 2           & Spring     \\\\\n",
       "\tS6 & 788         &  988.6800   & 40.76315    &  940.0626   & 15.41020    & 5.145337    & 0.9823072   & 56.52022    & 160.9427    & 0.7714729   & ⋯           & y2013       & may         & low         & 20.30       &  8.300      & 4.71        & 8.59        & Spring\\_13 & 2           & Spring     \\\\\n",
       "\tS7 & 957         & 1103.3505   & 29.57780    & 1088.5515   & 16.52654    & 5.232292    & 0.9844902   & 64.47528    & 180.5817    & 0.7623021   & ⋯           & y2013       & oct         & high        & 26.50       &  6.530      & 3.66        & 7.90        & Autumn\\_13 & 3           & Autumn     \\\\\n",
       "\tS8 & 903         &  998.4130   & 21.66008    &  993.0575   & 15.65848    & 4.951102    & 0.9713006   & 34.84397    & 165.0920    & 0.7274910   & ⋯           & y2013       & oct         & high        & 26.16       &  6.400      & 3.56        & 8.06        & Autumn\\_13 & 3           & Autumn     \\\\\n",
       "\tS9 & 906         & 1087.8354   & 37.11671    & 1038.1193   & 15.94765    & 5.197987    & 0.9810412   & 52.74587    & 173.3913    & 0.7633951   & ⋯           & y2013       & oct         & high        & 25.42       &  6.478      & 3.59        & 8.07        & Autumn\\_13 & 3           & Autumn     \\\\\n",
       "\tS10 & 834         & 1002.7647   & 36.55029    &  942.0853   & 15.16222    & 5.159896    & 0.9815375   & 54.16386    & 162.2279    & 0.7671301   & ⋯           & y2014       & may         & medium      & 24.99       & 11.590      & 6.62        & 8.09        & Spring\\_14 & 4           & Spring     \\\\\n",
       "\tS11 & 774         &  933.0789   & 33.77470    &  896.7198   & 14.89700    & 4.786693    & 0.9678326   & 31.08737    & 152.2825    & 0.7196333   & ⋯           & y2014       & may         & medium      & 25.45       & 11.580      & 6.61        & 8.31        & Spring\\_14 & 4           & Spring     \\\\\n",
       "\tS12 & 893         & 1070.7051   & 36.58297    & 1025.1678   & 15.95616    & 5.195627    & 0.9822210   & 56.24616    & 168.2027    & 0.7646715   & ⋯           & y2014       & may         & medium      & 25.22       & 11.600      & 6.61        & 8.31        & Spring\\_14 & 4           & Spring     \\\\\n",
       "\\end{tabular}\n"
      ],
      "text/markdown": [
       "\n",
       "| <!--/--> | Observed | Chao1 | se.chao1 | ACE | se.ACE | Shannon | Simpson | InvSimpson | Fisher | Pielou2 | ⋯ | year | samp_period | water_level | temp | sp_comd | salt | pH | season_year | wl_order | season | \n",
       "|---|---|---|---|---|---|---|---|---|---|---|---|\n",
       "| S1 | 791       |  893.3529 | 22.24987  |  907.2252 | 15.07986  | 5.182797  | 0.9848085 | 65.82615  | 155.5618  | 0.7766470 | ⋯         | y2012     | nov       | none      |    NA     |     NA    |   NA      |   NA      | Autumn_12 | 1         | Autumn    | \n",
       "| S2 | 595       |  797.3239 | 41.70870  |  749.0884 | 13.54643  | 4.560236  | 0.9732375 | 37.36565  | 126.3525  | 0.7138126 | ⋯         | y2012     | nov       | none      |    NA     |     NA    |   NA      |   NA      | Autumn_12 | 1         | Autumn    | \n",
       "| S3 | 909       | 1082.7879 | 33.59760  | 1071.0955 | 16.51527  | 4.933919  | 0.9762544 | 42.11305  | 162.2370  | 0.7242615 | ⋯         | y2012     | nov       | none      |    NA     |     NA    |   NA      |   NA      | Autumn_12 | 1         | Autumn    | \n",
       "| S4 | 904       | 1078.6901 | 37.09365  | 1027.8185 | 16.05490  | 5.234497  | 0.9861490 | 72.19675  | 162.7804  | 0.7690066 | ⋯         | y2013     | may       | low       | 20.00     |  8.360    | 4.70      | 8.60      | Spring_13 | 2         | Spring    | \n",
       "| S5 | 886       | 1053.0000 | 34.21966  | 1014.5400 | 15.83336  | 5.043441  | 0.9805729 | 51.47443  | 164.1531  | 0.7431341 | ⋯         | y2013     | may       | low       | 20.50     |  8.300    | 4.69      | 8.61      | Spring_13 | 2         | Spring    | \n",
       "| S6 | 788       |  988.6800 | 40.76315  |  940.0626 | 15.41020  | 5.145337  | 0.9823072 | 56.52022  | 160.9427  | 0.7714729 | ⋯         | y2013     | may       | low       | 20.30     |  8.300    | 4.71      | 8.59      | Spring_13 | 2         | Spring    | \n",
       "| S7 | 957       | 1103.3505 | 29.57780  | 1088.5515 | 16.52654  | 5.232292  | 0.9844902 | 64.47528  | 180.5817  | 0.7623021 | ⋯         | y2013     | oct       | high      | 26.50     |  6.530    | 3.66      | 7.90      | Autumn_13 | 3         | Autumn    | \n",
       "| S8 | 903       |  998.4130 | 21.66008  |  993.0575 | 15.65848  | 4.951102  | 0.9713006 | 34.84397  | 165.0920  | 0.7274910 | ⋯         | y2013     | oct       | high      | 26.16     |  6.400    | 3.56      | 8.06      | Autumn_13 | 3         | Autumn    | \n",
       "| S9 | 906       | 1087.8354 | 37.11671  | 1038.1193 | 15.94765  | 5.197987  | 0.9810412 | 52.74587  | 173.3913  | 0.7633951 | ⋯         | y2013     | oct       | high      | 25.42     |  6.478    | 3.59      | 8.07      | Autumn_13 | 3         | Autumn    | \n",
       "| S10 | 834       | 1002.7647 | 36.55029  |  942.0853 | 15.16222  | 5.159896  | 0.9815375 | 54.16386  | 162.2279  | 0.7671301 | ⋯         | y2014     | may       | medium    | 24.99     | 11.590    | 6.62      | 8.09      | Spring_14 | 4         | Spring    | \n",
       "| S11 | 774       |  933.0789 | 33.77470  |  896.7198 | 14.89700  | 4.786693  | 0.9678326 | 31.08737  | 152.2825  | 0.7196333 | ⋯         | y2014     | may       | medium    | 25.45     | 11.580    | 6.61      | 8.31      | Spring_14 | 4         | Spring    | \n",
       "| S12 | 893       | 1070.7051 | 36.58297  | 1025.1678 | 15.95616  | 5.195627  | 0.9822210 | 56.24616  | 168.2027  | 0.7646715 | ⋯         | y2014     | may       | medium    | 25.22     | 11.600    | 6.61      | 8.31      | Spring_14 | 4         | Spring    | \n",
       "\n",
       "\n"
      ],
      "text/plain": [
       "    Observed Chao1     se.chao1 ACE       se.ACE   Shannon  Simpson  \n",
       "S1  791       893.3529 22.24987  907.2252 15.07986 5.182797 0.9848085\n",
       "S2  595       797.3239 41.70870  749.0884 13.54643 4.560236 0.9732375\n",
       "S3  909      1082.7879 33.59760 1071.0955 16.51527 4.933919 0.9762544\n",
       "S4  904      1078.6901 37.09365 1027.8185 16.05490 5.234497 0.9861490\n",
       "S5  886      1053.0000 34.21966 1014.5400 15.83336 5.043441 0.9805729\n",
       "S6  788       988.6800 40.76315  940.0626 15.41020 5.145337 0.9823072\n",
       "S7  957      1103.3505 29.57780 1088.5515 16.52654 5.232292 0.9844902\n",
       "S8  903       998.4130 21.66008  993.0575 15.65848 4.951102 0.9713006\n",
       "S9  906      1087.8354 37.11671 1038.1193 15.94765 5.197987 0.9810412\n",
       "S10 834      1002.7647 36.55029  942.0853 15.16222 5.159896 0.9815375\n",
       "S11 774       933.0789 33.77470  896.7198 14.89700 4.786693 0.9678326\n",
       "S12 893      1070.7051 36.58297 1025.1678 15.95616 5.195627 0.9822210\n",
       "    InvSimpson Fisher   Pielou2   ⋯ year  samp_period water_level temp  sp_comd\n",
       "S1  65.82615   155.5618 0.7766470 ⋯ y2012 nov         none           NA     NA \n",
       "S2  37.36565   126.3525 0.7138126 ⋯ y2012 nov         none           NA     NA \n",
       "S3  42.11305   162.2370 0.7242615 ⋯ y2012 nov         none           NA     NA \n",
       "S4  72.19675   162.7804 0.7690066 ⋯ y2013 may         low         20.00  8.360 \n",
       "S5  51.47443   164.1531 0.7431341 ⋯ y2013 may         low         20.50  8.300 \n",
       "S6  56.52022   160.9427 0.7714729 ⋯ y2013 may         low         20.30  8.300 \n",
       "S7  64.47528   180.5817 0.7623021 ⋯ y2013 oct         high        26.50  6.530 \n",
       "S8  34.84397   165.0920 0.7274910 ⋯ y2013 oct         high        26.16  6.400 \n",
       "S9  52.74587   173.3913 0.7633951 ⋯ y2013 oct         high        25.42  6.478 \n",
       "S10 54.16386   162.2279 0.7671301 ⋯ y2014 may         medium      24.99 11.590 \n",
       "S11 31.08737   152.2825 0.7196333 ⋯ y2014 may         medium      25.45 11.580 \n",
       "S12 56.24616   168.2027 0.7646715 ⋯ y2014 may         medium      25.22 11.600 \n",
       "    salt pH   season_year wl_order season\n",
       "S1    NA   NA Autumn_12   1        Autumn\n",
       "S2    NA   NA Autumn_12   1        Autumn\n",
       "S3    NA   NA Autumn_12   1        Autumn\n",
       "S4  4.70 8.60 Spring_13   2        Spring\n",
       "S5  4.69 8.61 Spring_13   2        Spring\n",
       "S6  4.71 8.59 Spring_13   2        Spring\n",
       "S7  3.66 7.90 Autumn_13   3        Autumn\n",
       "S8  3.56 8.06 Autumn_13   3        Autumn\n",
       "S9  3.59 8.07 Autumn_13   3        Autumn\n",
       "S10 6.62 8.09 Spring_14   4        Spring\n",
       "S11 6.61 8.31 Spring_14   4        Spring\n",
       "S12 6.61 8.31 Spring_14   4        Spring"
      ]
     },
     "metadata": {},
     "output_type": "display_data"
    }
   ],
   "source": [
    "gen_otu<- as.matrix(read.table(\"genus.tab\", header=T, row.names=1))\n",
    "genOTU=otu_table(gen_otu, taxa_are_rows=T)\n",
    "mats2=phyloseq(genOTU)\n",
    "mats2=phyloseq(genOTU, sampledata)\n",
    "estimate_richness(mats2)->div_alpha2\n",
    "as.data.frame(t(gen_otu))->gen1\n",
    "Pielou2<-vegan::diversity(gen1)/log(specnumber(gen1))\n",
    "cbind (div_alpha2,Pielou2)->div_alpha2\n",
    "write.table(div_alpha2, \"diversidad_genus.txt\", sep=\"\\t\")\n",
    "cbind (div_alpha2,Pielou2, metadata)->div_alpha2\n",
    "div_alpha2"
   ]
  },
  {
   "cell_type": "code",
   "execution_count": 25,
   "metadata": {},
   "outputs": [
    {
     "name": "stderr",
     "output_type": "stream",
     "text": [
      "Warning message in `levels<-`(`*tmp*`, value = if (nl == nL) as.character(labels) else paste0(labels, :\n",
      "“duplicated levels in factors are deprecated”"
     ]
    },
    {
     "data": {
      "text/html": [
       "<ol class=list-inline>\n",
       "\t<li>Autumn_12</li>\n",
       "\t<li>Autumn_12</li>\n",
       "\t<li>Autumn_12</li>\n",
       "\t<li>Spring_13</li>\n",
       "\t<li>Spring_13</li>\n",
       "\t<li>Spring_13</li>\n",
       "\t<li>Autumn_13</li>\n",
       "\t<li>Autumn_13</li>\n",
       "\t<li>Autumn_13</li>\n",
       "\t<li>Spring_14</li>\n",
       "\t<li>Spring_14</li>\n",
       "\t<li>Spring_14</li>\n",
       "</ol>\n"
      ],
      "text/latex": [
       "\\begin{enumerate*}\n",
       "\\item Autumn\\_12\n",
       "\\item Autumn\\_12\n",
       "\\item Autumn\\_12\n",
       "\\item Spring\\_13\n",
       "\\item Spring\\_13\n",
       "\\item Spring\\_13\n",
       "\\item Autumn\\_13\n",
       "\\item Autumn\\_13\n",
       "\\item Autumn\\_13\n",
       "\\item Spring\\_14\n",
       "\\item Spring\\_14\n",
       "\\item Spring\\_14\n",
       "\\end{enumerate*}\n"
      ],
      "text/markdown": [
       "1. Autumn_12\n",
       "2. Autumn_12\n",
       "3. Autumn_12\n",
       "4. Spring_13\n",
       "5. Spring_13\n",
       "6. Spring_13\n",
       "7. Autumn_13\n",
       "8. Autumn_13\n",
       "9. Autumn_13\n",
       "10. Spring_14\n",
       "11. Spring_14\n",
       "12. Spring_14\n",
       "\n",
       "\n"
      ],
      "text/plain": [
       " [1] Autumn_12 Autumn_12 Autumn_12 Spring_13 Spring_13 Spring_13 Autumn_13\n",
       " [8] Autumn_13 Autumn_13 Spring_14 Spring_14 Spring_14\n",
       "12 Levels: Autumn_12 Autumn_12 Autumn_12 Spring_13 Spring_13 ... Spring_14"
      ]
     },
     "metadata": {},
     "output_type": "display_data"
    }
   ],
   "source": [
    "div_alpha2$season_year <- factor(div_alpha2$season_year, levels = div_alpha2$season_year[order(div_alpha2$wl_order)])\n",
    "div_alpha2$season_year"
   ]
  },
  {
   "cell_type": "code",
   "execution_count": 26,
   "metadata": {
    "collapsed": true,
    "scrolled": true
   },
   "outputs": [],
   "source": [
    "ggplot(div_alpha2, aes(x=season_year, y=Shannon, group=site))+geom_point(aes(x=season_year, y=Shannon, color=site), size=4, alpha=0.7) +\n",
    "  geom_line(aes( color=site))+xlab(\"\")+ ylab(\"\")+ ggtitle(\"Genus level\")+ theme (legend.position = \"none\",plot.title = element_text(hjust = 0.5), axis.text.x = element_text(angle=45, hjust = 1))+ ylim (3.5,6.5)->p3\n",
    "ggplot(div_alpha2, aes(x=season_year, y=Pielou2, group=site))+geom_point(aes(x=season_year, y=Pielou2, color=site), size=4, alpha=0.7) +\n",
    "  geom_line(aes( color=site))+ylab(\"\")+ theme (legend.position = \"none\",plot.title = element_text(hjust = 0.5), axis.text.x = element_text(angle=45, hjust = 1))+ ylim (0.6,0.85)->p4"
   ]
  },
  {
   "cell_type": "markdown",
   "metadata": {},
   "source": [
    "## Family level"
   ]
  },
  {
   "cell_type": "code",
   "execution_count": 27,
   "metadata": {
    "scrolled": true
   },
   "outputs": [
    {
     "data": {
      "text/html": [
       "<table>\n",
       "<thead><tr><th></th><th scope=col>Observed</th><th scope=col>Chao1</th><th scope=col>se.chao1</th><th scope=col>ACE</th><th scope=col>se.ACE</th><th scope=col>Shannon</th><th scope=col>Simpson</th><th scope=col>InvSimpson</th><th scope=col>Fisher</th><th scope=col>Pielou3</th><th scope=col>⋯</th><th scope=col>year</th><th scope=col>samp_period</th><th scope=col>water_level</th><th scope=col>temp</th><th scope=col>sp_comd</th><th scope=col>salt</th><th scope=col>pH</th><th scope=col>season_year</th><th scope=col>wl_order</th><th scope=col>season</th></tr></thead>\n",
       "<tbody>\n",
       "\t<tr><th scope=row>S1</th><td>320      </td><td>366.2432 </td><td>15.80995 </td><td>372.0518 </td><td> 9.622339</td><td>3.981346 </td><td>0.9442797</td><td>17.94677 </td><td>51.77295 </td><td>0.6902088</td><td>⋯        </td><td>y2012    </td><td>nov      </td><td>none     </td><td>   NA    </td><td>    NA   </td><td>  NA     </td><td>  NA     </td><td>Autumn_12</td><td>1        </td><td>Autumn   </td></tr>\n",
       "\t<tr><th scope=row>S2</th><td>261      </td><td>338.2941 </td><td>24.07770 </td><td>338.5277 </td><td> 9.597607</td><td>3.577315 </td><td>0.9376253</td><td>16.03215 </td><td>45.61203 </td><td>0.6428793</td><td>⋯        </td><td>y2012    </td><td>nov      </td><td>none     </td><td>   NA    </td><td>    NA   </td><td>  NA     </td><td>  NA     </td><td>Autumn_12</td><td>1        </td><td>Autumn   </td></tr>\n",
       "\t<tr><th scope=row>S3</th><td>354      </td><td>402.8250 </td><td>16.14716 </td><td>406.0271 </td><td>10.056344</td><td>3.574358 </td><td>0.9175810</td><td>12.13312 </td><td>52.63008 </td><td>0.6089925</td><td>⋯        </td><td>y2012    </td><td>nov      </td><td>none     </td><td>   NA    </td><td>    NA   </td><td>  NA     </td><td>  NA     </td><td>Autumn_12</td><td>1        </td><td>Autumn   </td></tr>\n",
       "\t<tr><th scope=row>S4</th><td>356      </td><td>447.2857 </td><td>29.11551 </td><td>430.9873 </td><td>10.520159</td><td>3.942499 </td><td>0.9421883</td><td>17.29754 </td><td>53.41120 </td><td>0.6710716</td><td>⋯        </td><td>y2013    </td><td>may      </td><td>low      </td><td>20.00    </td><td> 8.360   </td><td>4.70     </td><td>8.60     </td><td>Spring_13</td><td>2        </td><td>Spring   </td></tr>\n",
       "\t<tr><th scope=row>S5</th><td>359      </td><td>422.0303 </td><td>20.68978 </td><td>411.6562 </td><td>10.091779</td><td>3.879975 </td><td>0.9451043</td><td>18.21637 </td><td>55.39525 </td><td>0.6594871</td><td>⋯        </td><td>y2013    </td><td>may      </td><td>low      </td><td>20.50    </td><td> 8.300   </td><td>4.69     </td><td>8.61     </td><td>Spring_13</td><td>2        </td><td>Spring   </td></tr>\n",
       "\t<tr><th scope=row>S6</th><td>342      </td><td>417.3030 </td><td>23.78973 </td><td>412.7483 </td><td>10.317039</td><td>4.230465 </td><td>0.9688011</td><td>32.05243 </td><td>57.81817 </td><td>0.7250389</td><td>⋯        </td><td>y2013    </td><td>may      </td><td>low      </td><td>20.30    </td><td> 8.300   </td><td>4.71     </td><td>8.59     </td><td>Spring_13</td><td>2        </td><td>Spring   </td></tr>\n",
       "\t<tr><th scope=row>S7</th><td>377      </td><td>415.9268 </td><td>13.53593 </td><td>423.5784 </td><td>10.246550</td><td>4.264114 </td><td>0.9702822</td><td>33.64984 </td><td>58.72792 </td><td>0.7188027</td><td>⋯        </td><td>y2013    </td><td>oct      </td><td>high     </td><td>26.50    </td><td> 6.530   </td><td>3.66     </td><td>7.90     </td><td>Autumn_13</td><td>3        </td><td>Autumn   </td></tr>\n",
       "\t<tr><th scope=row>S8</th><td>363      </td><td>410.2222 </td><td>17.46850 </td><td>404.0358 </td><td> 9.839101</td><td>3.968018 </td><td>0.9407215</td><td>16.86953 </td><td>55.33574 </td><td>0.6731841</td><td>⋯        </td><td>y2013    </td><td>oct      </td><td>high     </td><td>26.16    </td><td> 6.400   </td><td>3.56     </td><td>8.06     </td><td>Autumn_13</td><td>3        </td><td>Autumn   </td></tr>\n",
       "\t<tr><th scope=row>S9</th><td>373      </td><td>444.1875 </td><td>22.95958 </td><td>435.9638 </td><td>10.234683</td><td>4.228663 </td><td>0.9664094</td><td>29.77024 </td><td>59.24938 </td><td>0.7141107</td><td>⋯        </td><td>y2013    </td><td>oct      </td><td>high     </td><td>25.42    </td><td> 6.478   </td><td>3.59     </td><td>8.07     </td><td>Autumn_13</td><td>3        </td><td>Autumn   </td></tr>\n",
       "\t<tr><th scope=row>S10</th><td>347      </td><td>443.1304 </td><td>32.25633 </td><td>407.7630 </td><td> 9.998838</td><td>4.235778 </td><td>0.9693478</td><td>32.62405 </td><td>55.95374 </td><td>0.7241482</td><td>⋯        </td><td>y2014    </td><td>may      </td><td>medium   </td><td>24.99    </td><td>11.590   </td><td>6.62     </td><td>8.09     </td><td>Spring_14</td><td>4        </td><td>Spring   </td></tr>\n",
       "\t<tr><th scope=row>S11</th><td>347      </td><td>420.7000 </td><td>24.03961 </td><td>413.7090 </td><td>10.148261</td><td>4.073191 </td><td>0.9546734</td><td>22.06208 </td><td>57.29577 </td><td>0.6963523</td><td>⋯        </td><td>y2014    </td><td>may      </td><td>medium   </td><td>25.45    </td><td>11.580   </td><td>6.61     </td><td>8.31     </td><td>Spring_14</td><td>4        </td><td>Spring   </td></tr>\n",
       "\t<tr><th scope=row>S12</th><td>383      </td><td>469.0588 </td><td>26.21570 </td><td>468.8599 </td><td>10.969677</td><td>4.287842 </td><td>0.9708801</td><td>34.34082 </td><td>60.52446 </td><td>0.7208838</td><td>⋯        </td><td>y2014    </td><td>may      </td><td>medium   </td><td>25.22    </td><td>11.600   </td><td>6.61     </td><td>8.31     </td><td>Spring_14</td><td>4        </td><td>Spring   </td></tr>\n",
       "</tbody>\n",
       "</table>\n"
      ],
      "text/latex": [
       "\\begin{tabular}{r|llllllllllllllllllllllll}\n",
       "  & Observed & Chao1 & se.chao1 & ACE & se.ACE & Shannon & Simpson & InvSimpson & Fisher & Pielou3 & ⋯ & year & samp\\_period & water\\_level & temp & sp\\_comd & salt & pH & season\\_year & wl\\_order & season\\\\\n",
       "\\hline\n",
       "\tS1 & 320         & 366.2432    & 15.80995    & 372.0518    &  9.622339   & 3.981346    & 0.9442797   & 17.94677    & 51.77295    & 0.6902088   & ⋯           & y2012       & nov         & none        &    NA       &     NA      &   NA        &   NA        & Autumn\\_12 & 1           & Autumn     \\\\\n",
       "\tS2 & 261         & 338.2941    & 24.07770    & 338.5277    &  9.597607   & 3.577315    & 0.9376253   & 16.03215    & 45.61203    & 0.6428793   & ⋯           & y2012       & nov         & none        &    NA       &     NA      &   NA        &   NA        & Autumn\\_12 & 1           & Autumn     \\\\\n",
       "\tS3 & 354         & 402.8250    & 16.14716    & 406.0271    & 10.056344   & 3.574358    & 0.9175810   & 12.13312    & 52.63008    & 0.6089925   & ⋯           & y2012       & nov         & none        &    NA       &     NA      &   NA        &   NA        & Autumn\\_12 & 1           & Autumn     \\\\\n",
       "\tS4 & 356         & 447.2857    & 29.11551    & 430.9873    & 10.520159   & 3.942499    & 0.9421883   & 17.29754    & 53.41120    & 0.6710716   & ⋯           & y2013       & may         & low         & 20.00       &  8.360      & 4.70        & 8.60        & Spring\\_13 & 2           & Spring     \\\\\n",
       "\tS5 & 359         & 422.0303    & 20.68978    & 411.6562    & 10.091779   & 3.879975    & 0.9451043   & 18.21637    & 55.39525    & 0.6594871   & ⋯           & y2013       & may         & low         & 20.50       &  8.300      & 4.69        & 8.61        & Spring\\_13 & 2           & Spring     \\\\\n",
       "\tS6 & 342         & 417.3030    & 23.78973    & 412.7483    & 10.317039   & 4.230465    & 0.9688011   & 32.05243    & 57.81817    & 0.7250389   & ⋯           & y2013       & may         & low         & 20.30       &  8.300      & 4.71        & 8.59        & Spring\\_13 & 2           & Spring     \\\\\n",
       "\tS7 & 377         & 415.9268    & 13.53593    & 423.5784    & 10.246550   & 4.264114    & 0.9702822   & 33.64984    & 58.72792    & 0.7188027   & ⋯           & y2013       & oct         & high        & 26.50       &  6.530      & 3.66        & 7.90        & Autumn\\_13 & 3           & Autumn     \\\\\n",
       "\tS8 & 363         & 410.2222    & 17.46850    & 404.0358    &  9.839101   & 3.968018    & 0.9407215   & 16.86953    & 55.33574    & 0.6731841   & ⋯           & y2013       & oct         & high        & 26.16       &  6.400      & 3.56        & 8.06        & Autumn\\_13 & 3           & Autumn     \\\\\n",
       "\tS9 & 373         & 444.1875    & 22.95958    & 435.9638    & 10.234683   & 4.228663    & 0.9664094   & 29.77024    & 59.24938    & 0.7141107   & ⋯           & y2013       & oct         & high        & 25.42       &  6.478      & 3.59        & 8.07        & Autumn\\_13 & 3           & Autumn     \\\\\n",
       "\tS10 & 347         & 443.1304    & 32.25633    & 407.7630    &  9.998838   & 4.235778    & 0.9693478   & 32.62405    & 55.95374    & 0.7241482   & ⋯           & y2014       & may         & medium      & 24.99       & 11.590      & 6.62        & 8.09        & Spring\\_14 & 4           & Spring     \\\\\n",
       "\tS11 & 347         & 420.7000    & 24.03961    & 413.7090    & 10.148261   & 4.073191    & 0.9546734   & 22.06208    & 57.29577    & 0.6963523   & ⋯           & y2014       & may         & medium      & 25.45       & 11.580      & 6.61        & 8.31        & Spring\\_14 & 4           & Spring     \\\\\n",
       "\tS12 & 383         & 469.0588    & 26.21570    & 468.8599    & 10.969677   & 4.287842    & 0.9708801   & 34.34082    & 60.52446    & 0.7208838   & ⋯           & y2014       & may         & medium      & 25.22       & 11.600      & 6.61        & 8.31        & Spring\\_14 & 4           & Spring     \\\\\n",
       "\\end{tabular}\n"
      ],
      "text/markdown": [
       "\n",
       "| <!--/--> | Observed | Chao1 | se.chao1 | ACE | se.ACE | Shannon | Simpson | InvSimpson | Fisher | Pielou3 | ⋯ | year | samp_period | water_level | temp | sp_comd | salt | pH | season_year | wl_order | season | \n",
       "|---|---|---|---|---|---|---|---|---|---|---|---|\n",
       "| S1 | 320       | 366.2432  | 15.80995  | 372.0518  |  9.622339 | 3.981346  | 0.9442797 | 17.94677  | 51.77295  | 0.6902088 | ⋯         | y2012     | nov       | none      |    NA     |     NA    |   NA      |   NA      | Autumn_12 | 1         | Autumn    | \n",
       "| S2 | 261       | 338.2941  | 24.07770  | 338.5277  |  9.597607 | 3.577315  | 0.9376253 | 16.03215  | 45.61203  | 0.6428793 | ⋯         | y2012     | nov       | none      |    NA     |     NA    |   NA      |   NA      | Autumn_12 | 1         | Autumn    | \n",
       "| S3 | 354       | 402.8250  | 16.14716  | 406.0271  | 10.056344 | 3.574358  | 0.9175810 | 12.13312  | 52.63008  | 0.6089925 | ⋯         | y2012     | nov       | none      |    NA     |     NA    |   NA      |   NA      | Autumn_12 | 1         | Autumn    | \n",
       "| S4 | 356       | 447.2857  | 29.11551  | 430.9873  | 10.520159 | 3.942499  | 0.9421883 | 17.29754  | 53.41120  | 0.6710716 | ⋯         | y2013     | may       | low       | 20.00     |  8.360    | 4.70      | 8.60      | Spring_13 | 2         | Spring    | \n",
       "| S5 | 359       | 422.0303  | 20.68978  | 411.6562  | 10.091779 | 3.879975  | 0.9451043 | 18.21637  | 55.39525  | 0.6594871 | ⋯         | y2013     | may       | low       | 20.50     |  8.300    | 4.69      | 8.61      | Spring_13 | 2         | Spring    | \n",
       "| S6 | 342       | 417.3030  | 23.78973  | 412.7483  | 10.317039 | 4.230465  | 0.9688011 | 32.05243  | 57.81817  | 0.7250389 | ⋯         | y2013     | may       | low       | 20.30     |  8.300    | 4.71      | 8.59      | Spring_13 | 2         | Spring    | \n",
       "| S7 | 377       | 415.9268  | 13.53593  | 423.5784  | 10.246550 | 4.264114  | 0.9702822 | 33.64984  | 58.72792  | 0.7188027 | ⋯         | y2013     | oct       | high      | 26.50     |  6.530    | 3.66      | 7.90      | Autumn_13 | 3         | Autumn    | \n",
       "| S8 | 363       | 410.2222  | 17.46850  | 404.0358  |  9.839101 | 3.968018  | 0.9407215 | 16.86953  | 55.33574  | 0.6731841 | ⋯         | y2013     | oct       | high      | 26.16     |  6.400    | 3.56      | 8.06      | Autumn_13 | 3         | Autumn    | \n",
       "| S9 | 373       | 444.1875  | 22.95958  | 435.9638  | 10.234683 | 4.228663  | 0.9664094 | 29.77024  | 59.24938  | 0.7141107 | ⋯         | y2013     | oct       | high      | 25.42     |  6.478    | 3.59      | 8.07      | Autumn_13 | 3         | Autumn    | \n",
       "| S10 | 347       | 443.1304  | 32.25633  | 407.7630  |  9.998838 | 4.235778  | 0.9693478 | 32.62405  | 55.95374  | 0.7241482 | ⋯         | y2014     | may       | medium    | 24.99     | 11.590    | 6.62      | 8.09      | Spring_14 | 4         | Spring    | \n",
       "| S11 | 347       | 420.7000  | 24.03961  | 413.7090  | 10.148261 | 4.073191  | 0.9546734 | 22.06208  | 57.29577  | 0.6963523 | ⋯         | y2014     | may       | medium    | 25.45     | 11.580    | 6.61      | 8.31      | Spring_14 | 4         | Spring    | \n",
       "| S12 | 383       | 469.0588  | 26.21570  | 468.8599  | 10.969677 | 4.287842  | 0.9708801 | 34.34082  | 60.52446  | 0.7208838 | ⋯         | y2014     | may       | medium    | 25.22     | 11.600    | 6.61      | 8.31      | Spring_14 | 4         | Spring    | \n",
       "\n",
       "\n"
      ],
      "text/plain": [
       "    Observed Chao1    se.chao1 ACE      se.ACE    Shannon  Simpson   InvSimpson\n",
       "S1  320      366.2432 15.80995 372.0518  9.622339 3.981346 0.9442797 17.94677  \n",
       "S2  261      338.2941 24.07770 338.5277  9.597607 3.577315 0.9376253 16.03215  \n",
       "S3  354      402.8250 16.14716 406.0271 10.056344 3.574358 0.9175810 12.13312  \n",
       "S4  356      447.2857 29.11551 430.9873 10.520159 3.942499 0.9421883 17.29754  \n",
       "S5  359      422.0303 20.68978 411.6562 10.091779 3.879975 0.9451043 18.21637  \n",
       "S6  342      417.3030 23.78973 412.7483 10.317039 4.230465 0.9688011 32.05243  \n",
       "S7  377      415.9268 13.53593 423.5784 10.246550 4.264114 0.9702822 33.64984  \n",
       "S8  363      410.2222 17.46850 404.0358  9.839101 3.968018 0.9407215 16.86953  \n",
       "S9  373      444.1875 22.95958 435.9638 10.234683 4.228663 0.9664094 29.77024  \n",
       "S10 347      443.1304 32.25633 407.7630  9.998838 4.235778 0.9693478 32.62405  \n",
       "S11 347      420.7000 24.03961 413.7090 10.148261 4.073191 0.9546734 22.06208  \n",
       "S12 383      469.0588 26.21570 468.8599 10.969677 4.287842 0.9708801 34.34082  \n",
       "    Fisher   Pielou3   ⋯ year  samp_period water_level temp  sp_comd salt pH  \n",
       "S1  51.77295 0.6902088 ⋯ y2012 nov         none           NA     NA    NA   NA\n",
       "S2  45.61203 0.6428793 ⋯ y2012 nov         none           NA     NA    NA   NA\n",
       "S3  52.63008 0.6089925 ⋯ y2012 nov         none           NA     NA    NA   NA\n",
       "S4  53.41120 0.6710716 ⋯ y2013 may         low         20.00  8.360  4.70 8.60\n",
       "S5  55.39525 0.6594871 ⋯ y2013 may         low         20.50  8.300  4.69 8.61\n",
       "S6  57.81817 0.7250389 ⋯ y2013 may         low         20.30  8.300  4.71 8.59\n",
       "S7  58.72792 0.7188027 ⋯ y2013 oct         high        26.50  6.530  3.66 7.90\n",
       "S8  55.33574 0.6731841 ⋯ y2013 oct         high        26.16  6.400  3.56 8.06\n",
       "S9  59.24938 0.7141107 ⋯ y2013 oct         high        25.42  6.478  3.59 8.07\n",
       "S10 55.95374 0.7241482 ⋯ y2014 may         medium      24.99 11.590  6.62 8.09\n",
       "S11 57.29577 0.6963523 ⋯ y2014 may         medium      25.45 11.580  6.61 8.31\n",
       "S12 60.52446 0.7208838 ⋯ y2014 may         medium      25.22 11.600  6.61 8.31\n",
       "    season_year wl_order season\n",
       "S1  Autumn_12   1        Autumn\n",
       "S2  Autumn_12   1        Autumn\n",
       "S3  Autumn_12   1        Autumn\n",
       "S4  Spring_13   2        Spring\n",
       "S5  Spring_13   2        Spring\n",
       "S6  Spring_13   2        Spring\n",
       "S7  Autumn_13   3        Autumn\n",
       "S8  Autumn_13   3        Autumn\n",
       "S9  Autumn_13   3        Autumn\n",
       "S10 Spring_14   4        Spring\n",
       "S11 Spring_14   4        Spring\n",
       "S12 Spring_14   4        Spring"
      ]
     },
     "metadata": {},
     "output_type": "display_data"
    }
   ],
   "source": [
    "fam_otu<- as.matrix(read.table(\"family.tab\", header=T, row.names=1))\n",
    "famOTU=otu_table(fam_otu, taxa_are_rows=T)\n",
    "mats3=phyloseq(famOTU)\n",
    "mats3=phyloseq(famOTU, sampledata)\n",
    "estimate_richness(mats3)->div_alpha3\n",
    "as.data.frame(t(fam_otu))->fam1\n",
    "Pielou3<-vegan::diversity(fam1)/log(specnumber(fam1))\n",
    "cbind (div_alpha3,Pielou3)->div_alpha3\n",
    "write.table(div_alpha3, \"diversidad_family.txt\", sep=\"\\t\")\n",
    "cbind (div_alpha3,Pielou3, metadata)->div_alpha3\n",
    "div_alpha3"
   ]
  },
  {
   "cell_type": "code",
   "execution_count": 28,
   "metadata": {},
   "outputs": [
    {
     "name": "stderr",
     "output_type": "stream",
     "text": [
      "Warning message in `levels<-`(`*tmp*`, value = if (nl == nL) as.character(labels) else paste0(labels, :\n",
      "“duplicated levels in factors are deprecated”"
     ]
    },
    {
     "data": {
      "text/html": [
       "<ol class=list-inline>\n",
       "\t<li>Autumn_12</li>\n",
       "\t<li>Autumn_12</li>\n",
       "\t<li>Autumn_12</li>\n",
       "\t<li>Spring_13</li>\n",
       "\t<li>Spring_13</li>\n",
       "\t<li>Spring_13</li>\n",
       "\t<li>Autumn_13</li>\n",
       "\t<li>Autumn_13</li>\n",
       "\t<li>Autumn_13</li>\n",
       "\t<li>Spring_14</li>\n",
       "\t<li>Spring_14</li>\n",
       "\t<li>Spring_14</li>\n",
       "</ol>\n"
      ],
      "text/latex": [
       "\\begin{enumerate*}\n",
       "\\item Autumn\\_12\n",
       "\\item Autumn\\_12\n",
       "\\item Autumn\\_12\n",
       "\\item Spring\\_13\n",
       "\\item Spring\\_13\n",
       "\\item Spring\\_13\n",
       "\\item Autumn\\_13\n",
       "\\item Autumn\\_13\n",
       "\\item Autumn\\_13\n",
       "\\item Spring\\_14\n",
       "\\item Spring\\_14\n",
       "\\item Spring\\_14\n",
       "\\end{enumerate*}\n"
      ],
      "text/markdown": [
       "1. Autumn_12\n",
       "2. Autumn_12\n",
       "3. Autumn_12\n",
       "4. Spring_13\n",
       "5. Spring_13\n",
       "6. Spring_13\n",
       "7. Autumn_13\n",
       "8. Autumn_13\n",
       "9. Autumn_13\n",
       "10. Spring_14\n",
       "11. Spring_14\n",
       "12. Spring_14\n",
       "\n",
       "\n"
      ],
      "text/plain": [
       " [1] Autumn_12 Autumn_12 Autumn_12 Spring_13 Spring_13 Spring_13 Autumn_13\n",
       " [8] Autumn_13 Autumn_13 Spring_14 Spring_14 Spring_14\n",
       "12 Levels: Autumn_12 Autumn_12 Autumn_12 Spring_13 Spring_13 ... Spring_14"
      ]
     },
     "metadata": {},
     "output_type": "display_data"
    }
   ],
   "source": [
    "div_alpha3$season_year <- factor(div_alpha3$season_year, levels = div_alpha3$season_year[order(div_alpha3$wl_order)])\n",
    "div_alpha3$season_year"
   ]
  },
  {
   "cell_type": "code",
   "execution_count": 29,
   "metadata": {
    "collapsed": true
   },
   "outputs": [],
   "source": [
    "theme_set(theme_light())"
   ]
  },
  {
   "cell_type": "code",
   "execution_count": 30,
   "metadata": {
    "collapsed": true
   },
   "outputs": [],
   "source": [
    "ggplot(div_alpha3, aes(x=season_year, y=Shannon, group=site))+geom_point(aes(x=season_year, y=Shannon, color=site), size=4, alpha=0.7) +\n",
    "  geom_line(aes( color=site))+ xlab(\"\")+ ylab(\"\")+ ggtitle(\"Family level\")+ theme (legend.position = \"none\",plot.title = element_text(hjust = 0.5), axis.text.x = element_text(angle=45, hjust = 1))+ ylim (3.5, 6.5)->p5\n",
    "ggplot(div_alpha3, aes(x=season_year, y=Pielou3, group=site))+geom_point(aes(x=season_year, y=Pielou3, color=site), size=4, alpha=0.7) +\n",
    "  geom_line(aes( color=site)) + xlab(\"\")+ ylab(\"\")+  theme (legend.position = \"none\",plot.title = element_text(hjust = 0.5), axis.text.x = element_text(angle=45, hjust = 1))+ ylim (0.6,0.85)->p6"
   ]
  },
  {
   "cell_type": "markdown",
   "metadata": {},
   "source": [
    "# Functional diversity pfam"
   ]
  },
  {
   "cell_type": "code",
   "execution_count": 20,
   "metadata": {},
   "outputs": [
    {
     "data": {
      "text/plain": [
       "phyloseq-class experiment-level object\n",
       "otu_table()   OTU Table:         [ 10124 taxa and 12 samples ]\n",
       "sample_data() Sample Data:       [ 12 samples by 11 sample variables ]"
      ]
     },
     "metadata": {},
     "output_type": "display_data"
    },
    {
     "data": {
      "text/html": [
       "<table>\n",
       "<thead><tr><th></th><th scope=col>Observed</th><th scope=col>Chao1</th><th scope=col>se.chao1</th><th scope=col>ACE</th><th scope=col>se.ACE</th><th scope=col>Shannon</th><th scope=col>Simpson</th><th scope=col>InvSimpson</th><th scope=col>Fisher</th><th scope=col>Pielou</th><th scope=col>⋯</th><th scope=col>year</th><th scope=col>samp_period</th><th scope=col>water_level</th><th scope=col>temp</th><th scope=col>sp_comd</th><th scope=col>salt</th><th scope=col>pH</th><th scope=col>season_year</th><th scope=col>wl_order</th><th scope=col>season</th></tr></thead>\n",
       "<tbody>\n",
       "\t<tr><th scope=row>S1</th><td>6629     </td><td>7916.856 </td><td> 92.49518</td><td>7786.558 </td><td>44.12164 </td><td>7.554437 </td><td>0.9987244</td><td>783.9485 </td><td>1332.195 </td><td>0.8585359</td><td>⋯        </td><td>y2012    </td><td>nov      </td><td>none     </td><td>   NA    </td><td>    NA   </td><td>  NA     </td><td>  NA     </td><td>Autumn_12</td><td>1        </td><td>Autumn   </td></tr>\n",
       "\t<tr><th scope=row>S2</th><td>5167     </td><td>6108.427 </td><td> 77.14891</td><td>5951.651 </td><td>38.07480 </td><td>7.564737 </td><td>0.9988252</td><td>851.2295 </td><td>1194.940 </td><td>0.8847597</td><td>⋯        </td><td>y2012    </td><td>nov      </td><td>none     </td><td>   NA    </td><td>    NA   </td><td>  NA     </td><td>  NA     </td><td>Autumn_12</td><td>1        </td><td>Autumn   </td></tr>\n",
       "\t<tr><th scope=row>S3</th><td>6162     </td><td>7151.772 </td><td> 80.13313</td><td>7034.084 </td><td>41.61839 </td><td>7.536980 </td><td>0.9987023</td><td>770.6060 </td><td>1164.599 </td><td>0.8637227</td><td>⋯        </td><td>y2012    </td><td>nov      </td><td>none     </td><td>   NA    </td><td>    NA   </td><td>  NA     </td><td>  NA     </td><td>Autumn_12</td><td>1        </td><td>Autumn   </td></tr>\n",
       "\t<tr><th scope=row>S4</th><td>7090     </td><td>8625.982 </td><td>107.24925</td><td>8428.463 </td><td>45.96354 </td><td>7.568078 </td><td>0.9987335</td><td>789.6073 </td><td>1341.744 </td><td>0.8535644</td><td>⋯        </td><td>y2013    </td><td>may      </td><td>low      </td><td>20.00    </td><td> 8.360   </td><td>4.70     </td><td>8.60     </td><td>Spring_13</td><td>2        </td><td>Spring   </td></tr>\n",
       "\t<tr><th scope=row>S5</th><td>6695     </td><td>7978.183 </td><td> 94.12588</td><td>7803.488 </td><td>44.01618 </td><td>7.564408 </td><td>0.9987472</td><td>798.1962 </td><td>1296.143 </td><td>0.8587023</td><td>⋯        </td><td>y2013    </td><td>may      </td><td>low      </td><td>20.50    </td><td> 8.300   </td><td>4.69     </td><td>8.61     </td><td>Spring_13</td><td>2        </td><td>Spring   </td></tr>\n",
       "\t<tr><th scope=row>S6</th><td>6123     </td><td>7298.951 </td><td> 92.23206</td><td>7080.825 </td><td>41.78794 </td><td>7.485337 </td><td>0.9986792</td><td>757.1067 </td><td>1167.858 </td><td>0.8584292</td><td>⋯        </td><td>y2013    </td><td>may      </td><td>low      </td><td>20.30    </td><td> 8.300   </td><td>4.71     </td><td>8.59     </td><td>Spring_13</td><td>2        </td><td>Spring   </td></tr>\n",
       "\t<tr><th scope=row>S7</th><td>7014     </td><td>8649.187 </td><td>114.58063</td><td>8350.412 </td><td>45.63128 </td><td>7.542102 </td><td>0.9986914</td><td>764.1924 </td><td>1315.046 </td><td>0.8516699</td><td>⋯        </td><td>y2013    </td><td>oct      </td><td>high     </td><td>26.50    </td><td> 6.530   </td><td>3.66     </td><td>7.90     </td><td>Autumn_13</td><td>3        </td><td>Autumn   </td></tr>\n",
       "\t<tr><th scope=row>S8</th><td>6378     </td><td>7532.949 </td><td> 92.09878</td><td>7286.888 </td><td>42.15693 </td><td>7.491470 </td><td>0.9986547</td><td>743.3185 </td><td>1146.695 </td><td>0.8551311</td><td>⋯        </td><td>y2013    </td><td>oct      </td><td>high     </td><td>26.16    </td><td> 6.400   </td><td>3.56     </td><td>8.06     </td><td>Autumn_13</td><td>3        </td><td>Autumn   </td></tr>\n",
       "\t<tr><th scope=row>S9</th><td>6782     </td><td>7972.291 </td><td> 89.60556</td><td>7793.669 </td><td>43.75053 </td><td>7.489023 </td><td>0.9985754</td><td>701.9396 </td><td>1241.477 </td><td>0.8489004</td><td>⋯        </td><td>y2013    </td><td>oct      </td><td>high     </td><td>25.42    </td><td> 6.478   </td><td>3.59     </td><td>8.07     </td><td>Autumn_13</td><td>3        </td><td>Autumn   </td></tr>\n",
       "\t<tr><th scope=row>S10</th><td>6399     </td><td>7538.322 </td><td> 86.32907</td><td>7425.114 </td><td>42.94990 </td><td>7.517991 </td><td>0.9986962</td><td>767.0120 </td><td>1234.050 </td><td>0.8578366</td><td>⋯        </td><td>y2014    </td><td>may      </td><td>medium   </td><td>24.99    </td><td>11.590   </td><td>6.62     </td><td>8.09     </td><td>Spring_14</td><td>4        </td><td>Spring   </td></tr>\n",
       "\t<tr><th scope=row>S11</th><td>5839     </td><td>6744.615 </td><td> 74.79114</td><td>6683.076 </td><td>40.48225 </td><td>7.428460 </td><td>0.9986031</td><td>715.8911 </td><td>1079.173 </td><td>0.8565718</td><td>⋯        </td><td>y2014    </td><td>may      </td><td>medium   </td><td>25.45    </td><td>11.580   </td><td>6.61     </td><td>8.31     </td><td>Spring_14</td><td>4        </td><td>Spring   </td></tr>\n",
       "\t<tr><th scope=row>S12</th><td>6490     </td><td>7734.991 </td><td> 96.53433</td><td>7479.144 </td><td>42.80138 </td><td>7.475839 </td><td>0.9986526</td><td>742.1443 </td><td>1162.121 </td><td>0.8516545</td><td>⋯        </td><td>y2014    </td><td>may      </td><td>medium   </td><td>25.22    </td><td>11.600   </td><td>6.61     </td><td>8.31     </td><td>Spring_14</td><td>4        </td><td>Spring   </td></tr>\n",
       "</tbody>\n",
       "</table>\n"
      ],
      "text/latex": [
       "\\begin{tabular}{r|lllllllllllllllllllllll}\n",
       "  & Observed & Chao1 & se.chao1 & ACE & se.ACE & Shannon & Simpson & InvSimpson & Fisher & Pielou & ⋯ & year & samp\\_period & water\\_level & temp & sp\\_comd & salt & pH & season\\_year & wl\\_order & season\\\\\n",
       "\\hline\n",
       "\tS1 & 6629        & 7916.856    &  92.49518   & 7786.558    & 44.12164    & 7.554437    & 0.9987244   & 783.9485    & 1332.195    & 0.8585359   & ⋯           & y2012       & nov         & none        &    NA       &     NA      &   NA        &   NA        & Autumn\\_12 & 1           & Autumn     \\\\\n",
       "\tS2 & 5167        & 6108.427    &  77.14891   & 5951.651    & 38.07480    & 7.564737    & 0.9988252   & 851.2295    & 1194.940    & 0.8847597   & ⋯           & y2012       & nov         & none        &    NA       &     NA      &   NA        &   NA        & Autumn\\_12 & 1           & Autumn     \\\\\n",
       "\tS3 & 6162        & 7151.772    &  80.13313   & 7034.084    & 41.61839    & 7.536980    & 0.9987023   & 770.6060    & 1164.599    & 0.8637227   & ⋯           & y2012       & nov         & none        &    NA       &     NA      &   NA        &   NA        & Autumn\\_12 & 1           & Autumn     \\\\\n",
       "\tS4 & 7090        & 8625.982    & 107.24925   & 8428.463    & 45.96354    & 7.568078    & 0.9987335   & 789.6073    & 1341.744    & 0.8535644   & ⋯           & y2013       & may         & low         & 20.00       &  8.360      & 4.70        & 8.60        & Spring\\_13 & 2           & Spring     \\\\\n",
       "\tS5 & 6695        & 7978.183    &  94.12588   & 7803.488    & 44.01618    & 7.564408    & 0.9987472   & 798.1962    & 1296.143    & 0.8587023   & ⋯           & y2013       & may         & low         & 20.50       &  8.300      & 4.69        & 8.61        & Spring\\_13 & 2           & Spring     \\\\\n",
       "\tS6 & 6123        & 7298.951    &  92.23206   & 7080.825    & 41.78794    & 7.485337    & 0.9986792   & 757.1067    & 1167.858    & 0.8584292   & ⋯           & y2013       & may         & low         & 20.30       &  8.300      & 4.71        & 8.59        & Spring\\_13 & 2           & Spring     \\\\\n",
       "\tS7 & 7014        & 8649.187    & 114.58063   & 8350.412    & 45.63128    & 7.542102    & 0.9986914   & 764.1924    & 1315.046    & 0.8516699   & ⋯           & y2013       & oct         & high        & 26.50       &  6.530      & 3.66        & 7.90        & Autumn\\_13 & 3           & Autumn     \\\\\n",
       "\tS8 & 6378        & 7532.949    &  92.09878   & 7286.888    & 42.15693    & 7.491470    & 0.9986547   & 743.3185    & 1146.695    & 0.8551311   & ⋯           & y2013       & oct         & high        & 26.16       &  6.400      & 3.56        & 8.06        & Autumn\\_13 & 3           & Autumn     \\\\\n",
       "\tS9 & 6782        & 7972.291    &  89.60556   & 7793.669    & 43.75053    & 7.489023    & 0.9985754   & 701.9396    & 1241.477    & 0.8489004   & ⋯           & y2013       & oct         & high        & 25.42       &  6.478      & 3.59        & 8.07        & Autumn\\_13 & 3           & Autumn     \\\\\n",
       "\tS10 & 6399        & 7538.322    &  86.32907   & 7425.114    & 42.94990    & 7.517991    & 0.9986962   & 767.0120    & 1234.050    & 0.8578366   & ⋯           & y2014       & may         & medium      & 24.99       & 11.590      & 6.62        & 8.09        & Spring\\_14 & 4           & Spring     \\\\\n",
       "\tS11 & 5839        & 6744.615    &  74.79114   & 6683.076    & 40.48225    & 7.428460    & 0.9986031   & 715.8911    & 1079.173    & 0.8565718   & ⋯           & y2014       & may         & medium      & 25.45       & 11.580      & 6.61        & 8.31        & Spring\\_14 & 4           & Spring     \\\\\n",
       "\tS12 & 6490        & 7734.991    &  96.53433   & 7479.144    & 42.80138    & 7.475839    & 0.9986526   & 742.1443    & 1162.121    & 0.8516545   & ⋯           & y2014       & may         & medium      & 25.22       & 11.600      & 6.61        & 8.31        & Spring\\_14 & 4           & Spring     \\\\\n",
       "\\end{tabular}\n"
      ],
      "text/markdown": [
       "\n",
       "| <!--/--> | Observed | Chao1 | se.chao1 | ACE | se.ACE | Shannon | Simpson | InvSimpson | Fisher | Pielou | ⋯ | year | samp_period | water_level | temp | sp_comd | salt | pH | season_year | wl_order | season | \n",
       "|---|---|---|---|---|---|---|---|---|---|---|---|\n",
       "| S1 | 6629      | 7916.856  |  92.49518 | 7786.558  | 44.12164  | 7.554437  | 0.9987244 | 783.9485  | 1332.195  | 0.8585359 | ⋯         | y2012     | nov       | none      |    NA     |     NA    |   NA      |   NA      | Autumn_12 | 1         | Autumn    | \n",
       "| S2 | 5167      | 6108.427  |  77.14891 | 5951.651  | 38.07480  | 7.564737  | 0.9988252 | 851.2295  | 1194.940  | 0.8847597 | ⋯         | y2012     | nov       | none      |    NA     |     NA    |   NA      |   NA      | Autumn_12 | 1         | Autumn    | \n",
       "| S3 | 6162      | 7151.772  |  80.13313 | 7034.084  | 41.61839  | 7.536980  | 0.9987023 | 770.6060  | 1164.599  | 0.8637227 | ⋯         | y2012     | nov       | none      |    NA     |     NA    |   NA      |   NA      | Autumn_12 | 1         | Autumn    | \n",
       "| S4 | 7090      | 8625.982  | 107.24925 | 8428.463  | 45.96354  | 7.568078  | 0.9987335 | 789.6073  | 1341.744  | 0.8535644 | ⋯         | y2013     | may       | low       | 20.00     |  8.360    | 4.70      | 8.60      | Spring_13 | 2         | Spring    | \n",
       "| S5 | 6695      | 7978.183  |  94.12588 | 7803.488  | 44.01618  | 7.564408  | 0.9987472 | 798.1962  | 1296.143  | 0.8587023 | ⋯         | y2013     | may       | low       | 20.50     |  8.300    | 4.69      | 8.61      | Spring_13 | 2         | Spring    | \n",
       "| S6 | 6123      | 7298.951  |  92.23206 | 7080.825  | 41.78794  | 7.485337  | 0.9986792 | 757.1067  | 1167.858  | 0.8584292 | ⋯         | y2013     | may       | low       | 20.30     |  8.300    | 4.71      | 8.59      | Spring_13 | 2         | Spring    | \n",
       "| S7 | 7014      | 8649.187  | 114.58063 | 8350.412  | 45.63128  | 7.542102  | 0.9986914 | 764.1924  | 1315.046  | 0.8516699 | ⋯         | y2013     | oct       | high      | 26.50     |  6.530    | 3.66      | 7.90      | Autumn_13 | 3         | Autumn    | \n",
       "| S8 | 6378      | 7532.949  |  92.09878 | 7286.888  | 42.15693  | 7.491470  | 0.9986547 | 743.3185  | 1146.695  | 0.8551311 | ⋯         | y2013     | oct       | high      | 26.16     |  6.400    | 3.56      | 8.06      | Autumn_13 | 3         | Autumn    | \n",
       "| S9 | 6782      | 7972.291  |  89.60556 | 7793.669  | 43.75053  | 7.489023  | 0.9985754 | 701.9396  | 1241.477  | 0.8489004 | ⋯         | y2013     | oct       | high      | 25.42     |  6.478    | 3.59      | 8.07      | Autumn_13 | 3         | Autumn    | \n",
       "| S10 | 6399      | 7538.322  |  86.32907 | 7425.114  | 42.94990  | 7.517991  | 0.9986962 | 767.0120  | 1234.050  | 0.8578366 | ⋯         | y2014     | may       | medium    | 24.99     | 11.590    | 6.62      | 8.09      | Spring_14 | 4         | Spring    | \n",
       "| S11 | 5839      | 6744.615  |  74.79114 | 6683.076  | 40.48225  | 7.428460  | 0.9986031 | 715.8911  | 1079.173  | 0.8565718 | ⋯         | y2014     | may       | medium    | 25.45     | 11.580    | 6.61      | 8.31      | Spring_14 | 4         | Spring    | \n",
       "| S12 | 6490      | 7734.991  |  96.53433 | 7479.144  | 42.80138  | 7.475839  | 0.9986526 | 742.1443  | 1162.121  | 0.8516545 | ⋯         | y2014     | may       | medium    | 25.22     | 11.600    | 6.61      | 8.31      | Spring_14 | 4         | Spring    | \n",
       "\n",
       "\n"
      ],
      "text/plain": [
       "    Observed Chao1    se.chao1  ACE      se.ACE   Shannon  Simpson   InvSimpson\n",
       "S1  6629     7916.856  92.49518 7786.558 44.12164 7.554437 0.9987244 783.9485  \n",
       "S2  5167     6108.427  77.14891 5951.651 38.07480 7.564737 0.9988252 851.2295  \n",
       "S3  6162     7151.772  80.13313 7034.084 41.61839 7.536980 0.9987023 770.6060  \n",
       "S4  7090     8625.982 107.24925 8428.463 45.96354 7.568078 0.9987335 789.6073  \n",
       "S5  6695     7978.183  94.12588 7803.488 44.01618 7.564408 0.9987472 798.1962  \n",
       "S6  6123     7298.951  92.23206 7080.825 41.78794 7.485337 0.9986792 757.1067  \n",
       "S7  7014     8649.187 114.58063 8350.412 45.63128 7.542102 0.9986914 764.1924  \n",
       "S8  6378     7532.949  92.09878 7286.888 42.15693 7.491470 0.9986547 743.3185  \n",
       "S9  6782     7972.291  89.60556 7793.669 43.75053 7.489023 0.9985754 701.9396  \n",
       "S10 6399     7538.322  86.32907 7425.114 42.94990 7.517991 0.9986962 767.0120  \n",
       "S11 5839     6744.615  74.79114 6683.076 40.48225 7.428460 0.9986031 715.8911  \n",
       "S12 6490     7734.991  96.53433 7479.144 42.80138 7.475839 0.9986526 742.1443  \n",
       "    Fisher   Pielou    ⋯ year  samp_period water_level temp  sp_comd salt pH  \n",
       "S1  1332.195 0.8585359 ⋯ y2012 nov         none           NA     NA    NA   NA\n",
       "S2  1194.940 0.8847597 ⋯ y2012 nov         none           NA     NA    NA   NA\n",
       "S3  1164.599 0.8637227 ⋯ y2012 nov         none           NA     NA    NA   NA\n",
       "S4  1341.744 0.8535644 ⋯ y2013 may         low         20.00  8.360  4.70 8.60\n",
       "S5  1296.143 0.8587023 ⋯ y2013 may         low         20.50  8.300  4.69 8.61\n",
       "S6  1167.858 0.8584292 ⋯ y2013 may         low         20.30  8.300  4.71 8.59\n",
       "S7  1315.046 0.8516699 ⋯ y2013 oct         high        26.50  6.530  3.66 7.90\n",
       "S8  1146.695 0.8551311 ⋯ y2013 oct         high        26.16  6.400  3.56 8.06\n",
       "S9  1241.477 0.8489004 ⋯ y2013 oct         high        25.42  6.478  3.59 8.07\n",
       "S10 1234.050 0.8578366 ⋯ y2014 may         medium      24.99 11.590  6.62 8.09\n",
       "S11 1079.173 0.8565718 ⋯ y2014 may         medium      25.45 11.580  6.61 8.31\n",
       "S12 1162.121 0.8516545 ⋯ y2014 may         medium      25.22 11.600  6.61 8.31\n",
       "    season_year wl_order season\n",
       "S1  Autumn_12   1        Autumn\n",
       "S2  Autumn_12   1        Autumn\n",
       "S3  Autumn_12   1        Autumn\n",
       "S4  Spring_13   2        Spring\n",
       "S5  Spring_13   2        Spring\n",
       "S6  Spring_13   2        Spring\n",
       "S7  Autumn_13   3        Autumn\n",
       "S8  Autumn_13   3        Autumn\n",
       "S9  Autumn_13   3        Autumn\n",
       "S10 Spring_14   4        Spring\n",
       "S11 Spring_14   4        Spring\n",
       "S12 Spring_14   4        Spring"
      ]
     },
     "metadata": {},
     "output_type": "display_data"
    }
   ],
   "source": [
    "pfam_tab<- as.matrix(read.table(\"../data/mats_abundances.sort.tab\", header=T, row.names=1))\n",
    "pfamOTU=otu_table(pfam_tab, taxa_are_rows=T)\n",
    "pfam=phyloseq(pfamOTU)\n",
    "metadata=read.table(\"sample_data.txt\", header=T)\n",
    "c(\"1\",\"1\",\"1\",\"2\",\"2\",\"2\",\"3\",\"3\",\"3\",\"4\",\"4\",\"4\")->wl_order\n",
    "cbind(wl_order,metadata)->metadata\n",
    "data.frame(Sample_ID=metadata$sample_ID, Site=metadata$site, Year=metadata$year, Period=metadata$samp_period, Water_level=metadata$water_level, Season=metadata$season, wl_order=metadata$wl_order, Temperature=metadata$temp,Conductivity=metadata$sp_comd, Sal=metadata$salt, pH=metadata$pH, row.names=sample_names((pfam)))-> o2\n",
    "sampledata= sample_data(o2)\n",
    "\n",
    "pfam=phyloseq(pfamOTU, sampledata)\n",
    "pfam\n",
    "\n",
    "estimate_richness(pfam)->div_alpha_p\n",
    "as.data.frame(t(pfam_tab))->sp2\n",
    "Pielou<-vegan::diversity(sp2)/log(specnumber(sp2))\n",
    "cbind (div_alpha_p,Pielou, metadata)->div_alpha_p\n",
    "div_alpha_p\n",
    "write.table(div_alpha_p, \"diversidad_pfam.txt\", sep=\"\\t\")"
   ]
  },
  {
   "cell_type": "code",
   "execution_count": 38,
   "metadata": {},
   "outputs": [
    {
     "name": "stderr",
     "output_type": "stream",
     "text": [
      "Warning message in `levels<-`(`*tmp*`, value = if (nl == nL) as.character(labels) else paste0(labels, :\n",
      "“duplicated levels in factors are deprecated”Warning message in `levels<-`(`*tmp*`, value = if (nl == nL) as.character(labels) else paste0(labels, :\n",
      "“duplicated levels in factors are deprecated”Warning message in `levels<-`(`*tmp*`, value = if (nl == nL) as.character(labels) else paste0(labels, :\n",
      "“duplicated levels in factors are deprecated”Warning message in `levels<-`(`*tmp*`, value = if (nl == nL) as.character(labels) else paste0(labels, :\n",
      "“duplicated levels in factors are deprecated”"
     ]
    },
    {
     "data": {
      "text/html": [
       "<strong>png:</strong> 2"
      ],
      "text/latex": [
       "\\textbf{png:} 2"
      ],
      "text/markdown": [
       "**png:** 2"
      ],
      "text/plain": [
       "png \n",
       "  2 "
      ]
     },
     "metadata": {},
     "output_type": "display_data"
    },
    {
     "data": {
      "image/png": "[encoded data removed]",
      "text/plain": [
       "plot without title"
      ]
     },
     "metadata": {},
     "output_type": "display_data"
    }
   ],
   "source": [
    "ggplot(div_alpha_p, aes(x=season, y=Pielou, group=site))+geom_point(aes(x=season_year, y=Pielou, color=site), size=4, alpha=0.7) +  geom_line(aes(color=site))+ ylab(\"Pielou index\")+xlab(\"\") + ggtitle(\"\")+ theme (legend.position = \"none\",plot.title = element_text(hjust = 0.5), axis.text.x = element_text(angle=45, hjust = 1))->pfam_pielou\n",
    "ggplot(div_alpha_p, aes(x=season, y=Shannon, group=site))+geom_point(aes(x=season_year, y=Shannon, color=site), size=4, alpha=0.7) +  geom_line(aes(color=site))+ ylab(\"Shannon index\")+xlab(\"\") + ggtitle(\"Pfam diversity\")+ theme (legend.position = \"none\",plot.title = element_text(hjust = 0.5), axis.text.x = element_text(angle=45, hjust = 1))->pfam_shannon\n",
    "multiplot (pfam_shannon, pfam_pielou, cols=1)\n",
    "pdf(\"pfam_div.pdf\",width=6, height=10)\n",
    "multiplot (pfam_shannon, pfam_pielou, cols=1)\n",
    "dev.off()"
   ]
  },
  {
   "cell_type": "markdown",
   "metadata": {},
   "source": [
    "##  Save plot \n",
    "**check**\n",
    "1) puede ser theme_gray()? con colores default de ggplot? https://www.google.com/search?q=theme+gray+ggplot&client=ubuntu&hs=QLC&channel=fs&source=lnms&tbm=isch&sa=X&ved=0ahUKEwiD2YSgzvvaAhWLWBQKHa_BDUoQ_AUICigB&biw=1855&bih=959#imgrc=17YgXM7yuBGACM:\n",
    "\n",
    "2) segun yo las plots deben ser p3, p4 que son de genus shanon y pielou respectivamente \n",
    "\n"
   ]
  },
  {
   "cell_type": "code",
   "execution_count": null,
   "metadata": {
    "collapsed": true
   },
   "outputs": [],
   "source": []
  },
  {
   "cell_type": "code",
   "execution_count": 22,
   "metadata": {},
   "outputs": [
    {
     "name": "stderr",
     "output_type": "stream",
     "text": [
      "Warning message in `levels<-`(`*tmp*`, value = if (nl == nL) as.character(labels) else paste0(labels, :\n",
      "“duplicated levels in factors are deprecated”"
     ]
    },
    {
     "data": {
      "text/html": [
       "<ol class=list-inline>\n",
       "\t<li>Autumn_12</li>\n",
       "\t<li>Autumn_12</li>\n",
       "\t<li>Autumn_12</li>\n",
       "\t<li>Spring_13</li>\n",
       "\t<li>Spring_13</li>\n",
       "\t<li>Spring_13</li>\n",
       "\t<li>Autumn_13</li>\n",
       "\t<li>Autumn_13</li>\n",
       "\t<li>Autumn_13</li>\n",
       "\t<li>Spring_14</li>\n",
       "\t<li>Spring_14</li>\n",
       "\t<li>Spring_14</li>\n",
       "</ol>\n"
      ],
      "text/latex": [
       "\\begin{enumerate*}\n",
       "\\item Autumn\\_12\n",
       "\\item Autumn\\_12\n",
       "\\item Autumn\\_12\n",
       "\\item Spring\\_13\n",
       "\\item Spring\\_13\n",
       "\\item Spring\\_13\n",
       "\\item Autumn\\_13\n",
       "\\item Autumn\\_13\n",
       "\\item Autumn\\_13\n",
       "\\item Spring\\_14\n",
       "\\item Spring\\_14\n",
       "\\item Spring\\_14\n",
       "\\end{enumerate*}\n"
      ],
      "text/markdown": [
       "1. Autumn_12\n",
       "2. Autumn_12\n",
       "3. Autumn_12\n",
       "4. Spring_13\n",
       "5. Spring_13\n",
       "6. Spring_13\n",
       "7. Autumn_13\n",
       "8. Autumn_13\n",
       "9. Autumn_13\n",
       "10. Spring_14\n",
       "11. Spring_14\n",
       "12. Spring_14\n",
       "\n",
       "\n"
      ],
      "text/plain": [
       " [1] Autumn_12 Autumn_12 Autumn_12 Spring_13 Spring_13 Spring_13 Autumn_13\n",
       " [8] Autumn_13 Autumn_13 Spring_14 Spring_14 Spring_14\n",
       "12 Levels: Autumn_12 Autumn_12 Autumn_12 Spring_13 Spring_13 ... Spring_14"
      ]
     },
     "metadata": {},
     "output_type": "display_data"
    }
   ],
   "source": [
    "theme_set(theme_light())\n",
    "cbind (div_alpha_p, Pielou, metadata)->div_alpha_p\n",
    "library(ggplot2)\n",
    "div_alpha_p$season_year <- factor(div_alpha_p$season_year, levels = div_alpha_p$season_year[order(div_alpha_p$wl_order)])\n",
    "div_alpha_p$season_year"
   ]
  },
  {
   "cell_type": "code",
   "execution_count": 50,
   "metadata": {},
   "outputs": [
    {
     "name": "stderr",
     "output_type": "stream",
     "text": [
      "Warning message in `levels<-`(`*tmp*`, value = if (nl == nL) as.character(labels) else paste0(labels, :\n",
      "“duplicated levels in factors are deprecated”Warning message in `levels<-`(`*tmp*`, value = if (nl == nL) as.character(labels) else paste0(labels, :\n",
      "“duplicated levels in factors are deprecated”Warning message in `levels<-`(`*tmp*`, value = if (nl == nL) as.character(labels) else paste0(labels, :\n",
      "“duplicated levels in factors are deprecated”Warning message in `levels<-`(`*tmp*`, value = if (nl == nL) as.character(labels) else paste0(labels, :\n",
      "“duplicated levels in factors are deprecated”"
     ]
    },
    {
     "data": {
      "image/png": "[encoded data removed]",
      "text/plain": [
       "plot without title"
      ]
     },
     "metadata": {},
     "output_type": "display_data"
    }
   ],
   "source": [
    "ggplot(div_alpha2, aes(x=season_year, y=Shannon, group=site))+geom_point(aes(x=season_year, y=Shannon, color=site), size=4, alpha=0.7) +\n",
    "  geom_line(aes( color=site))+xlab(\"\")+ ylab(\"Shannon index\")+ ggtitle(\"Genus level\")+ theme (legend.position = \"bottom\", plot.title = element_text(hjust = 0.5), axis.text.x = element_text(angle=45, hjust = 1))+ ylim (4.5,7.6)->gen_n\n",
    "ggplot(div_alpha2, aes(x=season_year, y=Shannon, group=site))+geom_point(aes(x=season_year, y=Shannon, color=site), size=4, alpha=0.7) +\n",
    "  geom_line(aes( color=site))+xlab(\"\")+ ylab(\"Shannon index\")+ ggtitle(\"Genus level\")+ theme (legend.position = \"bottom\", plot.title = element_text(hjust = 0.5), axis.text.x = element_text(angle=45, hjust = 1))->gen_tax\n",
    "ggplot(div_alpha_p, aes(x=season_year, y=Shannon, group=site))+geom_point(aes(x=season, y=Shannon, color=site), size=4, alpha=0.7) +\n",
    "  geom_line(aes(color=site))+ ylab(\"Shannon index\")+xlab(\"\") + ggtitle(\"Pfam diversity\")+ theme (legend.position = \"bottom\",plot.title = element_text(hjust = 0.5), axis.text.x = element_text(angle=45, hjust = 1))+ ylim (4.5,7.6)-> pfam_n\n",
    "\n",
    "ggplot(div_alpha_p, aes(x=season_year, y=Shannon, group=site))+geom_point(aes(x=season, y=Shannon, color=site), size=4, alpha=0.7) +\n",
    "  geom_line(aes(color=site))+ ylab(\"Shannon index\")+xlab(\"\") + ggtitle(\"Pfam diversity\")+ theme (legend.position = \"bottom\",plot.title = element_text(hjust = 0.5), axis.text.x = element_text(angle=45, hjust = 1))-> pfam\n",
    "\n",
    "\n",
    "\n",
    "\n"
   ]
  },
  {
   "cell_type": "markdown",
   "metadata": {},
   "source": [
    "##  aqui habria que agregar pielou en la figura  "
   ]
  },
  {
   "cell_type": "code",
   "execution_count": null,
   "metadata": {
    "collapsed": true
   },
   "outputs": [],
   "source": [
    "multiplot (gen_tax, pfam, cols=2)\n",
    "#pfam_pielou"
   ]
  },
  {
   "cell_type": "code",
   "execution_count": 55,
   "metadata": {
    "scrolled": true
   },
   "outputs": [
    {
     "name": "stderr",
     "output_type": "stream",
     "text": [
      "Warning message in `levels<-`(`*tmp*`, value = if (nl == nL) as.character(labels) else paste0(labels, :\n",
      "“duplicated levels in factors are deprecated”Warning message in `levels<-`(`*tmp*`, value = if (nl == nL) as.character(labels) else paste0(labels, :\n",
      "“duplicated levels in factors are deprecated”Warning message in `levels<-`(`*tmp*`, value = if (nl == nL) as.character(labels) else paste0(labels, :\n",
      "“duplicated levels in factors are deprecated”Warning message in `levels<-`(`*tmp*`, value = if (nl == nL) as.character(labels) else paste0(labels, :\n",
      "“duplicated levels in factors are deprecated”"
     ]
    },
    {
     "data": {
      "text/html": [
       "<strong>png:</strong> 2"
      ],
      "text/latex": [
       "\\textbf{png:} 2"
      ],
      "text/markdown": [
       "**png:** 2"
      ],
      "text/plain": [
       "png \n",
       "  2 "
      ]
     },
     "metadata": {},
     "output_type": "display_data"
    }
   ],
   "source": [
    "pdf(\"genus_pfam_alpha_div.pdf\",width=12, height=5)\n",
    "multiplot (gen_tax,pfam, cols=2)\n",
    "dev.off()"
   ]
  },
  {
   "cell_type": "markdown",
   "metadata": {
    "collapsed": true
   },
   "source": [
    "### Rarefation curves"
   ]
  },
  {
   "cell_type": "markdown",
   "metadata": {},
   "source": [
    "Generate accumulative curves using the genera level"
   ]
  },
  {
   "cell_type": "code",
   "execution_count": 33,
   "metadata": {
    "scrolled": false
   },
   "outputs": [
    {
     "data": {
      "text/html": [
       "<table>\n",
       "<thead><tr><th></th><th scope=col>S1</th><th scope=col>S2</th><th scope=col>S3</th><th scope=col>S4</th><th scope=col>S5</th><th scope=col>S6</th><th scope=col>S7</th><th scope=col>S8</th><th scope=col>S9</th><th scope=col>S10</th><th scope=col>S11</th><th scope=col>S12</th></tr></thead>\n",
       "<tbody>\n",
       "\t<tr><th scope=row>Bacteria_unclassified</th><td>1438</td><td>479 </td><td>1550</td><td>1925</td><td>1651</td><td>1652</td><td>1938</td><td>2156</td><td>2058</td><td>2401</td><td>2537</td><td>2551</td></tr>\n",
       "\t<tr><th scope=row>Desulfatitalea</th><td> 187</td><td>257 </td><td>4791</td><td>  59</td><td>3120</td><td> 372</td><td> 966</td><td>5216</td><td> 267</td><td> 499</td><td>2709</td><td> 532</td></tr>\n",
       "\t<tr><th scope=row>Proteobacteria_unclassified</th><td>1089</td><td>343 </td><td>1418</td><td>1661</td><td>1320</td><td>1276</td><td>1591</td><td>1547</td><td>1519</td><td>1471</td><td>1283</td><td>2289</td></tr>\n",
       "\t<tr><th scope=row>Rhodobacteraceae_unclassified</th><td>1315</td><td>713 </td><td>2648</td><td>2241</td><td>1537</td><td> 600</td><td>1044</td><td>1033</td><td> 998</td><td> 782</td><td> 417</td><td> 808</td></tr>\n",
       "\t<tr><th scope=row>Nonspecific/Host</th><td> 813</td><td>191 </td><td> 599</td><td>1031</td><td>1034</td><td> 609</td><td>1293</td><td> 749</td><td>2622</td><td> 870</td><td> 706</td><td>1137</td></tr>\n",
       "\t<tr><th scope=row>Alphaproteobacteria_unclassified</th><td> 938</td><td>360 </td><td>1263</td><td>1479</td><td> 919</td><td> 737</td><td>1009</td><td> 831</td><td> 951</td><td> 883</td><td> 546</td><td> 996</td></tr>\n",
       "</tbody>\n",
       "</table>\n"
      ],
      "text/latex": [
       "\\begin{tabular}{r|llllllllllll}\n",
       "  & S1 & S2 & S3 & S4 & S5 & S6 & S7 & S8 & S9 & S10 & S11 & S12\\\\\n",
       "\\hline\n",
       "\tBacteria\\_unclassified & 1438 & 479  & 1550 & 1925 & 1651 & 1652 & 1938 & 2156 & 2058 & 2401 & 2537 & 2551\\\\\n",
       "\tDesulfatitalea &  187 & 257  & 4791 &   59 & 3120 &  372 &  966 & 5216 &  267 &  499 & 2709 &  532\\\\\n",
       "\tProteobacteria\\_unclassified & 1089 & 343  & 1418 & 1661 & 1320 & 1276 & 1591 & 1547 & 1519 & 1471 & 1283 & 2289\\\\\n",
       "\tRhodobacteraceae\\_unclassified & 1315 & 713  & 2648 & 2241 & 1537 &  600 & 1044 & 1033 &  998 &  782 &  417 &  808\\\\\n",
       "\tNonspecific/Host &  813 & 191  &  599 & 1031 & 1034 &  609 & 1293 &  749 & 2622 &  870 &  706 & 1137\\\\\n",
       "\tAlphaproteobacteria\\_unclassified &  938 & 360  & 1263 & 1479 &  919 &  737 & 1009 &  831 &  951 &  883 &  546 &  996\\\\\n",
       "\\end{tabular}\n"
      ],
      "text/markdown": [
       "\n",
       "| <!--/--> | S1 | S2 | S3 | S4 | S5 | S6 | S7 | S8 | S9 | S10 | S11 | S12 | \n",
       "|---|---|---|---|---|---|\n",
       "| Bacteria_unclassified | 1438 | 479  | 1550 | 1925 | 1651 | 1652 | 1938 | 2156 | 2058 | 2401 | 2537 | 2551 | \n",
       "| Desulfatitalea |  187 | 257  | 4791 |   59 | 3120 |  372 |  966 | 5216 |  267 |  499 | 2709 |  532 | \n",
       "| Proteobacteria_unclassified | 1089 | 343  | 1418 | 1661 | 1320 | 1276 | 1591 | 1547 | 1519 | 1471 | 1283 | 2289 | \n",
       "| Rhodobacteraceae_unclassified | 1315 | 713  | 2648 | 2241 | 1537 |  600 | 1044 | 1033 |  998 |  782 |  417 |  808 | \n",
       "| Nonspecific/Host |  813 | 191  |  599 | 1031 | 1034 |  609 | 1293 |  749 | 2622 |  870 |  706 | 1137 | \n",
       "| Alphaproteobacteria_unclassified |  938 | 360  | 1263 | 1479 |  919 |  737 | 1009 |  831 |  951 |  883 |  546 |  996 | \n",
       "\n",
       "\n"
      ],
      "text/plain": [
       "                                 S1   S2  S3   S4   S5   S6   S7   S8   S9  \n",
       "Bacteria_unclassified            1438 479 1550 1925 1651 1652 1938 2156 2058\n",
       "Desulfatitalea                    187 257 4791   59 3120  372  966 5216  267\n",
       "Proteobacteria_unclassified      1089 343 1418 1661 1320 1276 1591 1547 1519\n",
       "Rhodobacteraceae_unclassified    1315 713 2648 2241 1537  600 1044 1033  998\n",
       "Nonspecific/Host                  813 191  599 1031 1034  609 1293  749 2622\n",
       "Alphaproteobacteria_unclassified  938 360 1263 1479  919  737 1009  831  951\n",
       "                                 S10  S11  S12 \n",
       "Bacteria_unclassified            2401 2537 2551\n",
       "Desulfatitalea                    499 2709  532\n",
       "Proteobacteria_unclassified      1471 1283 2289\n",
       "Rhodobacteraceae_unclassified     782  417  808\n",
       "Nonspecific/Host                  870  706 1137\n",
       "Alphaproteobacteria_unclassified  883  546  996"
      ]
     },
     "metadata": {},
     "output_type": "display_data"
    }
   ],
   "source": [
    "head (gen_otu)"
   ]
  },
  {
   "cell_type": "code",
   "execution_count": 34,
   "metadata": {},
   "outputs": [
    {
     "data": {
      "text/html": [
       "<table>\n",
       "<thead><tr><th></th><th scope=col>Acum_1_A</th><th scope=col>Acum_2_A</th><th scope=col>Acum_3_A</th><th scope=col>Acum_4_A</th></tr></thead>\n",
       "<tbody>\n",
       "\t<tr><th scope=row>Bacteria_unclassified</th><td>1438</td><td>3363</td><td>5301</td><td>7702</td></tr>\n",
       "\t<tr><th scope=row>Desulfatitalea</th><td> 187</td><td> 246</td><td>1212</td><td>1711</td></tr>\n",
       "\t<tr><th scope=row>Proteobacteria_unclassified</th><td>1089</td><td>2750</td><td>4341</td><td>5812</td></tr>\n",
       "\t<tr><th scope=row>Rhodobacteraceae_unclassified</th><td>1315</td><td>3556</td><td>4600</td><td>5382</td></tr>\n",
       "\t<tr><th scope=row>Nonspecific/Host</th><td> 813</td><td>1844</td><td>3137</td><td>4007</td></tr>\n",
       "\t<tr><th scope=row>Alphaproteobacteria_unclassified</th><td> 938</td><td>2417</td><td>3426</td><td>4309</td></tr>\n",
       "</tbody>\n",
       "</table>\n"
      ],
      "text/latex": [
       "\\begin{tabular}{r|llll}\n",
       "  & Acum\\_1\\_A & Acum\\_2\\_A & Acum\\_3\\_A & Acum\\_4\\_A\\\\\n",
       "\\hline\n",
       "\tBacteria\\_unclassified & 1438 & 3363 & 5301 & 7702\\\\\n",
       "\tDesulfatitalea &  187 &  246 & 1212 & 1711\\\\\n",
       "\tProteobacteria\\_unclassified & 1089 & 2750 & 4341 & 5812\\\\\n",
       "\tRhodobacteraceae\\_unclassified & 1315 & 3556 & 4600 & 5382\\\\\n",
       "\tNonspecific/Host &  813 & 1844 & 3137 & 4007\\\\\n",
       "\tAlphaproteobacteria\\_unclassified &  938 & 2417 & 3426 & 4309\\\\\n",
       "\\end{tabular}\n"
      ],
      "text/markdown": [
       "\n",
       "| <!--/--> | Acum_1_A | Acum_2_A | Acum_3_A | Acum_4_A | \n",
       "|---|---|---|---|---|---|\n",
       "| Bacteria_unclassified | 1438 | 3363 | 5301 | 7702 | \n",
       "| Desulfatitalea |  187 |  246 | 1212 | 1711 | \n",
       "| Proteobacteria_unclassified | 1089 | 2750 | 4341 | 5812 | \n",
       "| Rhodobacteraceae_unclassified | 1315 | 3556 | 4600 | 5382 | \n",
       "| Nonspecific/Host |  813 | 1844 | 3137 | 4007 | \n",
       "| Alphaproteobacteria_unclassified |  938 | 2417 | 3426 | 4309 | \n",
       "\n",
       "\n"
      ],
      "text/plain": [
       "                                 Acum_1_A Acum_2_A Acum_3_A Acum_4_A\n",
       "Bacteria_unclassified            1438     3363     5301     7702    \n",
       "Desulfatitalea                    187      246     1212     1711    \n",
       "Proteobacteria_unclassified      1089     2750     4341     5812    \n",
       "Rhodobacteraceae_unclassified    1315     3556     4600     5382    \n",
       "Nonspecific/Host                  813     1844     3137     4007    \n",
       "Alphaproteobacteria_unclassified  938     2417     3426     4309    "
      ]
     },
     "metadata": {},
     "output_type": "display_data"
    }
   ],
   "source": [
    "#acum 1 = sampling site  1 \n",
    "#acum 2 =sampling site  1+2\n",
    "#acum 3 = sampling site  1+2+3\n",
    "#acum 4= sampling site  1+2+3+4\n",
    "\n",
    "#Site A \n",
    "Acum_1_A<-(gen_otu[,1])\n",
    "Acum_2_A<-rowSums(gen_otu[,c(1,4)])\n",
    "Acum_3_A<-rowSums(gen_otu[,c(1,4,7)])\n",
    "Acum_4_A<-rowSums(gen_otu[,c(1,4,7,10)])\n",
    "\n",
    "cbind(Acum_1_A, Acum_2_A, Acum_3_A, Acum_4_A)->acumulativa.A\n",
    "\n",
    "head (acumulativa.A)"
   ]
  },
  {
   "cell_type": "code",
   "execution_count": 13,
   "metadata": {},
   "outputs": [
    {
     "ename": "ERROR",
     "evalue": "Error in eval(expr, envir, enclos): objeto 'gen_otu' no encontrado\n",
     "output_type": "error",
     "traceback": [
      "Error in eval(expr, envir, enclos): objeto 'gen_otu' no encontrado\nTraceback:\n"
     ]
    }
   ],
   "source": [
    "#Site B\n",
    "Acum_1_B<-(gen_otu[,2])\n",
    "Acum_2_B<-rowSums(gen_otu[,c(2,5)])\n",
    "Acum_3_B<-rowSums(gen_otu[,c(2,5,8)])\n",
    "Acum_4_B<-rowSums(gen_otu[,c(2,5,8,11)])\n",
    "\n",
    "cbind(Acum_1_B, Acum_2_B, Acum_3_B, Acum_4_B)->acumulativa.B\n",
    "\n",
    "Acum_1_C<-(gen_otu[,3])\n",
    "Acum_2_C<-rowSums(gen_otu[,c(3,6)])\n",
    "Acum_3_C<-rowSums(gen_otu[,c(3,6,9)])\n",
    "Acum_4_C<-rowSums(gen_otu[,c(3,6,9,12)])\n",
    "\n",
    "cbind(Acum_1_C, Acum_2_C, Acum_3_C, Acum_4_C)->acumulativa.C"
   ]
  },
  {
   "cell_type": "markdown",
   "metadata": {},
   "source": [
    "Hacer rarefacción y graficar"
   ]
  },
  {
   "cell_type": "code",
   "execution_count": 36,
   "metadata": {},
   "outputs": [
    {
     "name": "stderr",
     "output_type": "stream",
     "text": [
      "Warning message in plot.window(...):\n",
      "“\"leyend\" is not a graphical parameter”Warning message in plot.xy(xy, type, ...):\n",
      "“\"leyend\" is not a graphical parameter”Warning message in axis(side = side, at = at, labels = labels, ...):\n",
      "“\"leyend\" is not a graphical parameter”Warning message in axis(side = side, at = at, labels = labels, ...):\n",
      "“\"leyend\" is not a graphical parameter”Warning message in box(...):\n",
      "“\"leyend\" is not a graphical parameter”Warning message in title(...):\n",
      "“\"leyend\" is not a graphical parameter”Warning message in plot.xy(xy.coords(x, y), type = type, ...):\n",
      "“\"leyend\" is not a graphical parameter”Warning message in plot.xy(xy.coords(x, y), type = type, ...):\n",
      "“\"leyend\" is not a graphical parameter”Warning message in plot.xy(xy.coords(x, y), type = type, ...):\n",
      "“\"leyend\" is not a graphical parameter”Warning message in plot.xy(xy.coords(x, y), type = type, ...):\n",
      "“\"leyend\" is not a graphical parameter”Warning message in strwidth(\"m\", cex = cex, ...):\n",
      "“\"leyend\" is not a graphical parameter”Warning message in strheight(\"x\", cex = cex, ...):\n",
      "“\"leyend\" is not a graphical parameter”Warning message in strwidth(labels, cex = cex, ...):\n",
      "“\"leyend\" is not a graphical parameter”Warning message in strheight(labels, cex = cex, ...):\n",
      "“\"leyend\" is not a graphical parameter”Warning message in match.fun(FUN)(...):\n",
      "“\"leyend\" is not a graphical parameter”Warning message in text.default(...):\n",
      "“\"leyend\" is not a graphical parameter”Warning message in match.fun(FUN)(...):\n",
      "“\"leyend\" is not a graphical parameter”Warning message in text.default(...):\n",
      "“\"leyend\" is not a graphical parameter”Warning message in match.fun(FUN)(...):\n",
      "“\"leyend\" is not a graphical parameter”Warning message in text.default(...):\n",
      "“\"leyend\" is not a graphical parameter”Warning message in match.fun(FUN)(...):\n",
      "“\"leyend\" is not a graphical parameter”Warning message in text.default(...):\n",
      "“\"leyend\" is not a graphical parameter”Warning message in plot.window(...):\n",
      "“\"leyend\" is not a graphical parameter”Warning message in plot.xy(xy, type, ...):\n",
      "“\"leyend\" is not a graphical parameter”Warning message in axis(side = side, at = at, labels = labels, ...):\n",
      "“\"leyend\" is not a graphical parameter”Warning message in axis(side = side, at = at, labels = labels, ...):\n",
      "“\"leyend\" is not a graphical parameter”Warning message in box(...):\n",
      "“\"leyend\" is not a graphical parameter”Warning message in title(...):\n",
      "“\"leyend\" is not a graphical parameter”Warning message in plot.xy(xy.coords(x, y), type = type, ...):\n",
      "“\"leyend\" is not a graphical parameter”Warning message in plot.xy(xy.coords(x, y), type = type, ...):\n",
      "“\"leyend\" is not a graphical parameter”Warning message in plot.xy(xy.coords(x, y), type = type, ...):\n",
      "“\"leyend\" is not a graphical parameter”Warning message in plot.xy(xy.coords(x, y), type = type, ...):\n",
      "“\"leyend\" is not a graphical parameter”Warning message in strwidth(\"m\", cex = cex, ...):\n",
      "“\"leyend\" is not a graphical parameter”Warning message in strheight(\"x\", cex = cex, ...):\n",
      "“\"leyend\" is not a graphical parameter”Warning message in strwidth(labels, cex = cex, ...):\n",
      "“\"leyend\" is not a graphical parameter”Warning message in strheight(labels, cex = cex, ...):\n",
      "“\"leyend\" is not a graphical parameter”Warning message in match.fun(FUN)(...):\n",
      "“\"leyend\" is not a graphical parameter”Warning message in text.default(...):\n",
      "“\"leyend\" is not a graphical parameter”Warning message in match.fun(FUN)(...):\n",
      "“\"leyend\" is not a graphical parameter”Warning message in text.default(...):\n",
      "“\"leyend\" is not a graphical parameter”Warning message in match.fun(FUN)(...):\n",
      "“\"leyend\" is not a graphical parameter”Warning message in text.default(...):\n",
      "“\"leyend\" is not a graphical parameter”Warning message in match.fun(FUN)(...):\n",
      "“\"leyend\" is not a graphical parameter”Warning message in text.default(...):\n",
      "“\"leyend\" is not a graphical parameter”Warning message in plot.window(...):\n",
      "“\"leyend\" is not a graphical parameter”Warning message in plot.xy(xy, type, ...):\n",
      "“\"leyend\" is not a graphical parameter”Warning message in axis(side = side, at = at, labels = labels, ...):\n",
      "“\"leyend\" is not a graphical parameter”Warning message in axis(side = side, at = at, labels = labels, ...):\n",
      "“\"leyend\" is not a graphical parameter”Warning message in box(...):\n",
      "“\"leyend\" is not a graphical parameter”Warning message in title(...):\n",
      "“\"leyend\" is not a graphical parameter”Warning message in plot.xy(xy.coords(x, y), type = type, ...):\n",
      "“\"leyend\" is not a graphical parameter”Warning message in plot.xy(xy.coords(x, y), type = type, ...):\n",
      "“\"leyend\" is not a graphical parameter”Warning message in plot.xy(xy.coords(x, y), type = type, ...):\n",
      "“\"leyend\" is not a graphical parameter”Warning message in plot.xy(xy.coords(x, y), type = type, ...):\n",
      "“\"leyend\" is not a graphical parameter”Warning message in strwidth(\"m\", cex = cex, ...):\n",
      "“\"leyend\" is not a graphical parameter”Warning message in strheight(\"x\", cex = cex, ...):\n",
      "“\"leyend\" is not a graphical parameter”Warning message in strwidth(labels, cex = cex, ...):\n",
      "“\"leyend\" is not a graphical parameter”Warning message in strheight(labels, cex = cex, ...):\n",
      "“\"leyend\" is not a graphical parameter”Warning message in match.fun(FUN)(...):\n",
      "“\"leyend\" is not a graphical parameter”Warning message in text.default(...):\n",
      "“\"leyend\" is not a graphical parameter”Warning message in match.fun(FUN)(...):\n",
      "“\"leyend\" is not a graphical parameter”Warning message in text.default(...):\n",
      "“\"leyend\" is not a graphical parameter”Warning message in match.fun(FUN)(...):\n",
      "“\"leyend\" is not a graphical parameter”Warning message in text.default(...):\n",
      "“\"leyend\" is not a graphical parameter”Warning message in match.fun(FUN)(...):\n",
      "“\"leyend\" is not a graphical parameter”Warning message in text.default(...):\n",
      "“\"leyend\" is not a graphical parameter”"
     ]
    },
    {
     "data": {
      "text/html": [
       "<strong>png:</strong> 2"
      ],
      "text/latex": [
       "\\textbf{png:} 2"
      ],
      "text/markdown": [
       "**png:** 2"
      ],
      "text/plain": [
       "png \n",
       "  2 "
      ]
     },
     "metadata": {},
     "output_type": "display_data"
    }
   ],
   "source": [
    "#Plot grafica \n",
    "#Genera un pdf con todas las curvas \n",
    "pdf(\"curvas.rarefacción.pdf\")\n",
    "rarecurve(t(acumulativa.A), main=\"Richness at genus level Site A\",leyend=T, ylab=\"Genera\", col=c(\"cornflowerblue\",\"lightcoral\",\"orange\",\"slateblue\"))\n",
    "legend(\"right\", legend=c(\"acum1 = NOV12\", \"acum2=+MAY13\",\"acum3=+OCT13\",\"acum4=+MAY14\"),fill=c(\"cornflowerblue\",\"lightcoral\",\"orange\",\"slateblue\"),title=\"Season\", \n",
    "       cex= .7, title.adj=0.3, bty=\"0\")\n",
    "rarecurve(t(acumulativa.B), main=\"Rarefaction curve at genus level Site B\",leyend=T, ylab=\"Genera\", col=c(\"cornflowerblue\",\"lightcoral\",\"orange\",\"slateblue\"))\n",
    "legend(\"right\", legend=c(\"acum1 = NOV12\", \"acum2=+MAY13\",\"acum3=+OCT13\",\"acum4=+MAY14\"),fill=c(\"cornflowerblue\",\"lightcoral\",\"orange\",\"slateblue\"),title=\"Season\", \n",
    "       cex= .7, title.adj=0.3, bty=\"0\")\n",
    "rarecurve(t(acumulativa.C), main=\"Rarefaction curve at genus level Site C\",leyend=T, ylab=\"Genera\", col=c(\"cornflowerblue\",\"lightcoral\",\"orange\",\"slateblue\"))\n",
    "legend(\"right\", legend=c(\"acum1 = NOV12\", \"acum2=+MAY13\",\"acum3=+OCT13\",\"acum4=+MAY14\"),fill=c(\"cornflowerblue\",\"lightcoral\",\"orange\",\"slateblue\"),title=\"Season\", \n",
    "       cex= .7, title.adj=0.3, bty=\"0\")\n",
    "dev.off()\n",
    "\n"
   ]
  },
  {
   "cell_type": "code",
   "execution_count": 37,
   "metadata": {},
   "outputs": [
    {
     "name": "stderr",
     "output_type": "stream",
     "text": [
      "Warning message in plot.window(...):\n",
      "“\"leyend\" is not a graphical parameter”Warning message in plot.xy(xy, type, ...):\n",
      "“\"leyend\" is not a graphical parameter”Warning message in axis(side = side, at = at, labels = labels, ...):\n",
      "“\"leyend\" is not a graphical parameter”Warning message in axis(side = side, at = at, labels = labels, ...):\n",
      "“\"leyend\" is not a graphical parameter”Warning message in box(...):\n",
      "“\"leyend\" is not a graphical parameter”Warning message in title(...):\n",
      "“\"leyend\" is not a graphical parameter”Warning message in plot.xy(xy.coords(x, y), type = type, ...):\n",
      "“\"leyend\" is not a graphical parameter”Warning message in plot.xy(xy.coords(x, y), type = type, ...):\n",
      "“\"leyend\" is not a graphical parameter”Warning message in plot.xy(xy.coords(x, y), type = type, ...):\n",
      "“\"leyend\" is not a graphical parameter”Warning message in plot.xy(xy.coords(x, y), type = type, ...):\n",
      "“\"leyend\" is not a graphical parameter”Warning message in strwidth(\"m\", cex = cex, ...):\n",
      "“\"leyend\" is not a graphical parameter”Warning message in strheight(\"x\", cex = cex, ...):\n",
      "“\"leyend\" is not a graphical parameter”Warning message in strwidth(labels, cex = cex, ...):\n",
      "“\"leyend\" is not a graphical parameter”Warning message in strheight(labels, cex = cex, ...):\n",
      "“\"leyend\" is not a graphical parameter”Warning message in match.fun(FUN)(...):\n",
      "“\"leyend\" is not a graphical parameter”Warning message in text.default(...):\n",
      "“\"leyend\" is not a graphical parameter”Warning message in match.fun(FUN)(...):\n",
      "“\"leyend\" is not a graphical parameter”Warning message in text.default(...):\n",
      "“\"leyend\" is not a graphical parameter”Warning message in match.fun(FUN)(...):\n",
      "“\"leyend\" is not a graphical parameter”Warning message in text.default(...):\n",
      "“\"leyend\" is not a graphical parameter”Warning message in match.fun(FUN)(...):\n",
      "“\"leyend\" is not a graphical parameter”Warning message in text.default(...):\n",
      "“\"leyend\" is not a graphical parameter”Warning message in plot.window(...):\n",
      "“\"leyend\" is not a graphical parameter”Warning message in plot.xy(xy, type, ...):\n",
      "“\"leyend\" is not a graphical parameter”Warning message in axis(side = side, at = at, labels = labels, ...):\n",
      "“\"leyend\" is not a graphical parameter”Warning message in axis(side = side, at = at, labels = labels, ...):\n",
      "“\"leyend\" is not a graphical parameter”Warning message in box(...):\n",
      "“\"leyend\" is not a graphical parameter”Warning message in title(...):\n",
      "“\"leyend\" is not a graphical parameter”Warning message in plot.xy(xy.coords(x, y), type = type, ...):\n",
      "“\"leyend\" is not a graphical parameter”Warning message in plot.xy(xy.coords(x, y), type = type, ...):\n",
      "“\"leyend\" is not a graphical parameter”Warning message in plot.xy(xy.coords(x, y), type = type, ...):\n",
      "“\"leyend\" is not a graphical parameter”Warning message in plot.xy(xy.coords(x, y), type = type, ...):\n",
      "“\"leyend\" is not a graphical parameter”Warning message in strwidth(\"m\", cex = cex, ...):\n",
      "“\"leyend\" is not a graphical parameter”Warning message in strheight(\"x\", cex = cex, ...):\n",
      "“\"leyend\" is not a graphical parameter”Warning message in strwidth(labels, cex = cex, ...):\n",
      "“\"leyend\" is not a graphical parameter”Warning message in strheight(labels, cex = cex, ...):\n",
      "“\"leyend\" is not a graphical parameter”Warning message in match.fun(FUN)(...):\n",
      "“\"leyend\" is not a graphical parameter”Warning message in text.default(...):\n",
      "“\"leyend\" is not a graphical parameter”Warning message in match.fun(FUN)(...):\n",
      "“\"leyend\" is not a graphical parameter”Warning message in text.default(...):\n",
      "“\"leyend\" is not a graphical parameter”Warning message in match.fun(FUN)(...):\n",
      "“\"leyend\" is not a graphical parameter”Warning message in text.default(...):\n",
      "“\"leyend\" is not a graphical parameter”Warning message in match.fun(FUN)(...):\n",
      "“\"leyend\" is not a graphical parameter”Warning message in text.default(...):\n",
      "“\"leyend\" is not a graphical parameter”Warning message in plot.window(...):\n",
      "“\"leyend\" is not a graphical parameter”Warning message in plot.xy(xy, type, ...):\n",
      "“\"leyend\" is not a graphical parameter”Warning message in axis(side = side, at = at, labels = labels, ...):\n",
      "“\"leyend\" is not a graphical parameter”Warning message in axis(side = side, at = at, labels = labels, ...):\n",
      "“\"leyend\" is not a graphical parameter”Warning message in box(...):\n",
      "“\"leyend\" is not a graphical parameter”Warning message in title(...):\n",
      "“\"leyend\" is not a graphical parameter”Warning message in plot.xy(xy.coords(x, y), type = type, ...):\n",
      "“\"leyend\" is not a graphical parameter”Warning message in plot.xy(xy.coords(x, y), type = type, ...):\n",
      "“\"leyend\" is not a graphical parameter”Warning message in plot.xy(xy.coords(x, y), type = type, ...):\n",
      "“\"leyend\" is not a graphical parameter”Warning message in plot.xy(xy.coords(x, y), type = type, ...):\n",
      "“\"leyend\" is not a graphical parameter”Warning message in strwidth(\"m\", cex = cex, ...):\n",
      "“\"leyend\" is not a graphical parameter”Warning message in strheight(\"x\", cex = cex, ...):\n",
      "“\"leyend\" is not a graphical parameter”Warning message in strwidth(labels, cex = cex, ...):\n",
      "“\"leyend\" is not a graphical parameter”Warning message in strheight(labels, cex = cex, ...):\n",
      "“\"leyend\" is not a graphical parameter”Warning message in match.fun(FUN)(...):\n",
      "“\"leyend\" is not a graphical parameter”Warning message in text.default(...):\n",
      "“\"leyend\" is not a graphical parameter”Warning message in match.fun(FUN)(...):\n",
      "“\"leyend\" is not a graphical parameter”Warning message in text.default(...):\n",
      "“\"leyend\" is not a graphical parameter”Warning message in match.fun(FUN)(...):\n",
      "“\"leyend\" is not a graphical parameter”Warning message in text.default(...):\n",
      "“\"leyend\" is not a graphical parameter”Warning message in match.fun(FUN)(...):\n",
      "“\"leyend\" is not a graphical parameter”Warning message in text.default(...):\n",
      "“\"leyend\" is not a graphical parameter”"
     ]
    },
    {
     "data": {
      "text/html": [
       "<strong>png:</strong> 2"
      ],
      "text/latex": [
       "\\textbf{png:} 2"
      ],
      "text/markdown": [
       "**png:** 2"
      ],
      "text/plain": [
       "png \n",
       "  2 "
      ]
     },
     "metadata": {},
     "output_type": "display_data"
    }
   ],
   "source": [
    "tiff(\"rarefaction.tiff\")\n",
    "rarecurve(t(acumulativa.A), main=\"Richness at genus level Site A\",leyend=T, ylab=\"Genera\", col=c(\"cornflowerblue\",\"lightcoral\",\"orange\",\"slateblue\"))\n",
    "legend(\"right\", legend=c(\"acum1 = NOV12\", \"acum2=+MAY13\",\"acum3=+OCT13\",\"acum4=+MAY14\"),fill=c(\"cornflowerblue\",\"lightcoral\",\"orange\",\"slateblue\"),title=\"Season\", \n",
    "       cex= .7, title.adj=0.3, bty=\"0\")\n",
    "rarecurve(t(acumulativa.B), main=\"Rarefaction curve at genus level Site B\",leyend=T, ylab=\"Genera\", col=c(\"cornflowerblue\",\"lightcoral\",\"orange\",\"slateblue\"))\n",
    "legend(\"right\", legend=c(\"acum1 = NOV12\", \"acum2=+MAY13\",\"acum3=+OCT13\",\"acum4=+MAY14\"),fill=c(\"cornflowerblue\",\"lightcoral\",\"orange\",\"slateblue\"),title=\"Season\", \n",
    "       cex= .7, title.adj=0.3, bty=\"0\")\n",
    "rarecurve(t(acumulativa.C), main=\"Rarefaction curve at genus level Site C\",leyend=T, ylab=\"Genera\", col=c(\"cornflowerblue\",\"lightcoral\",\"orange\",\"slateblue\"))\n",
    "legend(\"right\", legend=c(\"acum1 = NOV12\", \"acum2=+MAY13\",\"acum3=+OCT13\",\"acum4=+MAY14\"),fill=c(\"cornflowerblue\",\"lightcoral\",\"orange\",\"slateblue\"),title=\"Season\", \n",
    "       cex= .7, title.adj=0.3, bty=\"0\")\n",
    "dev.off()\n"
   ]
  }
 ],
 "metadata": {
  "kernelspec": {
   "display_name": "R",
   "language": "R",
   "name": "ir"
  },
  "language_info": {
   "codemirror_mode": "r",
   "file_extension": ".r",
   "mimetype": "text/x-r-source",
   "name": "R",
   "pygments_lexer": "r",
   "version": "3.4.4"
  }
 },
 "nbformat": 4,
 "nbformat_minor": 2
}
