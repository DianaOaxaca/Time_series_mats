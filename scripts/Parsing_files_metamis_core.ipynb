{
 "cells": [
  {
   "cell_type": "markdown",
   "metadata": {},
   "source": [
    "# Exporting to network METAMIS analysis and parsed files "
   ]
  },
  {
   "cell_type": "code",
   "execution_count": 1,
   "metadata": {
    "collapsed": true
   },
   "outputs": [],
   "source": [
    "#Import the libraries\n",
    "%matplotlib inline\n",
    "import numpy as np\n",
    "import matplotlib.pylab as plt\n",
    "import pandas as pd\n",
    "import seaborn as sns\n",
    "from scipy import stats\n",
    "import numpy as np\n",
    "import matplotlib"
   ]
  },
  {
   "cell_type": "markdown",
   "metadata": {},
   "source": [
    "# Species level "
   ]
  },
  {
   "cell_type": "code",
   "execution_count": 2,
   "metadata": {},
   "outputs": [
    {
     "ename": "FileNotFoundError",
     "evalue": "[Errno 2] No such file or directory: '../2_Profiles_data/row_taxonomy/species.xlsx'",
     "output_type": "error",
     "traceback": [
      "\u001b[0;31m---------------------------------------------------------------------------\u001b[0m",
      "\u001b[0;31mFileNotFoundError\u001b[0m                         Traceback (most recent call last)",
      "\u001b[0;32m<ipython-input-2-2058f5484f9e>\u001b[0m in \u001b[0;36m<module>\u001b[0;34m()\u001b[0m\n\u001b[0;32m----> 1\u001b[0;31m \u001b[0mdfs\u001b[0m\u001b[0;34m=\u001b[0m \u001b[0mpd\u001b[0m\u001b[0;34m.\u001b[0m\u001b[0mread_excel\u001b[0m\u001b[0;34m(\u001b[0m\u001b[0;34m\"../2_Profiles_data/row_taxonomy/species.xlsx\"\u001b[0m\u001b[0;34m,\u001b[0m \u001b[0mindex_col\u001b[0m\u001b[0;34m=\u001b[0m\u001b[0;36m0\u001b[0m\u001b[0;34m)\u001b[0m\u001b[0;34m\u001b[0m\u001b[0m\n\u001b[0m\u001b[1;32m      2\u001b[0m \u001b[0mdfs\u001b[0m\u001b[0;34m=\u001b[0m\u001b[0mdfs\u001b[0m\u001b[0;34m[\u001b[0m\u001b[0;34m[\u001b[0m\u001b[0;34m'S1'\u001b[0m\u001b[0;34m,\u001b[0m\u001b[0;34m'S2'\u001b[0m\u001b[0;34m,\u001b[0m\u001b[0;34m'S3'\u001b[0m\u001b[0;34m,\u001b[0m\u001b[0;34m'S4'\u001b[0m\u001b[0;34m,\u001b[0m\u001b[0;34m'S5'\u001b[0m\u001b[0;34m,\u001b[0m\u001b[0;34m'S6'\u001b[0m\u001b[0;34m,\u001b[0m\u001b[0;34m'S7'\u001b[0m\u001b[0;34m,\u001b[0m\u001b[0;34m'S8'\u001b[0m\u001b[0;34m,\u001b[0m\u001b[0;34m'S9'\u001b[0m\u001b[0;34m,\u001b[0m\u001b[0;34m'S10'\u001b[0m\u001b[0;34m,\u001b[0m\u001b[0;34m'S11'\u001b[0m\u001b[0;34m,\u001b[0m\u001b[0;34m'S12'\u001b[0m\u001b[0;34m]\u001b[0m\u001b[0;34m]\u001b[0m\u001b[0;34m\u001b[0m\u001b[0m\n\u001b[1;32m      3\u001b[0m \u001b[0mdfs\u001b[0m \u001b[0;34m=\u001b[0m \u001b[0mdfs\u001b[0m\u001b[0;34m[\u001b[0m\u001b[0;34m(\u001b[0m\u001b[0mdfs\u001b[0m\u001b[0;34m.\u001b[0m\u001b[0mT\u001b[0m \u001b[0;34m!=\u001b[0m \u001b[0;36m0\u001b[0m\u001b[0;34m)\u001b[0m\u001b[0;34m.\u001b[0m\u001b[0many\u001b[0m\u001b[0;34m(\u001b[0m\u001b[0;34m)\u001b[0m\u001b[0;34m]\u001b[0m \u001b[0;31m#eliminar todas las columnas que contengan cero\u001b[0m\u001b[0;34m\u001b[0m\u001b[0m\n\u001b[1;32m      4\u001b[0m \u001b[0mdfs\u001b[0m\u001b[0;34m.\u001b[0m\u001b[0mto_csv\u001b[0m\u001b[0;34m(\u001b[0m\u001b[0;34m\"../2_Profiles_data/row_taxonomy/speciesN0.txt\"\u001b[0m\u001b[0;34m,\u001b[0m \u001b[0msep\u001b[0m\u001b[0;34m=\u001b[0m\u001b[0;34m\"\\t\"\u001b[0m\u001b[0;34m)\u001b[0m \u001b[0;31m# enviar a un dataframe que contiene todos los\u001b[0m\u001b[0;34m\u001b[0m\u001b[0m\n\u001b[1;32m      5\u001b[0m \u001b[0;31m#sitios\u001b[0m\u001b[0;34m\u001b[0m\u001b[0;34m\u001b[0m\u001b[0m\n",
      "\u001b[0;32m/usr/local/lib/python3.5/dist-packages/pandas/io/excel.py\u001b[0m in \u001b[0;36mread_excel\u001b[0;34m(io, sheetname, header, skiprows, skip_footer, index_col, names, parse_cols, parse_dates, date_parser, na_values, thousands, convert_float, has_index_names, converters, dtype, true_values, false_values, engine, squeeze, **kwds)\u001b[0m\n\u001b[1;32m    201\u001b[0m \u001b[0;34m\u001b[0m\u001b[0m\n\u001b[1;32m    202\u001b[0m     \u001b[0;32mif\u001b[0m \u001b[0;32mnot\u001b[0m \u001b[0misinstance\u001b[0m\u001b[0;34m(\u001b[0m\u001b[0mio\u001b[0m\u001b[0;34m,\u001b[0m \u001b[0mExcelFile\u001b[0m\u001b[0;34m)\u001b[0m\u001b[0;34m:\u001b[0m\u001b[0;34m\u001b[0m\u001b[0m\n\u001b[0;32m--> 203\u001b[0;31m         \u001b[0mio\u001b[0m \u001b[0;34m=\u001b[0m \u001b[0mExcelFile\u001b[0m\u001b[0;34m(\u001b[0m\u001b[0mio\u001b[0m\u001b[0;34m,\u001b[0m \u001b[0mengine\u001b[0m\u001b[0;34m=\u001b[0m\u001b[0mengine\u001b[0m\u001b[0;34m)\u001b[0m\u001b[0;34m\u001b[0m\u001b[0m\n\u001b[0m\u001b[1;32m    204\u001b[0m \u001b[0;34m\u001b[0m\u001b[0m\n\u001b[1;32m    205\u001b[0m     return io._parse_excel(\n",
      "\u001b[0;32m/usr/local/lib/python3.5/dist-packages/pandas/io/excel.py\u001b[0m in \u001b[0;36m__init__\u001b[0;34m(self, io, **kwds)\u001b[0m\n\u001b[1;32m    258\u001b[0m             \u001b[0mself\u001b[0m\u001b[0;34m.\u001b[0m\u001b[0mbook\u001b[0m \u001b[0;34m=\u001b[0m \u001b[0mxlrd\u001b[0m\u001b[0;34m.\u001b[0m\u001b[0mopen_workbook\u001b[0m\u001b[0;34m(\u001b[0m\u001b[0mfile_contents\u001b[0m\u001b[0;34m=\u001b[0m\u001b[0mdata\u001b[0m\u001b[0;34m)\u001b[0m\u001b[0;34m\u001b[0m\u001b[0m\n\u001b[1;32m    259\u001b[0m         \u001b[0;32melif\u001b[0m \u001b[0misinstance\u001b[0m\u001b[0;34m(\u001b[0m\u001b[0mio\u001b[0m\u001b[0;34m,\u001b[0m \u001b[0mcompat\u001b[0m\u001b[0;34m.\u001b[0m\u001b[0mstring_types\u001b[0m\u001b[0;34m)\u001b[0m\u001b[0;34m:\u001b[0m\u001b[0;34m\u001b[0m\u001b[0m\n\u001b[0;32m--> 260\u001b[0;31m             \u001b[0mself\u001b[0m\u001b[0;34m.\u001b[0m\u001b[0mbook\u001b[0m \u001b[0;34m=\u001b[0m \u001b[0mxlrd\u001b[0m\u001b[0;34m.\u001b[0m\u001b[0mopen_workbook\u001b[0m\u001b[0;34m(\u001b[0m\u001b[0mio\u001b[0m\u001b[0;34m)\u001b[0m\u001b[0;34m\u001b[0m\u001b[0m\n\u001b[0m\u001b[1;32m    261\u001b[0m         \u001b[0;32melse\u001b[0m\u001b[0;34m:\u001b[0m\u001b[0;34m\u001b[0m\u001b[0m\n\u001b[1;32m    262\u001b[0m             raise ValueError('Must explicitly set engine if not passing in'\n",
      "\u001b[0;32m/usr/local/lib/python3.5/dist-packages/xlrd/__init__.py\u001b[0m in \u001b[0;36mopen_workbook\u001b[0;34m(filename, logfile, verbosity, use_mmap, file_contents, encoding_override, formatting_info, on_demand, ragged_rows)\u001b[0m\n\u001b[1;32m    393\u001b[0m         \u001b[0mpeek\u001b[0m \u001b[0;34m=\u001b[0m \u001b[0mfile_contents\u001b[0m\u001b[0;34m[\u001b[0m\u001b[0;34m:\u001b[0m\u001b[0mpeeksz\u001b[0m\u001b[0;34m]\u001b[0m\u001b[0;34m\u001b[0m\u001b[0m\n\u001b[1;32m    394\u001b[0m     \u001b[0;32melse\u001b[0m\u001b[0;34m:\u001b[0m\u001b[0;34m\u001b[0m\u001b[0m\n\u001b[0;32m--> 395\u001b[0;31m         \u001b[0;32mwith\u001b[0m \u001b[0mopen\u001b[0m\u001b[0;34m(\u001b[0m\u001b[0mfilename\u001b[0m\u001b[0;34m,\u001b[0m \u001b[0;34m\"rb\"\u001b[0m\u001b[0;34m)\u001b[0m \u001b[0;32mas\u001b[0m \u001b[0mf\u001b[0m\u001b[0;34m:\u001b[0m\u001b[0;34m\u001b[0m\u001b[0m\n\u001b[0m\u001b[1;32m    396\u001b[0m             \u001b[0mpeek\u001b[0m \u001b[0;34m=\u001b[0m \u001b[0mf\u001b[0m\u001b[0;34m.\u001b[0m\u001b[0mread\u001b[0m\u001b[0;34m(\u001b[0m\u001b[0mpeeksz\u001b[0m\u001b[0;34m)\u001b[0m\u001b[0;34m\u001b[0m\u001b[0m\n\u001b[1;32m    397\u001b[0m     \u001b[0;32mif\u001b[0m \u001b[0mpeek\u001b[0m \u001b[0;34m==\u001b[0m \u001b[0;34mb\"PK\\x03\\x04\"\u001b[0m\u001b[0;34m:\u001b[0m \u001b[0;31m# a ZIP file\u001b[0m\u001b[0;34m\u001b[0m\u001b[0m\n",
      "\u001b[0;31mFileNotFoundError\u001b[0m: [Errno 2] No such file or directory: '../2_Profiles_data/row_taxonomy/species.xlsx'"
     ]
    }
   ],
   "source": [
    "dfs= pd.read_excel(\"../2_Profiles_data/row_taxonomy/species.xlsx\", index_col=0)\n",
    "dfs=dfs[['S1','S2','S3','S4','S5','S6','S7','S8','S9','S10','S11','S12']]\n",
    "dfs = dfs[(dfs.T != 0).any()] #eliminar todas las columnas que contengan cero \n",
    "dfs.to_csv(\"../2_Profiles_data/row_taxonomy/speciesN0.txt\", sep=\"\\t\") # enviar a un dataframe que contiene todos los \n",
    "#sitios "
   ]
  },
  {
   "cell_type": "code",
   "execution_count": 102,
   "metadata": {},
   "outputs": [
    {
     "data": {
      "text/plain": [
       "Index(['Actinobacteria unclassified_class_1760',\n",
       "       'Actinobacteria unclassified_phylum_201174',\n",
       "       'Thermotogae unclassified_class_188708', 'Nitrospira unclassified',\n",
       "       'Thermotogae unclassified_phylum_200918', '[Bacillus] selenitireducens',\n",
       "       '[Clostridium] cellulosi', '[Polyangium] brachysporum',\n",
       "       'Acetobacter aceti', 'Acetobacter nitrogenifigens',\n",
       "       ...\n",
       "       'Candidatus Microgenomates unclassified', 'Caldivirga unclassified',\n",
       "       'Erysipelotrichaceae unclassified', 'Geoglobus unclassified',\n",
       "       'Isoptericola unclassified', 'Methanoregula unclassified',\n",
       "       'Catenulisporales unclassified', 'Kiloniella unclassified',\n",
       "       'Mimiviridae unclassified', 'Desulfurobacteriaceae unclassified'],\n",
       "      dtype='object', name='Name', length=2624)"
      ]
     },
     "execution_count": 102,
     "metadata": {},
     "output_type": "execute_result"
    }
   ],
   "source": [
    "#Ahora separamos por sitio para input de metamis\n",
    "sitea=dfs[['S1', 'S4', 'S7', 'S10']]\n",
    "siteb=dfs[['S2', 'S5', 'S8', 'S11']]\n",
    "sitec=dfs[['S3', 'S6', 'S9', 'S12']]\n",
    "dfs.index"
   ]
  },
  {
   "cell_type": "code",
   "execution_count": 103,
   "metadata": {
    "collapsed": true
   },
   "outputs": [],
   "source": [
    "sitea.index.name=None \n",
    "siteb.index.name=None \n",
    "sitec.index.name=None\n",
    "sitea.columns=['1','7','12','19']\n",
    "siteb.columns=['1','7','12','19']\n",
    "sitec.columns=['1','7','12','19']\n",
    "sitea.to_csv(\"../5_Networks/sprow.sitea.txt\", sep=\"\\t\")\n",
    "siteb.to_csv(\"../5_Networks/sprow.siteb.txt\", sep=\"\\t\")\n",
    "sitec.to_csv(\"../5_Networks/sprow.sitec.txt\", sep=\"\\t\")"
   ]
  },
  {
   "cell_type": "markdown",
   "metadata": {},
   "source": [
    "# Genus"
   ]
  },
  {
   "cell_type": "code",
   "execution_count": 104,
   "metadata": {},
   "outputs": [
    {
     "data": {
      "text/plain": [
       "Index(['Actinobacteria unclassified_class_1760',\n",
       "       'Actinobacteria unclassified_phylum_201174',\n",
       "       'Gemmatimonadetes unclassified_class_219685',\n",
       "       'Thermotogae unclassified_class_188708',\n",
       "       'Thermotogae unclassified_phylum_200918', 'Acaryochloris',\n",
       "       'Acetobacter', 'Acetobacteraceae unclassified', 'Acetobacterium',\n",
       "       'Acholeplasma',\n",
       "       ...\n",
       "       'Xanthomonadales unclassified', 'Xanthomonas', 'Xenococcus',\n",
       "       'Xenophilus', 'Xenorhabdus', 'Xylophilus', 'Yersinia', 'Yonghaparkia',\n",
       "       'Zavarzinella', 'Zetaproteobacteria unclassified'],\n",
       "      dtype='object', name='non-redundant', length=1432)"
      ]
     },
     "execution_count": 104,
     "metadata": {},
     "output_type": "execute_result"
    }
   ],
   "source": [
    "dfg= pd.read_excel(\"../2_Profiles_data/row_taxonomy/genero.xlsx\", index_col=0)\n",
    "dfg=dfg[['S1','S2','S3','S4','S5','S6','S7','S8','S9','S10','S11','S12']]\n",
    "dfg = dfg[(dfg.T != 0).any()]\n",
    "dfg.to_csv(\"../2_Profiles_data/row_taxonomy/genusN0.txt\", sep=\"\\t\") # enviar a un dataframe que contiene todos \n",
    "dfg.index"
   ]
  },
  {
   "cell_type": "code",
   "execution_count": 105,
   "metadata": {
    "collapsed": true
   },
   "outputs": [],
   "source": [
    "sitea=dfg[['S1', 'S4', 'S7', 'S10']]\n",
    "siteb=dfg[['S2', 'S5', 'S8', 'S11']]\n",
    "sitec=dfg[['S3', 'S6', 'S9', 'S12']]\n",
    "sitea.index.name=None \n",
    "siteb.index.name=None \n",
    "sitec.index.name=None\n",
    "sitea.columns=['1','7','12','19']\n",
    "siteb.columns=['1','7','12','19']\n",
    "sitec.columns=['1','7','12','19']"
   ]
  },
  {
   "cell_type": "code",
   "execution_count": 106,
   "metadata": {
    "collapsed": true
   },
   "outputs": [],
   "source": [
    "sitea.to_csv(\"../5_Networks/grow.sitea.txt\", sep=\"\\t\")\n",
    "siteb.to_csv(\"../5_Networks/grow.siteb.txt\", sep=\"\\t\")\n",
    "sitec.to_csv(\"../5_Networks/grow.sitec.txt\", sep=\"\\t\")"
   ]
  },
  {
   "cell_type": "markdown",
   "metadata": {},
   "source": [
    "# Family"
   ]
  },
  {
   "cell_type": "code",
   "execution_count": 111,
   "metadata": {},
   "outputs": [
    {
     "data": {
      "text/plain": [
       "(715, 12)"
      ]
     },
     "execution_count": 111,
     "metadata": {},
     "output_type": "execute_result"
    }
   ],
   "source": [
    "df= pd.read_excel(\"../2_Profiles_data/row_taxonomy/family.xlsx\", index_col=0)\n",
    "df=df[['S1','S2','S3','S4','S5','S6','S7','S8','S9','S10','S11','S12']]\n",
    "df.shape"
   ]
  },
  {
   "cell_type": "code",
   "execution_count": 112,
   "metadata": {},
   "outputs": [
    {
     "data": {
      "text/plain": [
       "(540, 12)"
      ]
     },
     "execution_count": 112,
     "metadata": {},
     "output_type": "execute_result"
    }
   ],
   "source": [
    "df = df[(df.T != 0).any()]\n",
    "df.shape"
   ]
  },
  {
   "cell_type": "code",
   "execution_count": 113,
   "metadata": {
    "collapsed": true
   },
   "outputs": [],
   "source": [
    "df.to_csv(\"../2_Profiles_data/row_taxonomy/familyN0.txt\", sep=\"\\t\") # enviar a un dataframe que contiene todos "
   ]
  },
  {
   "cell_type": "code",
   "execution_count": 114,
   "metadata": {
    "collapsed": true
   },
   "outputs": [],
   "source": [
    "sitea=df[['S1', 'S4', 'S7', 'S10']]\n",
    "siteb=df[['S2', 'S5', 'S8', 'S11']]\n",
    "sitec=df[['S3', 'S6', 'S9', 'S12']]\n",
    "sitea.index.name=None \n",
    "siteb.index.name=None \n",
    "sitec.index.name=None\n",
    "sitea.columns=['1','7','12','19']\n",
    "siteb.columns=['1','7','12','19']\n",
    "sitec.columns=['1','7','12','19']"
   ]
  },
  {
   "cell_type": "code",
   "execution_count": 116,
   "metadata": {
    "collapsed": true
   },
   "outputs": [],
   "source": [
    "sitea.to_csv(\"../5_Networks/frow.sitea.txt\", sep=\"\\t\")\n",
    "siteb.to_csv(\"../5_Networks/frow.siteb.txt\", sep=\"\\t\")\n",
    "sitec.to_csv(\"../5_Networks/frow.sitec.txt\", sep=\"\\t\")"
   ]
  },
  {
   "cell_type": "markdown",
   "metadata": {},
   "source": [
    "# Order"
   ]
  },
  {
   "cell_type": "code",
   "execution_count": 117,
   "metadata": {},
   "outputs": [
    {
     "data": {
      "text/plain": [
       "(377, 12)"
      ]
     },
     "execution_count": 117,
     "metadata": {},
     "output_type": "execute_result"
    }
   ],
   "source": [
    "df= pd.read_excel(\"../2_Profiles_data/row_taxonomy/order.xlsx\", index_col=0)\n",
    "df=df[['S1','S2','S3','S4','S5','S6','S7','S8','S9','S10','S11','S12']]\n",
    "df.shape"
   ]
  },
  {
   "cell_type": "code",
   "execution_count": 118,
   "metadata": {},
   "outputs": [
    {
     "data": {
      "text/plain": [
       "(303, 12)"
      ]
     },
     "execution_count": 118,
     "metadata": {},
     "output_type": "execute_result"
    }
   ],
   "source": [
    "df = df[(df.T != 0).any()]\n",
    "df.shape"
   ]
  },
  {
   "cell_type": "code",
   "execution_count": 119,
   "metadata": {
    "collapsed": true
   },
   "outputs": [],
   "source": [
    "df.to_csv(\"../2_Profiles_data/row_taxonomy/orderN0.txt\", sep=\"\\t\") # enviar a un dataframe que contiene todos "
   ]
  },
  {
   "cell_type": "code",
   "execution_count": 120,
   "metadata": {
    "collapsed": true
   },
   "outputs": [],
   "source": [
    "sitea=df[['S1', 'S4', 'S7', 'S10']]\n",
    "siteb=df[['S2', 'S5', 'S8', 'S11']]\n",
    "sitec=df[['S3', 'S6', 'S9', 'S12']]\n",
    "sitea.index.name=None \n",
    "siteb.index.name=None \n",
    "sitec.index.name=None\n",
    "sitea.columns=['1','7','12','19']\n",
    "siteb.columns=['1','7','12','19']\n",
    "sitec.columns=['1','7','12','19']"
   ]
  },
  {
   "cell_type": "code",
   "execution_count": 122,
   "metadata": {
    "collapsed": true
   },
   "outputs": [],
   "source": [
    "sitea.to_csv(\"../5_Networks/orow.sitea.txt\", sep=\"\\t\")\n",
    "siteb.to_csv(\"../5_Networks/orow.siteb.txt\", sep=\"\\t\")\n",
    "sitec.to_csv(\"../5_Networks/orow.sitec.txt\", sep=\"\\t\")"
   ]
  },
  {
   "cell_type": "markdown",
   "metadata": {},
   "source": [
    "# Class"
   ]
  },
  {
   "cell_type": "code",
   "execution_count": 124,
   "metadata": {},
   "outputs": [
    {
     "data": {
      "text/plain": [
       "(192, 12)"
      ]
     },
     "execution_count": 124,
     "metadata": {},
     "output_type": "execute_result"
    }
   ],
   "source": [
    "df= pd.read_excel(\"../2_Profiles_data/row_taxonomy/class.xlsx\", index_col=0)\n",
    "df=df[['S1','S2','S3','S4','S5','S6','S7','S8','S9','S10','S11','S12']]\n",
    "df.shape"
   ]
  },
  {
   "cell_type": "code",
   "execution_count": 125,
   "metadata": {},
   "outputs": [
    {
     "data": {
      "text/plain": [
       "(169, 12)"
      ]
     },
     "execution_count": 125,
     "metadata": {},
     "output_type": "execute_result"
    }
   ],
   "source": [
    "df = df[(df.T != 0).any()]\n",
    "df.shape"
   ]
  },
  {
   "cell_type": "code",
   "execution_count": 126,
   "metadata": {
    "collapsed": true
   },
   "outputs": [],
   "source": [
    "df.to_csv(\"../2_Profiles_data/row_taxonomy/classN0.txt\", sep=\"\\t\") # enviar a un dataframe que contiene todos "
   ]
  },
  {
   "cell_type": "code",
   "execution_count": 127,
   "metadata": {
    "collapsed": true
   },
   "outputs": [],
   "source": [
    "sitea=df[['S1', 'S4', 'S7', 'S10']]\n",
    "siteb=df[['S2', 'S5', 'S8', 'S11']]\n",
    "sitec=df[['S3', 'S6', 'S9', 'S12']]\n",
    "sitea.index.name=None \n",
    "siteb.index.name=None \n",
    "sitec.index.name=None\n",
    "sitea.columns=['1','7','12','19']\n",
    "siteb.columns=['1','7','12','19']\n",
    "sitec.columns=['1','7','12','19']"
   ]
  },
  {
   "cell_type": "code",
   "execution_count": 128,
   "metadata": {
    "collapsed": true
   },
   "outputs": [],
   "source": [
    "sitea.to_csv(\"../5_Networks/crow.sitea.txt\", sep=\"\\t\")\n",
    "siteb.to_csv(\"../5_Networks/crow.siteb.txt\", sep=\"\\t\")\n",
    "sitec.to_csv(\"../5_Networks/crow.sitec.txt\", sep=\"\\t\")"
   ]
  },
  {
   "cell_type": "markdown",
   "metadata": {},
   "source": [
    "# Phylum "
   ]
  },
  {
   "cell_type": "code",
   "execution_count": 129,
   "metadata": {},
   "outputs": [
    {
     "data": {
      "text/plain": [
       "(107, 12)"
      ]
     },
     "execution_count": 129,
     "metadata": {},
     "output_type": "execute_result"
    }
   ],
   "source": [
    "df= pd.read_excel(\"../2_Profiles_data/row_taxonomy/phylum.xlsx\", index_col=0)\n",
    "df=df[['S1','S2','S3','S4','S5','S6','S7','S8','S9','S10','S11','S12']]\n",
    "df.shape"
   ]
  },
  {
   "cell_type": "code",
   "execution_count": 130,
   "metadata": {},
   "outputs": [
    {
     "data": {
      "text/plain": [
       "(101, 12)"
      ]
     },
     "execution_count": 130,
     "metadata": {},
     "output_type": "execute_result"
    }
   ],
   "source": [
    "df = df[(df.T != 0).any()]\n",
    "df.shape"
   ]
  },
  {
   "cell_type": "code",
   "execution_count": 152,
   "metadata": {
    "collapsed": true
   },
   "outputs": [],
   "source": [
    "df.to_csv(\"../2_Profiles_data/row_taxonomy/PhylumN0.txt\", sep=\"\\t\") # enviar a un dataframe que contiene todos "
   ]
  },
  {
   "cell_type": "code",
   "execution_count": 132,
   "metadata": {
    "collapsed": true
   },
   "outputs": [],
   "source": [
    "sitea=df[['S1', 'S4', 'S7', 'S10']]\n",
    "siteb=df[['S2', 'S5', 'S8', 'S11']]\n",
    "sitec=df[['S3', 'S6', 'S9', 'S12']]\n",
    "sitea.index.name=None \n",
    "siteb.index.name=None \n",
    "sitec.index.name=None\n",
    "sitea.columns=['1','7','12','19']\n",
    "siteb.columns=['1','7','12','19']\n",
    "sitec.columns=['1','7','12','19']"
   ]
  },
  {
   "cell_type": "code",
   "execution_count": 133,
   "metadata": {
    "collapsed": true
   },
   "outputs": [],
   "source": [
    "sitea.to_csv(\"../5_Networks/prow.sitea.txt\", sep=\"\\t\")\n",
    "siteb.to_csv(\"../5_Networks/prow.siteb.txt\", sep=\"\\t\")\n",
    "sitec.to_csv(\"../5_Networks/prow.sitec.txt\", sep=\"\\t\")"
   ]
  },
  {
   "cell_type": "markdown",
   "metadata": {},
   "source": [
    "# Input Core analysis get-homologues "
   ]
  },
  {
   "cell_type": "markdown",
   "metadata": {},
   "source": [
    "### Specie"
   ]
  },
  {
   "cell_type": "code",
   "execution_count": 2,
   "metadata": {
    "collapsed": true
   },
   "outputs": [],
   "source": [
    "especie=pd.read_table(\"../2_Profiles_data/row_taxonomy/speciesN0.txt\",index_col=0)\n",
    "especie.index.name='non-redundant'\n",
    "especie.T.to_csv(\"../2_Profiles_data/row_taxonomy/speciesN0t.txt\", sep=\"\\t\")"
   ]
  },
  {
   "cell_type": "markdown",
   "metadata": {},
   "source": [
    "### Genus"
   ]
  },
  {
   "cell_type": "code",
   "execution_count": 3,
   "metadata": {
    "collapsed": true
   },
   "outputs": [],
   "source": [
    "genus=pd.read_table(\"../2_Profiles_data/row_taxonomy/genusN0.txt\",index_col=0)\n",
    "genus.index.name='non-redundant'\n",
    "genus.T.to_csv(\"../2_Profiles_data/row_taxonomy/genusN0t.txt\", sep=\"\\t\")"
   ]
  },
  {
   "cell_type": "markdown",
   "metadata": {},
   "source": [
    "### Family"
   ]
  },
  {
   "cell_type": "code",
   "execution_count": 4,
   "metadata": {
    "collapsed": true
   },
   "outputs": [],
   "source": [
    "family=pd.read_table(\"../2_Profiles_data/row_taxonomy/familyN0.txt\",index_col=0)\n",
    "family.index.name='non-redundant'\n",
    "family.T.to_csv(\"../2_Profiles_data/row_taxonomy/familyN0t.txt\", sep=\"\\t\")"
   ]
  },
  {
   "cell_type": "markdown",
   "metadata": {},
   "source": [
    "### Order "
   ]
  },
  {
   "cell_type": "code",
   "execution_count": 5,
   "metadata": {
    "collapsed": true
   },
   "outputs": [],
   "source": [
    "order=pd.read_table(\"../2_Profiles_data/row_taxonomy/orderN0.txt\",index_col=0)\n",
    "order.index.name='non-redundant'\n",
    "order.T.to_csv(\"../2_Profiles_data/row_taxonomy/orderN0t.txt\", sep=\"\\t\")"
   ]
  },
  {
   "cell_type": "markdown",
   "metadata": {},
   "source": [
    "### Class  "
   ]
  },
  {
   "cell_type": "code",
   "execution_count": 6,
   "metadata": {
    "collapsed": true
   },
   "outputs": [],
   "source": [
    "clase=pd.read_table(\"../2_Profiles_data/row_taxonomy/classN0.txt\",index_col=0)\n",
    "clase.index.name='non-redundant'\n",
    "clase.T.to_csv(\"../2_Profiles_data/row_taxonomy/classN0t.txt\", sep=\"\\t\")"
   ]
  },
  {
   "cell_type": "markdown",
   "metadata": {},
   "source": [
    "### Phylum "
   ]
  },
  {
   "cell_type": "code",
   "execution_count": 7,
   "metadata": {
    "collapsed": true
   },
   "outputs": [],
   "source": [
    "phylum=pd.read_table(\"../2_Profiles_data/row_taxonomy/PhylumN0.txt\",index_col=0)\n",
    "phylum.index.name='non-redundant'\n",
    "phylum.T.to_csv(\"../2_Profiles_data/row_taxonomy/PhylumN0t.txt\", sep=\"\\t\")"
   ]
  },
  {
   "cell_type": "markdown",
   "metadata": {},
   "source": [
    "# archivos finales sin ceros, sin host/non specific y normalizados por sitio! "
   ]
  },
  {
   "cell_type": "markdown",
   "metadata": {},
   "source": [
    "\n",
    "# ESPECIES"
   ]
  },
  {
   "cell_type": "code",
   "execution_count": 25,
   "metadata": {
    "collapsed": true
   },
   "outputs": [],
   "source": [
    "sp_norm=pd.read_table('../2_Profiles_data/row_taxonomy/parsed_files/speciesN0.txt', index_col=0)\n",
    "#sp_norm.drop('Nonspecific/Host')\n",
    "sp_norm.drop('Nonspecific')\n",
    "sp_norm.index.name=None\n",
    "sp_norm=sp_norm/sp_norm.sum()\n",
    "sp_norm_a=sp_norm[['S1', 'S4', 'S7', 'S10']]\n",
    "sp_norm_b=sp_norm[['S2', 'S5', 'S8', 'S11']]\n",
    "sp_norm_c=sp_norm[['S3', 'S6', 'S9', 'S12']]\n",
    "sp_norm_a.columns=['1', '2','3','4']\n",
    "sp_norm_b.columns=['1', '2','3','4']\n",
    "sp_norm_c.columns=['1', '2','3','4']\n",
    "sp_norm_a.to_csv('../2_Profiles_data/norm_taxonomy_metabolic/site_A_sp.txt', sep=\"\\t\")\n",
    "sp_norm_b.to_csv('../2_Profiles_data/norm_taxonomy_metabolic/site_B_sp.txt', sep=\"\\t\")\n",
    "sp_norm_c.to_csv('../2_Profiles_data/norm_taxonomy_metabolic/site_C_sp.txt', sep=\"\\t\")\n"
   ]
  },
  {
   "cell_type": "markdown",
   "metadata": {},
   "source": [
    "# GENUS"
   ]
  },
  {
   "cell_type": "code",
   "execution_count": 28,
   "metadata": {
    "collapsed": true
   },
   "outputs": [],
   "source": [
    "sp_norm=pd.read_table('../2_Profiles_data/row_taxonomy/parsed_files/genusN0.txt', index_col=0)\n",
    "sp_norm.index.name=None\n",
    "sp_norm.drop('Nonspecific/Host')\n",
    "sp_norm=sp_norm/sp_norm.sum()\n",
    "sp_norm_a=sp_norm[['S1', 'S4', 'S7', 'S10']]\n",
    "sp_norm_b=sp_norm[['S2', 'S5', 'S8', 'S11']]\n",
    "sp_norm_c=sp_norm[['S3', 'S6', 'S9', 'S12']]\n",
    "sp_norm_a.columns=['1', '2','3','4']\n",
    "sp_norm_b.columns=['1', '2','3','4']\n",
    "sp_norm_c.columns=['1', '2','3','4']\n",
    "sp_norm_a.to_csv('../2_Profiles_data/norm_taxonomy_metabolic/site_A_genus.txt', sep=\"\\t\")\n",
    "sp_norm_b.to_csv('../2_Profiles_data/norm_taxonomy_metabolic/site_B_genus.txt', sep=\"\\t\")\n",
    "sp_norm_c.to_csv('../2_Profiles_data/norm_taxonomy_metabolic/site_C_genus.txt', sep=\"\\t\")"
   ]
  },
  {
   "cell_type": "markdown",
   "metadata": {},
   "source": [
    "# CLASE"
   ]
  },
  {
   "cell_type": "code",
   "execution_count": 29,
   "metadata": {
    "collapsed": true
   },
   "outputs": [],
   "source": [
    "sp_norm=pd.read_table('../2_Profiles_data/row_taxonomy/parsed_files/classN0.txt', index_col=0)\n",
    "sp_norm.index.name=None\n",
    "sp_norm.drop('Nonspecific/Host')\n",
    "sp_norm=sp_norm/sp_norm.sum()\n",
    "sp_norm_a=sp_norm[['S1', 'S4', 'S7', 'S10']]\n",
    "sp_norm_b=sp_norm[['S2', 'S5', 'S8', 'S11']]\n",
    "sp_norm_c=sp_norm[['S3', 'S6', 'S9', 'S12']]\n",
    "sp_norm_a.columns=['1', '2','3','4']\n",
    "sp_norm_b.columns=['1', '2','3','4']\n",
    "sp_norm_c.columns=['1', '2','3','4']\n",
    "sp_norm_a.to_csv('../2_Profiles_data/norm_taxonomy_metabolic/site_A_clase.txt', sep=\"\\t\")\n",
    "sp_norm_b.to_csv('../2_Profiles_data/norm_taxonomy_metabolic/site_B_clase.txt', sep=\"\\t\")\n",
    "sp_norm_c.to_csv('../2_Profiles_data/norm_taxonomy_metabolic/site_C_clase.txt', sep=\"\\t\")"
   ]
  },
  {
   "cell_type": "code",
   "execution_count": 30,
   "metadata": {
    "collapsed": true
   },
   "outputs": [],
   "source": [
    "sp_norm=pd.read_table('../2_Profiles_data/row_taxonomy/parsed_files/familyN0.txt', index_col=0)\n",
    "sp_norm.index.name=None\n",
    "sp_norm.drop('Nonspecific/Host')\n",
    "sp_norm=sp_norm/sp_norm.sum()\n",
    "sp_norm_a=sp_norm[['S1', 'S4', 'S7', 'S10']]\n",
    "sp_norm_b=sp_norm[['S2', 'S5', 'S8', 'S11']]\n",
    "sp_norm_c=sp_norm[['S3', 'S6', 'S9', 'S12']]\n",
    "sp_norm_a.columns=['1', '2','3','4']\n",
    "sp_norm_b.columns=['1', '2','3','4']\n",
    "sp_norm_c.columns=['1', '2','3','4']\n",
    "sp_norm_a.to_csv('../2_Profiles_data/norm_taxonomy_metabolic/site_A_family.txt', sep=\"\\t\")\n",
    "sp_norm_b.to_csv('../2_Profiles_data/norm_taxonomy_metabolic/site_B_family.txt', sep=\"\\t\")\n",
    "sp_norm_c.to_csv('../2_Profiles_data/norm_taxonomy_metabolic/site_C_family.txt', sep=\"\\t\")"
   ]
  },
  {
   "cell_type": "code",
   "execution_count": 31,
   "metadata": {
    "collapsed": true
   },
   "outputs": [],
   "source": [
    "sp_norm=pd.read_table('../2_Profiles_data/row_taxonomy/parsed_files/orderN0.txt', index_col=0)\n",
    "sp_norm.index.name=None\n",
    "sp_norm.drop('Nonspecific/Host')\n",
    "sp_norm=sp_norm/sp_norm.sum()\n",
    "sp_norm_a=sp_norm[['S1', 'S4', 'S7', 'S10']]\n",
    "sp_norm_b=sp_norm[['S2', 'S5', 'S8', 'S11']]\n",
    "sp_norm_c=sp_norm[['S3', 'S6', 'S9', 'S12']]\n",
    "sp_norm_a.columns=['1', '2','3','4']\n",
    "sp_norm_b.columns=['1', '2','3','4']\n",
    "sp_norm_c.columns=['1', '2','3','4']\n",
    "sp_norm_a.to_csv('../2_Profiles_data/norm_taxonomy_metabolic/site_A_order.txt', sep=\"\\t\")\n",
    "sp_norm_b.to_csv('../2_Profiles_data/norm_taxonomy_metabolic/site_B_order.txt', sep=\"\\t\")\n",
    "sp_norm_c.to_csv('../2_Profiles_data/norm_taxonomy_metabolic/site_C_order.txt', sep=\"\\t\")"
   ]
  },
  {
   "cell_type": "code",
   "execution_count": 32,
   "metadata": {
    "collapsed": true
   },
   "outputs": [],
   "source": [
    "sp_norm=pd.read_table('../2_Profiles_data/row_taxonomy/parsed_files/PhylumN0.txt', index_col=0)\n",
    "sp_norm.index.name=None\n",
    "sp_norm.drop('Nonspecific/Host')\n",
    "sp_norm=sp_norm/sp_norm.sum()\n",
    "sp_norm_a=sp_norm[['S1', 'S4', 'S7', 'S10']]\n",
    "sp_norm_b=sp_norm[['S2', 'S5', 'S8', 'S11']]\n",
    "sp_norm_c=sp_norm[['S3', 'S6', 'S9', 'S12']]\n",
    "sp_norm_a.columns=['1', '2','3','4']\n",
    "sp_norm_b.columns=['1', '2','3','4']\n",
    "sp_norm_c.columns=['1', '2','3','4']\n",
    "sp_norm_a.to_csv('../2_Profiles_data/norm_taxonomy_metabolic/site_A_phylum.txt', sep=\"\\t\")\n",
    "sp_norm_b.to_csv('../2_Profiles_data/norm_taxonomy_metabolic/site_B_phylum.txt', sep=\"\\t\")\n",
    "sp_norm_c.to_csv('../2_Profiles_data/norm_taxonomy_metabolic/site_C_phylum.txt', sep=\"\\t\")"
   ]
  },
  {
   "cell_type": "code",
   "execution_count": null,
   "metadata": {
    "collapsed": true
   },
   "outputs": [],
   "source": []
  }
 ],
 "metadata": {
  "kernelspec": {
   "display_name": "Python 3",
   "language": "python",
   "name": "python3"
  },
  "language_info": {
   "codemirror_mode": {
    "name": "ipython",
    "version": 3
   },
   "file_extension": ".py",
   "mimetype": "text/x-python",
   "name": "python",
   "nbconvert_exporter": "python",
   "pygments_lexer": "ipython3",
   "version": "3.5.2"
  }
 },
 "nbformat": 4,
 "nbformat_minor": 2
}
