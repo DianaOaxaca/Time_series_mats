{
 "cells": [
  {
   "cell_type": "markdown",
   "metadata": {},
   "source": [
    "## Horizontal barplots "
   ]
  },
  {
   "cell_type": "code",
   "execution_count": 2,
   "metadata": {
    "collapsed": true
   },
   "outputs": [],
   "source": [
    "#Import the libraries\n",
    "%matplotlib inline\n",
    "import numpy as np\n",
    "import matplotlib.pylab as plt\n",
    "import pandas as pd\n",
    "import seaborn as sns\n",
    "from scipy import stats\n",
    "import numpy as np\n",
    "import matplotlib\n",
    "from matplotlib import cm\n",
    "#ncol = len(phy_norm.T.columns)\n",
    "ncol = 12\n",
    "values = np.linspace(0,1, ncol)\n",
    "colors_ = cm.Paired(values)\n",
    "sns.set_style(\"darkgrid\")"
   ]
  },
  {
   "cell_type": "markdown",
   "metadata": {},
   "source": [
    "### Get the most recent versions of the following libreries "
   ]
  },
  {
   "cell_type": "markdown",
   "metadata": {},
   "source": [
    "1. Pandas      =  0.20 \n",
    "2. Numpy       = 1.13\n",
    "3. Seaborn     =  0.8.0\n",
    "4. Plt matplot =  1.13.3 "
   ]
  },
  {
   "cell_type": "markdown",
   "metadata": {},
   "source": [
    "## 1. Read dataframe\n"
   ]
  },
  {
   "cell_type": "markdown",
   "metadata": {},
   "source": [
    "Profile abundances where samples are columns and taxa are rows"
   ]
  },
  {
   "cell_type": "code",
   "execution_count": 16,
   "metadata": {},
   "outputs": [
    {
     "data": {
      "text/html": [
       "<div>\n",
       "<style>\n",
       "    .dataframe thead tr:only-child th {\n",
       "        text-align: right;\n",
       "    }\n",
       "\n",
       "    .dataframe thead th {\n",
       "        text-align: left;\n",
       "    }\n",
       "\n",
       "    .dataframe tbody tr th {\n",
       "        vertical-align: top;\n",
       "    }\n",
       "</style>\n",
       "<table border=\"1\" class=\"dataframe\">\n",
       "  <thead>\n",
       "    <tr style=\"text-align: right;\">\n",
       "      <th></th>\n",
       "      <th>S1</th>\n",
       "      <th>S2</th>\n",
       "      <th>S3</th>\n",
       "      <th>S4</th>\n",
       "      <th>S5</th>\n",
       "      <th>S6</th>\n",
       "      <th>S7</th>\n",
       "      <th>S8</th>\n",
       "      <th>S9</th>\n",
       "      <th>S10</th>\n",
       "      <th>S11</th>\n",
       "      <th>S12</th>\n",
       "    </tr>\n",
       "  </thead>\n",
       "  <tbody>\n",
       "    <tr>\n",
       "      <th>Bacteria unclassified</th>\n",
       "      <td>1438</td>\n",
       "      <td>479</td>\n",
       "      <td>1550</td>\n",
       "      <td>1925</td>\n",
       "      <td>1651</td>\n",
       "      <td>1652</td>\n",
       "      <td>1938</td>\n",
       "      <td>2156</td>\n",
       "      <td>2058</td>\n",
       "      <td>2401</td>\n",
       "      <td>2537</td>\n",
       "      <td>2551</td>\n",
       "    </tr>\n",
       "    <tr>\n",
       "      <th>Rhodobacteraceae unclassified</th>\n",
       "      <td>1315</td>\n",
       "      <td>713</td>\n",
       "      <td>2648</td>\n",
       "      <td>2241</td>\n",
       "      <td>1537</td>\n",
       "      <td>600</td>\n",
       "      <td>1044</td>\n",
       "      <td>1033</td>\n",
       "      <td>998</td>\n",
       "      <td>782</td>\n",
       "      <td>417</td>\n",
       "      <td>808</td>\n",
       "    </tr>\n",
       "    <tr>\n",
       "      <th>Proteobacteria unclassified</th>\n",
       "      <td>1089</td>\n",
       "      <td>343</td>\n",
       "      <td>1418</td>\n",
       "      <td>1661</td>\n",
       "      <td>1320</td>\n",
       "      <td>1276</td>\n",
       "      <td>1591</td>\n",
       "      <td>1547</td>\n",
       "      <td>1519</td>\n",
       "      <td>1471</td>\n",
       "      <td>1283</td>\n",
       "      <td>2289</td>\n",
       "    </tr>\n",
       "    <tr>\n",
       "      <th>Alphaproteobacteria unclassified</th>\n",
       "      <td>938</td>\n",
       "      <td>360</td>\n",
       "      <td>1263</td>\n",
       "      <td>1479</td>\n",
       "      <td>919</td>\n",
       "      <td>737</td>\n",
       "      <td>1009</td>\n",
       "      <td>831</td>\n",
       "      <td>951</td>\n",
       "      <td>883</td>\n",
       "      <td>546</td>\n",
       "      <td>996</td>\n",
       "    </tr>\n",
       "    <tr>\n",
       "      <th>Actinobacteria unclassified_class_1760</th>\n",
       "      <td>648</td>\n",
       "      <td>148</td>\n",
       "      <td>612</td>\n",
       "      <td>927</td>\n",
       "      <td>669</td>\n",
       "      <td>772</td>\n",
       "      <td>1026</td>\n",
       "      <td>906</td>\n",
       "      <td>949</td>\n",
       "      <td>891</td>\n",
       "      <td>881</td>\n",
       "      <td>1140</td>\n",
       "    </tr>\n",
       "  </tbody>\n",
       "</table>\n",
       "</div>"
      ],
      "text/plain": [
       "                                          S1   S2    S3    S4    S5    S6  \\\n",
       "Bacteria unclassified                   1438  479  1550  1925  1651  1652   \n",
       "Rhodobacteraceae unclassified           1315  713  2648  2241  1537   600   \n",
       "Proteobacteria unclassified             1089  343  1418  1661  1320  1276   \n",
       "Alphaproteobacteria unclassified         938  360  1263  1479   919   737   \n",
       "Actinobacteria unclassified_class_1760   648  148   612   927   669   772   \n",
       "\n",
       "                                          S7    S8    S9   S10   S11   S12  \n",
       "Bacteria unclassified                   1938  2156  2058  2401  2537  2551  \n",
       "Rhodobacteraceae unclassified           1044  1033   998   782   417   808  \n",
       "Proteobacteria unclassified             1591  1547  1519  1471  1283  2289  \n",
       "Alphaproteobacteria unclassified        1009   831   951   883   546   996  \n",
       "Actinobacteria unclassified_class_1760  1026   906   949   891   881  1140  "
      ]
     },
     "execution_count": 16,
     "metadata": {},
     "output_type": "execute_result"
    }
   ],
   "source": [
    "genus=pd.read_table(\"/home/val/Dropbox/paper_mats/2_Profiles_data/parsed_files/genusN0.txt\", index_col=0)\n",
    "genus.index.name=None\n",
    "genus = genus.sort_values('S1', ascending=False) \n",
    "genus.head()"
   ]
  },
  {
   "cell_type": "markdown",
   "metadata": {},
   "source": [
    "## 2. Normalize data "
   ]
  },
  {
   "cell_type": "code",
   "execution_count": 15,
   "metadata": {},
   "outputs": [
    {
     "data": {
      "text/html": [
       "<div>\n",
       "<style>\n",
       "    .dataframe thead tr:only-child th {\n",
       "        text-align: right;\n",
       "    }\n",
       "\n",
       "    .dataframe thead th {\n",
       "        text-align: left;\n",
       "    }\n",
       "\n",
       "    .dataframe tbody tr th {\n",
       "        vertical-align: top;\n",
       "    }\n",
       "</style>\n",
       "<table border=\"1\" class=\"dataframe\">\n",
       "  <thead>\n",
       "    <tr style=\"text-align: right;\">\n",
       "      <th></th>\n",
       "      <th>S1</th>\n",
       "      <th>S2</th>\n",
       "      <th>S3</th>\n",
       "      <th>S4</th>\n",
       "      <th>S5</th>\n",
       "      <th>S6</th>\n",
       "      <th>S7</th>\n",
       "      <th>S8</th>\n",
       "      <th>S9</th>\n",
       "      <th>S10</th>\n",
       "      <th>S11</th>\n",
       "      <th>S12</th>\n",
       "    </tr>\n",
       "  </thead>\n",
       "  <tbody>\n",
       "    <tr>\n",
       "      <th>Bacteria unclassified</th>\n",
       "      <td>0.059515</td>\n",
       "      <td>0.034961</td>\n",
       "      <td>0.035846</td>\n",
       "      <td>0.047151</td>\n",
       "      <td>0.047101</td>\n",
       "      <td>0.079576</td>\n",
       "      <td>0.055871</td>\n",
       "      <td>0.056328</td>\n",
       "      <td>0.069912</td>\n",
       "      <td>0.089966</td>\n",
       "      <td>0.107092</td>\n",
       "      <td>0.078015</td>\n",
       "    </tr>\n",
       "    <tr>\n",
       "      <th>Rhodobacteraceae unclassified</th>\n",
       "      <td>0.054424</td>\n",
       "      <td>0.052040</td>\n",
       "      <td>0.061240</td>\n",
       "      <td>0.054891</td>\n",
       "      <td>0.043849</td>\n",
       "      <td>0.028902</td>\n",
       "      <td>0.030098</td>\n",
       "      <td>0.026988</td>\n",
       "      <td>0.033903</td>\n",
       "      <td>0.029302</td>\n",
       "      <td>0.017602</td>\n",
       "      <td>0.024710</td>\n",
       "    </tr>\n",
       "    <tr>\n",
       "      <th>Proteobacteria unclassified</th>\n",
       "      <td>0.045071</td>\n",
       "      <td>0.025035</td>\n",
       "      <td>0.032794</td>\n",
       "      <td>0.040685</td>\n",
       "      <td>0.037658</td>\n",
       "      <td>0.061464</td>\n",
       "      <td>0.045867</td>\n",
       "      <td>0.040417</td>\n",
       "      <td>0.051602</td>\n",
       "      <td>0.055118</td>\n",
       "      <td>0.054158</td>\n",
       "      <td>0.070002</td>\n",
       "    </tr>\n",
       "    <tr>\n",
       "      <th>Alphaproteobacteria unclassified</th>\n",
       "      <td>0.038821</td>\n",
       "      <td>0.026275</td>\n",
       "      <td>0.029209</td>\n",
       "      <td>0.036227</td>\n",
       "      <td>0.026218</td>\n",
       "      <td>0.035501</td>\n",
       "      <td>0.029089</td>\n",
       "      <td>0.021711</td>\n",
       "      <td>0.032306</td>\n",
       "      <td>0.033086</td>\n",
       "      <td>0.023048</td>\n",
       "      <td>0.030460</td>\n",
       "    </tr>\n",
       "    <tr>\n",
       "      <th>Actinobacteria unclassified_class_1760</th>\n",
       "      <td>0.026819</td>\n",
       "      <td>0.010802</td>\n",
       "      <td>0.014154</td>\n",
       "      <td>0.022706</td>\n",
       "      <td>0.019086</td>\n",
       "      <td>0.037187</td>\n",
       "      <td>0.029579</td>\n",
       "      <td>0.023670</td>\n",
       "      <td>0.032238</td>\n",
       "      <td>0.033386</td>\n",
       "      <td>0.037189</td>\n",
       "      <td>0.034863</td>\n",
       "    </tr>\n",
       "  </tbody>\n",
       "</table>\n",
       "</div>"
      ],
      "text/plain": [
       "                                              S1        S2        S3  \\\n",
       "Bacteria unclassified                   0.059515  0.034961  0.035846   \n",
       "Rhodobacteraceae unclassified           0.054424  0.052040  0.061240   \n",
       "Proteobacteria unclassified             0.045071  0.025035  0.032794   \n",
       "Alphaproteobacteria unclassified        0.038821  0.026275  0.029209   \n",
       "Actinobacteria unclassified_class_1760  0.026819  0.010802  0.014154   \n",
       "\n",
       "                                              S4        S5        S6  \\\n",
       "Bacteria unclassified                   0.047151  0.047101  0.079576   \n",
       "Rhodobacteraceae unclassified           0.054891  0.043849  0.028902   \n",
       "Proteobacteria unclassified             0.040685  0.037658  0.061464   \n",
       "Alphaproteobacteria unclassified        0.036227  0.026218  0.035501   \n",
       "Actinobacteria unclassified_class_1760  0.022706  0.019086  0.037187   \n",
       "\n",
       "                                              S7        S8        S9  \\\n",
       "Bacteria unclassified                   0.055871  0.056328  0.069912   \n",
       "Rhodobacteraceae unclassified           0.030098  0.026988  0.033903   \n",
       "Proteobacteria unclassified             0.045867  0.040417  0.051602   \n",
       "Alphaproteobacteria unclassified        0.029089  0.021711  0.032306   \n",
       "Actinobacteria unclassified_class_1760  0.029579  0.023670  0.032238   \n",
       "\n",
       "                                             S10       S11       S12  \n",
       "Bacteria unclassified                   0.089966  0.107092  0.078015  \n",
       "Rhodobacteraceae unclassified           0.029302  0.017602  0.024710  \n",
       "Proteobacteria unclassified             0.055118  0.054158  0.070002  \n",
       "Alphaproteobacteria unclassified        0.033086  0.023048  0.030460  \n",
       "Actinobacteria unclassified_class_1760  0.033386  0.037189  0.034863  "
      ]
     },
     "execution_count": 15,
     "metadata": {},
     "output_type": "execute_result"
    }
   ],
   "source": [
    "genus_norm=genus/genus.sum()\n",
    "genus_norm.head()"
   ]
  },
  {
   "cell_type": "markdown",
   "metadata": {},
   "source": [
    "## 3. Split dataframe (optional )"
   ]
  },
  {
   "cell_type": "markdown",
   "metadata": {},
   "source": [
    "\n",
    "In case you want to split the dataframe in to several dataframes "
   ]
  },
  {
   "cell_type": "code",
   "execution_count": 19,
   "metadata": {
    "collapsed": true
   },
   "outputs": [],
   "source": [
    "genus_norm_a=genus_norm[['S1', 'S4', 'S7', 'S10']]"
   ]
  },
  {
   "cell_type": "markdown",
   "metadata": {},
   "source": [
    "## 4. Rename  columns dataframe (optional )"
   ]
  },
  {
   "cell_type": "code",
   "execution_count": 21,
   "metadata": {},
   "outputs": [
    {
     "data": {
      "text/html": [
       "<div>\n",
       "<style>\n",
       "    .dataframe thead tr:only-child th {\n",
       "        text-align: right;\n",
       "    }\n",
       "\n",
       "    .dataframe thead th {\n",
       "        text-align: left;\n",
       "    }\n",
       "\n",
       "    .dataframe tbody tr th {\n",
       "        vertical-align: top;\n",
       "    }\n",
       "</style>\n",
       "<table border=\"1\" class=\"dataframe\">\n",
       "  <thead>\n",
       "    <tr style=\"text-align: right;\">\n",
       "      <th></th>\n",
       "      <th>Autumn 2012</th>\n",
       "      <th>Spring 2013</th>\n",
       "      <th>Autumn 2013</th>\n",
       "      <th>Spring 2014</th>\n",
       "    </tr>\n",
       "  </thead>\n",
       "  <tbody>\n",
       "    <tr>\n",
       "      <th>Bacteria unclassified</th>\n",
       "      <td>0.059515</td>\n",
       "      <td>0.047151</td>\n",
       "      <td>0.055871</td>\n",
       "      <td>0.089966</td>\n",
       "    </tr>\n",
       "    <tr>\n",
       "      <th>Rhodobacteraceae unclassified</th>\n",
       "      <td>0.054424</td>\n",
       "      <td>0.054891</td>\n",
       "      <td>0.030098</td>\n",
       "      <td>0.029302</td>\n",
       "    </tr>\n",
       "    <tr>\n",
       "      <th>Proteobacteria unclassified</th>\n",
       "      <td>0.045071</td>\n",
       "      <td>0.040685</td>\n",
       "      <td>0.045867</td>\n",
       "      <td>0.055118</td>\n",
       "    </tr>\n",
       "    <tr>\n",
       "      <th>Alphaproteobacteria unclassified</th>\n",
       "      <td>0.038821</td>\n",
       "      <td>0.036227</td>\n",
       "      <td>0.029089</td>\n",
       "      <td>0.033086</td>\n",
       "    </tr>\n",
       "    <tr>\n",
       "      <th>Actinobacteria unclassified_class_1760</th>\n",
       "      <td>0.026819</td>\n",
       "      <td>0.022706</td>\n",
       "      <td>0.029579</td>\n",
       "      <td>0.033386</td>\n",
       "    </tr>\n",
       "  </tbody>\n",
       "</table>\n",
       "</div>"
      ],
      "text/plain": [
       "                                        Autumn 2012  Spring 2013  Autumn 2013  \\\n",
       "Bacteria unclassified                      0.059515     0.047151     0.055871   \n",
       "Rhodobacteraceae unclassified              0.054424     0.054891     0.030098   \n",
       "Proteobacteria unclassified                0.045071     0.040685     0.045867   \n",
       "Alphaproteobacteria unclassified           0.038821     0.036227     0.029089   \n",
       "Actinobacteria unclassified_class_1760     0.026819     0.022706     0.029579   \n",
       "\n",
       "                                        Spring 2014  \n",
       "Bacteria unclassified                      0.089966  \n",
       "Rhodobacteraceae unclassified              0.029302  \n",
       "Proteobacteria unclassified                0.055118  \n",
       "Alphaproteobacteria unclassified           0.033086  \n",
       "Actinobacteria unclassified_class_1760     0.033386  "
      ]
     },
     "execution_count": 21,
     "metadata": {},
     "output_type": "execute_result"
    }
   ],
   "source": [
    "genus_norm_a.columns = ['Autumn 2012', 'Spring 2013', 'Autumn 2013', 'Spring 2014']\n",
    "genus_norm_a.head()"
   ]
  },
  {
   "cell_type": "markdown",
   "metadata": {},
   "source": [
    "## 5. Plot dataframe"
   ]
  },
  {
   "cell_type": "code",
   "execution_count": 25,
   "metadata": {},
   "outputs": [
    {
     "data": {
      "image/png": "[encoded data removed]",
      "text/plain": [
       "<matplotlib.figure.Figure at 0x7f7306c04b00>"
      ]
     },
     "metadata": {},
     "output_type": "display_data"
    }
   ],
   "source": [
    "ax1=genus_norm_a.T.plot(kind='barh',stacked=True,color=colors_, figsize=(12,7))\n",
    "plt.legend(bbox_to_anchor=(1, 1), loc=2, borderaxespad=0.05 ,labelspacing=0.25)\n",
    "lines, labels = ax1.get_legend_handles_labels()\n",
    "ax1.legend(lines[:30], labels[:30], bbox_to_anchor=(1, 1), loc=2, borderaxespad=0.05 ,labelspacing=0.3)  \n",
    "plt.title(\"Taxonomic profile sample\", weight='bold', size='xx-large', loc='left')\n",
    "plt.xlabel(\"Relative abundance\", weight='bold', size=\"large\" )\n",
    "plt.ylabel(\"Time\", weight=\"bold\",size=\"large\")\n",
    "plt.tight_layout()\n",
    "plt.savefig(\"MyPlot.png\", bbox_inches='tight', dpi=400)\n"
   ]
  }
 ],
 "metadata": {
  "kernelspec": {
   "display_name": "Python 3",
   "language": "python",
   "name": "python3"
  },
  "language_info": {
   "codemirror_mode": {
    "name": "ipython",
    "version": 3
   },
   "file_extension": ".py",
   "mimetype": "text/x-python",
   "name": "python",
   "nbconvert_exporter": "python",
   "pygments_lexer": "ipython3",
   "version": "3.5.2"
  }
 },
 "nbformat": 4,
 "nbformat_minor": 2
}
