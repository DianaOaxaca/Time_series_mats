{
 "cells": [
  {
   "cell_type": "markdown",
   "metadata": {},
   "source": [
    "# Network Motifs barbplots "
   ]
  },
  {
   "cell_type": "markdown",
   "metadata": {},
   "source": [
    "## 1.  Load libraries "
   ]
  },
  {
   "cell_type": "code",
   "execution_count": 1,
   "metadata": {
    "collapsed": true
   },
   "outputs": [],
   "source": [
    "%matplotlib inline\n",
    "import numpy as np\n",
    "import matplotlib.pylab as plt\n",
    "import pandas as pd\n",
    "import seaborn as sns\n",
    "from scipy import stats\n",
    "import numpy as np\n",
    "import matplotlib\n",
    "from matplotlib import cm\n",
    "ncol = 12\n",
    "values = np.linspace(0,1, ncol)\n",
    "colors_ = cm.Paired(values)\n",
    "sns.set_style(\"darkgrid\")"
   ]
  },
  {
   "cell_type": "markdown",
   "metadata": {},
   "source": [
    "## 2. Load data "
   ]
  },
  {
   "cell_type": "code",
   "execution_count": 2,
   "metadata": {
    "collapsed": true
   },
   "outputs": [],
   "source": [
    "\n",
    "consensus =pd.read_table(\"../data/Motifs_consensus.txt\",index_col=0)\n",
    "positives =pd.read_table(\"../data/Motifs_postitives.txt\",index_col=0)\n",
    "negatives =pd.read_table(\"../data/Motifs_negatives.txt\", index_col=0)\n"
   ]
  },
  {
   "cell_type": "markdown",
   "metadata": {},
   "source": [
    "## 3. Visualize dataframe "
   ]
  },
  {
   "cell_type": "code",
   "execution_count": 3,
   "metadata": {},
   "outputs": [
    {
     "data": {
      "text/html": [
       "<div>\n",
       "<style>\n",
       "    .dataframe thead tr:only-child th {\n",
       "        text-align: right;\n",
       "    }\n",
       "\n",
       "    .dataframe thead th {\n",
       "        text-align: left;\n",
       "    }\n",
       "\n",
       "    .dataframe tbody tr th {\n",
       "        vertical-align: top;\n",
       "    }\n",
       "</style>\n",
       "<table border=\"1\" class=\"dataframe\">\n",
       "  <thead>\n",
       "    <tr style=\"text-align: right;\">\n",
       "      <th></th>\n",
       "      <th>ID 6</th>\n",
       "      <th>ID 12</th>\n",
       "      <th>ID 14</th>\n",
       "      <th>ID 36</th>\n",
       "      <th>ID 38</th>\n",
       "      <th>ID 46</th>\n",
       "      <th>ID74</th>\n",
       "      <th>ID 78</th>\n",
       "      <th>ID 98</th>\n",
       "      <th>ID 102</th>\n",
       "      <th>ID 108</th>\n",
       "      <th>ID 238</th>\n",
       "    </tr>\n",
       "    <tr>\n",
       "      <th>Level</th>\n",
       "      <th></th>\n",
       "      <th></th>\n",
       "      <th></th>\n",
       "      <th></th>\n",
       "      <th></th>\n",
       "      <th></th>\n",
       "      <th></th>\n",
       "      <th></th>\n",
       "      <th></th>\n",
       "      <th></th>\n",
       "      <th></th>\n",
       "      <th></th>\n",
       "    </tr>\n",
       "  </thead>\n",
       "  <tbody>\n",
       "    <tr>\n",
       "      <th>A_P</th>\n",
       "      <td>NaN</td>\n",
       "      <td>NaN</td>\n",
       "      <td>NaN</td>\n",
       "      <td>NaN</td>\n",
       "      <td>NaN</td>\n",
       "      <td>NaN</td>\n",
       "      <td>NaN</td>\n",
       "      <td>NaN</td>\n",
       "      <td>NaN</td>\n",
       "      <td>NaN</td>\n",
       "      <td>NaN</td>\n",
       "      <td>NaN</td>\n",
       "    </tr>\n",
       "    <tr>\n",
       "      <th>A_C</th>\n",
       "      <td>NaN</td>\n",
       "      <td>NaN</td>\n",
       "      <td>NaN</td>\n",
       "      <td>NaN</td>\n",
       "      <td>NaN</td>\n",
       "      <td>NaN</td>\n",
       "      <td>NaN</td>\n",
       "      <td>NaN</td>\n",
       "      <td>NaN</td>\n",
       "      <td>NaN</td>\n",
       "      <td>NaN</td>\n",
       "      <td>NaN</td>\n",
       "    </tr>\n",
       "    <tr>\n",
       "      <th>A_O</th>\n",
       "      <td>NaN</td>\n",
       "      <td>NaN</td>\n",
       "      <td>47660.0</td>\n",
       "      <td>NaN</td>\n",
       "      <td>12227.0</td>\n",
       "      <td>NaN</td>\n",
       "      <td>NaN</td>\n",
       "      <td>NaN</td>\n",
       "      <td>NaN</td>\n",
       "      <td>NaN</td>\n",
       "      <td>NaN</td>\n",
       "      <td>NaN</td>\n",
       "    </tr>\n",
       "    <tr>\n",
       "      <th>A_F</th>\n",
       "      <td>NaN</td>\n",
       "      <td>8201.0</td>\n",
       "      <td>NaN</td>\n",
       "      <td>NaN</td>\n",
       "      <td>NaN</td>\n",
       "      <td>NaN</td>\n",
       "      <td>NaN</td>\n",
       "      <td>NaN</td>\n",
       "      <td>NaN</td>\n",
       "      <td>NaN</td>\n",
       "      <td>NaN</td>\n",
       "      <td>NaN</td>\n",
       "    </tr>\n",
       "    <tr>\n",
       "      <th>B_P</th>\n",
       "      <td>NaN</td>\n",
       "      <td>NaN</td>\n",
       "      <td>NaN</td>\n",
       "      <td>NaN</td>\n",
       "      <td>NaN</td>\n",
       "      <td>NaN</td>\n",
       "      <td>NaN</td>\n",
       "      <td>NaN</td>\n",
       "      <td>NaN</td>\n",
       "      <td>NaN</td>\n",
       "      <td>NaN</td>\n",
       "      <td>NaN</td>\n",
       "    </tr>\n",
       "  </tbody>\n",
       "</table>\n",
       "</div>"
      ],
      "text/plain": [
       "        ID 6    ID 12   ID 14   ID 36     ID 38  ID 46  ID74   ID 78  ID 98  \\\n",
       "Level                                                                         \n",
       "A_P       NaN     NaN      NaN     NaN      NaN    NaN    NaN    NaN    NaN   \n",
       "A_C       NaN     NaN      NaN     NaN      NaN    NaN    NaN    NaN    NaN   \n",
       "A_O       NaN     NaN  47660.0     NaN  12227.0    NaN    NaN    NaN    NaN   \n",
       "A_F       NaN  8201.0      NaN     NaN      NaN    NaN    NaN    NaN    NaN   \n",
       "B_P       NaN     NaN      NaN     NaN      NaN    NaN    NaN    NaN    NaN   \n",
       "\n",
       "        ID 102  ID 108  ID 238  \n",
       "Level                           \n",
       "A_P        NaN     NaN     NaN  \n",
       "A_C        NaN     NaN     NaN  \n",
       "A_O        NaN     NaN     NaN  \n",
       "A_F        NaN     NaN     NaN  \n",
       "B_P        NaN     NaN     NaN  "
      ]
     },
     "execution_count": 3,
     "metadata": {},
     "output_type": "execute_result"
    }
   ],
   "source": [
    "consensus.head()"
   ]
  },
  {
   "cell_type": "code",
   "execution_count": null,
   "metadata": {},
   "outputs": [
    {
     "name": "stderr",
     "output_type": "stream",
     "text": [
      "/usr/local/lib/python3.5/dist-packages/pandas/plotting/_core.py:179: UserWarning: 'colors' is being deprecated. Please use 'color'instead of 'colors'\n",
      "  warnings.warn((\"'colors' is being deprecated. Please use 'color'\"\n"
     ]
    }
   ],
   "source": [
    "from numpy import median\n",
    "ax=consensus.T.plot(kind='bar',figsize=(12,3), colors=colors_)\n",
    "#ax=sitea.T.plot(kind='bar',figsize=(12,4))\n",
    "plt.ylab=(\"Network motif identifier\")\n",
    "plt.title(\"Consensus Networks\", weight=\"bold\", size=\"large\")\n",
    "plt.xticks(rotation = 360)\n",
    "plt.ylim(0,5000000)\n",
    "plt.legend(bbox_to_anchor=(1, 1), loc=2, borderaxespad=0.05 ,labelspacing=0.25)\n",
    "plt.axvspan(5.5,6.5, alpha=0.1, color='salmon')\n",
    "plt.tight_layout()\n",
    "plt.savefig(\"../figures/Motifs_consensus.png\",dpi=600,bbox_inches='tight')\n",
    "\n",
    "\n",
    "ax=positives.T.plot(kind='bar',figsize=(12,3),colors=colors_)\n",
    "#ax=siteb.T.plot(kind='bar',figsize=(12,4))\n",
    "plt.ylab=(\"Network motif identifier\")\n",
    "plt.title(\"Positive Networks\", weight=\"bold\", size=\"large\")\n",
    "plt.legend(bbox_to_anchor=(1, 1), loc=2, borderaxespad=0.05 ,labelspacing=0.25)\n",
    "plt.xticks(rotation = 360)\n",
    "plt.ylim(0,5000000)\n",
    "plt.axvspan(8.5,9.5, alpha=0.3, color='lightblue')\n",
    "plt.axvspan(5.5,6.5, alpha=0.1, color='salmon')\n",
    "plt.tight_layout()\n",
    "plt.savefig(\"../figures/Motifs_positives.png\",dpi=600,bbox_inches='tight')\n",
    "\n",
    "\n",
    "ax=negatives.T.plot(kind='bar',figsize=(12,3),colors=colors_)\n",
    "plt.ylab=(\"Network motif identifier\")\n",
    "plt.title(\"Negative Networks\", weight=\"bold\", size=\"large\")\n",
    "plt.legend(bbox_to_anchor=(1, 1), loc=2, borderaxespad=0.05 ,labelspacing=0.25)\n",
    "plt.xticks(rotation = 360)\n",
    "plt.ylim(0,5000000)\n",
    "plt.axvspan(5.5,6.5, alpha=0.1, color='salmon')\n",
    "plt.tight_layout()\n",
    "plt.savefig(\"../figures/Motifs.png\",dpi=600,bbox_inches='tight')\n"
   ]
  },
  {
   "cell_type": "code",
   "execution_count": null,
   "metadata": {
    "collapsed": true
   },
   "outputs": [],
   "source": []
  }
 ],
 "metadata": {
  "kernelspec": {
   "display_name": "Python 3",
   "language": "python",
   "name": "python3"
  },
  "language_info": {
   "codemirror_mode": {
    "name": "ipython",
    "version": 3
   },
   "file_extension": ".py",
   "mimetype": "text/x-python",
   "name": "python",
   "nbconvert_exporter": "python",
   "pygments_lexer": "ipython3",
   "version": "3.5.2"
  }
 },
 "nbformat": 4,
 "nbformat_minor": 2
}
